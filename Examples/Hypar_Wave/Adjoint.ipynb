{
 "cells": [
  {
   "cell_type": "code",
   "execution_count": 19,
   "id": "2dc315fd",
   "metadata": {},
   "outputs": [],
   "source": [
    "import numpy as np\n",
    "import jax.numpy as jnp\n",
    "from jax import jacfwd,jacrev,grad"
   ]
  },
  {
   "cell_type": "code",
   "execution_count": 16,
   "id": "fe3debd8",
   "metadata": {},
   "outputs": [],
   "source": [
    "def K(p):\n",
    "    mat = jnp.eye(5)*(p**3+2*p+1)\n",
    "    return mat\n",
    "def f(p):\n",
    "    return jnp.ones(5)*1/p\n",
    "def u(p):\n",
    "    return jnp.linalg.solve(K(p),f(p))\n",
    "def C(p):\n",
    "    return 0.5*f(p)@u(p)"
   ]
  },
  {
   "cell_type": "code",
   "execution_count": 20,
   "id": "e0aa70ae",
   "metadata": {},
   "outputs": [
    {
     "data": {
      "text/plain": [
       "Array(-0.00071042, dtype=float32, weak_type=True)"
      ]
     },
     "execution_count": 20,
     "metadata": {},
     "output_type": "execute_result"
    }
   ],
   "source": [
    "grad(C)(5.)"
   ]
  },
  {
   "cell_type": "code",
   "execution_count": 25,
   "id": "325558cf",
   "metadata": {},
   "outputs": [],
   "source": [
    "def adjoint_sens(p):\n",
    "    \n",
    "    return jacfwd(f)(p)@u(p) - 0.5 * u(p).T@jacfwd(K)(p)@u(p)"
   ]
  },
  {
   "cell_type": "code",
   "execution_count": 26,
   "id": "d143d191",
   "metadata": {},
   "outputs": [
    {
     "data": {
      "text/plain": [
       "Array(-0.00071042, dtype=float32)"
      ]
     },
     "execution_count": 26,
     "metadata": {},
     "output_type": "execute_result"
    }
   ],
   "source": [
    "adjoint_sens(5.)"
   ]
  }
 ],
 "metadata": {
  "kernelspec": {
   "display_name": "jax-gpu [~/.conda/envs/jax-gpu/]",
   "language": "python",
   "name": "conda_jax-gpu"
  },
  "language_info": {
   "codemirror_mode": {
    "name": "ipython",
    "version": 3
   },
   "file_extension": ".py",
   "mimetype": "text/x-python",
   "name": "python",
   "nbconvert_exporter": "python",
   "pygments_lexer": "ipython3",
   "version": "3.11.6"
  }
 },
 "nbformat": 4,
 "nbformat_minor": 5
}
