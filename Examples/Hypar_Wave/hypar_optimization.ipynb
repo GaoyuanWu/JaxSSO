{
 "cells": [
  {
   "cell_type": "code",
   "execution_count": 1,
   "id": "1cccd244",
   "metadata": {},
   "outputs": [],
   "source": [
    "import hypar as hp\n",
    "import numpy as np\n",
    "from scipy.optimize import fsolve"
   ]
  },
  {
   "cell_type": "markdown",
   "id": "3d2faf08",
   "metadata": {},
   "source": [
    "# Parameters for waves and hypar.\n",
    "The wave force is obtained using Epirical Formula."
   ]
  },
  {
   "cell_type": "code",
   "execution_count": 8,
   "id": "f67c5c7d",
   "metadata": {},
   "outputs": [],
   "source": [
    "# Parameters that define Hypar Geometry\n",
    "b1 = 4 #longitudinal dimension of lower panel\n",
    "b2 = 4 #longitudinal dimension of upper panel\n",
    "\n",
    "c1 = 4 #Left transverse dimension\n",
    "c2 = 4 #Right transverse dimension\n",
    "\n",
    "A = (b1+b2)*(c1+c2) #Projected area\n",
    "r = 0.03*A #Rise, quantifies how warpped the structure is\n",
    "\n",
    "\n",
    "\n",
    "theta_star = 0 * np.pi / 180 # angle of inclination\n",
    "h_star = (b1+b2)*np.sin(theta_star)#Height\n",
    "\n",
    "#FEM discretization\n",
    "n_b1 = 12 #Number of quad elements along longitudinal direction of lower panel\n",
    "n_b2 = 12 #Number of quad elements along longitudinal direction of upper panel\n",
    "\n",
    "n_c1 = 12 #Number of quad elements along transverse direction of left panel\n",
    "n_c2 = 12 #Number of quad elements along transverse direction of right panel\n",
    "\n"
   ]
  },
  {
   "cell_type": "code",
   "execution_count": 9,
   "id": "7f9e7a64",
   "metadata": {},
   "outputs": [],
   "source": [
    "#Wave characteristics\n",
    "Hw = 1 #Wave height for goda, doesn't matter here\n",
    "dw = 4 #Inundation\n",
    "d = 9 #Water depth\n",
    "g = 9.8 #gravitational accel.\n",
    "T = 6 #Wave period\n",
    "\n",
    "def eq_k (k,d=d,g=g):\n",
    "    return 2*np.pi/T - np.sqrt(g*k * np.tanh(k*d))\n",
    "def wavenum_k(T,d):\n",
    "    return abs(fsolve(eq_k,1))\n",
    "def lbd(T,d,g):\n",
    "    k = abs(fsolve(eq_k,1))\n",
    "    return k,2*np.pi / k\n",
    "Lw = float((lbd(T,d,g))[1][0]) #Wavelength\n",
    "\n",
    "#Structure's position to the slope top\n",
    "d_to_stop = 0\n",
    "#Slope value\n",
    "bot_x = 80\n",
    "top_x = 116\n",
    "slope = (d-dw)/(bot_x-top_x)\n",
    "\n",
    "if (5*Hw-d_to_stop) >= (d-dw)/slope:\n",
    "    hb = d\n",
    "elif (5*Hw-d_to_stop) <= 0:\n",
    "    hb = dw\n",
    "else:\n",
    "    hb =dw + (5*Hw-d_to_stop)*slope"
   ]
  },
  {
   "cell_type": "code",
   "execution_count": 10,
   "id": "5df0a290",
   "metadata": {},
   "outputs": [
    {
     "name": "stderr",
     "output_type": "stream",
     "text": [
      "/home/gaoyuanw/Github/JaxSSO/Examples/Hypar_Wave/hypar.py:254: RuntimeWarning: invalid value encountered in scalar divide\n",
      "  l1_prime = l1_prime / np.sin(theta_1[i])\n",
      "/home/gaoyuanw/Github/JaxSSO/Examples/Hypar_Wave/hypar.py:256: RuntimeWarning: divide by zero encountered in scalar divide\n",
      "  l2_prime = l2_prime / np.sin(theta_2[i])\n",
      "/home/gaoyuanw/Github/JaxSSO/Examples/Hypar_Wave/hypar.py:257: RuntimeWarning: divide by zero encountered in divide\n",
      "  l1 = min(dw,hv) / np.sin(theta_1[i])\n",
      "/home/gaoyuanw/Github/JaxSSO/Examples/Hypar_Wave/hypar.py:258: RuntimeWarning: divide by zero encountered in divide\n",
      "  l2 = Macaulay(dw - hv) / np.sin(theta_2[i])\n"
     ]
    }
   ],
   "source": [
    "Sym_coord, StaticP_Area, StaticP_val, StaticP_vec, WaveP_Area, WaveP_vec, WaveP_val,nk,Tri_A = hp.getCoordNForce(n_c1,n_c2,n_b1,n_b2,dw,theta_star,r,c1,c2,b1,b2,Hw,hb,d,Lw) #Get coordinates & nodes\n",
    "Area_cnct = hp.getShellConnectivity(n_c1,n_c2,n_b1,n_b2)"
   ]
  },
  {
   "cell_type": "code",
   "execution_count": 11,
   "id": "5df41c6d",
   "metadata": {},
   "outputs": [
    {
     "data": {
      "text/plain": [
       "array([[ 0.   ,  4.   ,  0.   ],\n",
       "       [ 0.   ,  3.667, -0.   ],\n",
       "       [ 0.   ,  3.333, -0.   ],\n",
       "       ...,\n",
       "       [ 8.   , -3.333, -0.   ],\n",
       "       [ 8.   , -3.667, -0.   ],\n",
       "       [ 8.   , -4.   ,  0.   ]])"
      ]
     },
     "execution_count": 11,
     "metadata": {},
     "output_type": "execute_result"
    }
   ],
   "source": [
    "Sym_coord"
   ]
  },
  {
   "cell_type": "markdown",
   "id": "2e709e31",
   "metadata": {},
   "source": [
    "# Single-instance ML v.s. Gradient Descent\n",
    "\n",
    "Goal:\n",
    "1. Find the best hypar geometry (characterized by $r$ and $\\theta$,b1,b2) under waves loads (characterized by wave heights, periods, etc.)\n",
    "2. Wave force: use empirical formula to approximate\n",
    "3. Linear FEA: [K]{u}={f}\n",
    "\n",
    "Why ML instead of direct gradient-based shape optimization?:\n",
    "1. IDK\n",
    "\n",
    "ML-Input (A wave scenario)\n",
    "1. Wave characteristics (H,T)\n",
    "\n",
    "ML-Output (direct)/Shape input:\n",
    "1. $r$ rise of hypar\n",
    "2. $\\theta$ inclination angle\n",
    "3. $b_1,b_2$ quantifies the longitudinal assymetry\n",
    "\n",
    "Shape inputs determine:\n",
    "1. wave forces (Goda empirical)\n",
    "2. structural response (strain energy)\n",
    "3. mass of structure (material)\n",
    "\n",
    "ML-loss:\n",
    "1. A weighted form of strain energy + material usage\n",
    "\n",
    "\n",
    "Train a **single-instance** ML model:\n",
    "Inputs (wave condition) -> ML-model -> Outputs (structural parameters) -> strain energy (Loss)\n",
    "\n",
    "By updating ML-model and minimizing loss, the outputs are found: the best structure under such wave condition"
   ]
  },
  {
   "cell_type": "code",
   "execution_count": null,
   "id": "47ca9b1d",
   "metadata": {},
   "outputs": [],
   "source": []
  }
 ],
 "metadata": {
  "kernelspec": {
   "display_name": "jax-gpu [~/.conda/envs/jax-gpu/]",
   "language": "python",
   "name": "conda_jax-gpu"
  },
  "language_info": {
   "codemirror_mode": {
    "name": "ipython",
    "version": 3
   },
   "file_extension": ".py",
   "mimetype": "text/x-python",
   "name": "python",
   "nbconvert_exporter": "python",
   "pygments_lexer": "ipython3",
   "version": "3.11.6"
  }
 },
 "nbformat": 4,
 "nbformat_minor": 5
}
