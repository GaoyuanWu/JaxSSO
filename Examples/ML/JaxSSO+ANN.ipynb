{
 "cells": [
  {
   "cell_type": "markdown",
   "metadata": {
    "id": "n6fzFme1kNDU"
   },
   "source": [
    "[![Open In Colab](https://colab.research.google.com/assets/colab-badge.svg)](https://colab.research.google.com/github/GaoyuanWu/JaxSSO/blob/main/Examples/Mannheim_Multihalle.ipynb)"
   ]
  },
  {
   "cell_type": "code",
   "execution_count": null,
   "metadata": {},
   "outputs": [],
   "source": [
    "!pip install JaxSSO\n",
    "!pip install nlopt"
   ]
  },
  {
   "cell_type": "code",
   "execution_count": 1,
   "metadata": {
    "id": "WPAT5cCFV266"
   },
   "outputs": [
    {
     "name": "stderr",
     "output_type": "stream",
     "text": [
      "/tmp/ipykernel_4036434/253071450.py:11: DeprecationWarning: \n",
      "Pyarrow will become a required dependency of pandas in the next major release of pandas (pandas 3.0),\n",
      "(to allow more performant data types, such as the Arrow string type, and better interoperability with other libraries)\n",
      "but was not found to be installed on your system.\n",
      "If this would cause problems for you,\n",
      "please provide us feedback at https://github.com/pandas-dev/pandas/issues/54466\n",
      "        \n",
      "  import pandas as pd\n"
     ]
    }
   ],
   "source": [
    "import sys\n",
    "sys.path.append('/home/gaoyuanw/Github/JaxSSO')\n",
    "import JaxSSO.model as Model \n",
    "import JaxSSO.optimization as optimization\n",
    "from JaxSSO import assemblemodel,solver\n",
    "from JaxSSO.SSO_model import NodeParameter,SSO_model\n",
    "import numpy as np\n",
    "import jax\n",
    "import jax.numpy as jnp\n",
    "import matplotlib.pyplot as plt\n",
    "import pandas as pd"
   ]
  },
  {
   "cell_type": "markdown",
   "metadata": {
    "id": "z7Lf-dGMzf_A"
   },
   "source": [
    "# Define the objective function and the gradient of the objective\n",
    "\n",
    "*   Import the geometry, mesh\n",
    "*   Build the FEA model\n",
    "*   Build the SSO model\n",
    "\n"
   ]
  },
  {
   "cell_type": "markdown",
   "metadata": {
    "id": "9afPsQti5jJo"
   },
   "source": [
    "Import the data needed"
   ]
  },
  {
   "cell_type": "code",
   "execution_count": 2,
   "metadata": {
    "id": "ojJ7CEWVzsXL"
   },
   "outputs": [],
   "source": [
    "local_path = '../Data/Mannheim_Quad/' #path of the file\n",
    "df = pd.read_csv(local_path + 'cnct.csv',header=None) #Connectivity matrix\n",
    "n_ele = (df.to_numpy().shape[0]+1)//4 #number of elements\n",
    "cnct = np.zeros((n_ele,4),dtype=int)\n",
    "for i in range(n_ele):\n",
    "    cnct[i,:] = df.to_numpy().ravel()[i*4:i*4+4]\n",
    "\n",
    "df2 = pd.read_csv(local_path + 'crd_x.csv',header=None)\n",
    "df3 = pd.read_csv(local_path + 'crd_y.csv',header=None)\n",
    "df4 = pd.read_csv(local_path + 'crd_z.csv',header=None)\n",
    "x_nodes = df2.to_numpy().ravel()\n",
    "y_nodes = df3.to_numpy().ravel()\n",
    "z_nodes = df4.to_numpy().ravel()\n",
    "df5 = pd.read_csv(local_path + 'bc_node.csv',header=None)\n",
    "bc_nodes =df5.to_numpy().ravel()\n",
    "n_node = x_nodes.shape[0] #number of nodes\n",
    "#Normalize the coordinates\n",
    "xs = x_nodes-min(x_nodes)\n",
    "ys = y_nodes-min(y_nodes)\n",
    "x_span = max(xs) - min(xs)\n",
    "y_span = max(ys)-min(ys)\n",
    "\n",
    "zs = 4*np.array([1.16650095, 3.62250162, 0.63325483, 0.77655229, 1.31265331,\n",
    "       1.68669962, 1.3108091 , 0.70937376, 0.75285485, 0.75147257,\n",
    "       3.72966479, 3.33904017, 3.2852944 , 3.68587899, 3.94246337,\n",
    "       3.28325979, 0.40413206, 0.50044157, 0.66623939, 1.16997263,\n",
    "       1.38378168, 0.75926339, 0.93162776, 1.10626873, 0.62429206,\n",
    "       0.48496525, 0.52765893, 0.37263336, 0.48602284, 0.37234998,\n",
    "       0.62823902, 1.11117905, 1.51770931, 1.83650319, 1.33985457,\n",
    "       1.35554889, 1.85021962, 2.24377223, 2.54619062, 2.07800999,\n",
    "       2.11718138, 2.57550883, 2.93027954, 3.18962572, 2.76603404,\n",
    "       2.84413549, 3.24312633, 3.53590915, 3.72819718, 3.35961348,\n",
    "       3.49551447, 3.81602071, 4.02678719, 4.13139956, 3.82381225,\n",
    "       4.03920535, 4.26486464, 4.37663276, 4.37626722, 4.13169936,\n",
    "       4.4501666 , 4.56733296, 4.56619375, 4.44693168, 4.26387636,\n",
    "       4.70967206, 4.70757647, 4.58283105, 4.3342407 , 4.20815888,\n",
    "       4.80494237, 4.67590867, 4.42017962, 4.03530249, 3.95912661,\n",
    "       4.72901498, 4.46859995, 4.07778906, 3.5529028 , 3.51744802,\n",
    "       4.48074946, 4.08768435, 3.56068427, 2.89479812, 2.88902319,\n",
    "       4.06484793, 3.54068514, 2.87879948, 2.07288733, 2.08401889,\n",
    "       3.49174221, 2.84016068, 2.0462311 , 1.10224328, 1.11583318,\n",
    "       2.77720325, 2.00296643, 1.08024217, 0.        , 0.        ,\n",
    "       1.94152254, 1.04909232, 0.        , 1.00793791, 0.        ,\n",
    "       0.95605401, 0.        , 0.89348999, 0.        , 0.82272567,\n",
    "       0.        , 0.        , 0.        , 0.        , 0.81904075,\n",
    "       0.        , 0.88612716, 0.        , 0.94339533, 0.        ,\n",
    "       0.98836827, 0.        , 1.02138229, 0.        , 1.0441208 ,\n",
    "       0.        , 1.05915698, 0.        , 1.0697462 , 0.        ,\n",
    "       1.07933857, 0.        , 1.09038619, 0.        , 1.10285587,\n",
    "       0.        , 1.11533725, 0.        , 1.12617231, 0.        ,\n",
    "       1.13396352, 0.        , 1.13765824, 0.        , 1.13645844,\n",
    "       0.        , 1.12969115, 0.        , 1.11668911, 0.        ,\n",
    "       1.09668975, 0.        , 1.06874455, 0.        , 1.03162437,\n",
    "       0.        , 0.98370166, 0.        , 0.92278552, 0.        ,\n",
    "       0.8458956 , 0.        , 0.74908755, 0.        , 0.        ,\n",
    "       0.        , 0.        , 0.31018502, 0.        , 0.27900664,\n",
    "       0.        , 0.26406092, 0.        , 0.25720765, 0.        ,\n",
    "       0.25454901, 0.        , 0.34355399, 0.33977273, 0.25720616,\n",
    "       0.25454852, 0.        , 0.        , 0.26405546, 0.        ,\n",
    "       0.27898629, 0.        , 0.31010909, 0.        , 0.        ,\n",
    "       0.        , 0.        , 0.73926761, 0.        , 0.82625715,\n",
    "       0.        , 0.88838222, 0.        , 0.92854509, 0.        ,\n",
    "       0.94861997, 0.        , 0.94959274, 0.        , 0.93174535,\n",
    "       0.        , 0.89478731, 0.        , 0.83800111, 0.        ,\n",
    "       0.76058996, 0.        , 0.66272225, 0.        , 0.54849585,\n",
    "       0.        , 0.43296673, 0.        , 0.35046502, 0.        ,\n",
    "       0.30178512, 0.        , 0.27574564, 0.        , 0.26253666,\n",
    "       0.        , 0.25603213, 0.        , 0.25288289, 0.        ,\n",
    "       0.25137332, 0.        , 0.25065481, 0.        , 0.25031623,\n",
    "       0.        , 0.25016191, 0.        , 0.25010216, 0.        ,\n",
    "       0.33356257, 0.33347789, 0.2501623 , 0.25010229, 0.        ,\n",
    "       0.        , 0.25031766, 0.        , 0.25066013, 0.        ,\n",
    "       0.25139318, 0.        , 0.25295702, 0.        , 0.25630877,\n",
    "       0.        , 0.2635691 , 0.        , 0.27959876, 0.        ,\n",
    "       0.31616516, 0.        , 0.        , 0.        , 0.        ,\n",
    "       0.85335037, 0.        , 0.9271843 , 0.        , 0.98567187,\n",
    "       0.        , 1.03159921, 0.        , 1.06683462, 0.        ,\n",
    "       1.09269767, 0.        , 1.11010191, 0.        , 1.11962301,\n",
    "       0.        , 1.12153544, 0.        , 0.        , 2.08018801,\n",
    "       2.0614203 , 2.86153714, 2.02718748, 2.81159037, 3.45338297,\n",
    "       2.73758722, 3.35870024, 3.84691358, 3.23025049, 3.69500195,\n",
    "       4.03788288, 3.49829417, 3.81782768, 4.02775699, 3.54071001,\n",
    "       3.73095788, 3.82470701, 3.36399083, 3.4456919 , 3.44427856,\n",
    "       2.98312452, 2.98132997, 2.90968577, 2.42156437, 2.36509893,\n",
    "       2.2519674 , 1.71051151, 1.63205997, 1.51071209, 1.74967538,\n",
    "       1.75133899, 2.42348652, 2.37125154, 1.71593466, 2.91532302,\n",
    "       2.77625852, 2.26359529, 3.19732386, 2.94166939, 2.56212524,\n",
    "       3.25006398, 2.85291565, 2.59049783, 3.06361642, 2.5063387 ,\n",
    "       2.34081772, 2.6370167 , 1.9072237 , 1.81723731, 1.97637492,\n",
    "       1.70304828, 1.56028714, 2.13430156, 1.87893689, 2.26643806,\n",
    "       1.56455958, 1.86752561, 2.09746833, 1.37496982, 1.52996051,\n",
    "       1.64273611, 1.17513652, 0.37199411, 0.41426316, 0.35170221,\n",
    "       0.34204231, 0.33745945, 0.3352889 , 0.33426301, 0.33378153,\n",
    "       0.37511394, 0.42243341, 0.35336274, 1.54504268, 1.69487817,\n",
    "       2.33128772, 1.81373007, 2.50228919, 3.05995243, 2.63751988,\n",
    "       3.23120388, 3.69629176, 3.36438479, 3.85257665, 4.21297763,\n",
    "       3.96998575, 4.34329526, 4.58882451, 4.43472649, 4.68549745,\n",
    "       4.80828762, 4.7434845 , 4.86637193, 4.86133005, 4.88571889,\n",
    "       4.87832424, 4.74355458, 4.85602679, 4.71946298, 4.45649229,\n",
    "       4.65511161, 4.39424211, 4.00786328, 4.29083459, 3.91395419,\n",
    "       3.4115931 , 3.77885914, 3.29680607, 2.68742611, 3.14267926,\n",
    "       2.56750593, 1.85993863, 2.41331304, 1.75612149, 2.21988508,\n",
    "       1.6285136 , 1.98100542, 1.47789117, 2.6900416 , 2.37287915,\n",
    "       1.97566399, 2.67813891, 2.20451392, 1.6154059 , 1.4718966 ,\n",
    "       2.38218022, 1.73241923, 2.51428766, 1.82202881, 2.60613857,\n",
    "       1.8863734 , 2.663854  , 1.92927728, 2.6954535 , 1.95609425,\n",
    "       2.71222798, 1.97382258, 2.72970938, 1.99055522, 2.76409325,\n",
    "       2.01268367, 2.8082731 , 2.03903337, 2.85285754, 2.06565416,\n",
    "       2.89103718, 2.0887218 , 2.91853121, 2.10535688, 2.93267785,\n",
    "       2.11354433, 2.93165093, 2.11181769, 2.91391715, 2.09895038,\n",
    "       2.87787065, 2.07370887, 2.82157199, 2.03465868, 2.74253519,\n",
    "       1.97999742, 1.9073846 , 3.46455678, 3.53561793, 4.05284764,\n",
    "       3.58052997, 4.10439374, 4.49059894, 4.12693174, 4.51312437,\n",
    "       4.76480301, 4.50349713, 4.75021762, 4.86670971, 4.69919397,\n",
    "       4.80820889, 4.79294354, 4.70732165, 4.68576022, 4.54713114,\n",
    "       4.52897789, 4.39015148, 4.14134424, 4.17648598, 3.93886508,\n",
    "       3.59666539, 3.67429806, 3.3595914 , 2.94307299, 3.05766251,\n",
    "       3.33621146, 2.91083341, 3.53538519, 3.08013637, 3.66266864,\n",
    "       3.19337255, 3.72465555, 3.25787997, 3.72862452, 3.28297111,\n",
    "       4.08278241, 4.05432575, 4.35488708, 4.29676603, 4.1333173 ,\n",
    "       4.47786733, 4.27938581, 3.95185894, 3.84798732, 3.47979906,\n",
    "       3.41044158, 4.03359689, 3.53737151, 4.09065742, 3.57838626,\n",
    "       4.1220178 , 3.60031824, 3.60152439, 4.46196205, 4.38783302,\n",
    "       4.60972066, 4.55893015, 4.31440305, 4.0305946 , 3.89585762])\n",
    "xs = xs\n",
    "ys = ys\n",
    "\n",
    "xs_const = xs\n",
    "ys_const = ys"
   ]
  },
  {
   "cell_type": "code",
   "execution_count": 3,
   "metadata": {
    "id": "uufRVSPC08n6"
   },
   "outputs": [],
   "source": [
    "#Properties, design nodes, load;\n",
    "t = 0.1\n",
    "E = 1e10\n",
    "nu = 0.3 \n",
    "design_nodes = []\n",
    "non_design_nodes = []\n",
    "for i in range(n_node):\n",
    "    if i in bc_nodes:\n",
    "      non_design_nodes.append(i)\n",
    "      \n",
    "    else:\n",
    "      design_nodes.append(i)\n",
    "      #zs[i] = np.random.uniform(0.5,0.51)#random_z\n",
    "design_nodes = np.asarray(design_nodes)\n",
    "load = 5000\n",
    "\n"
   ]
  },
  {
   "cell_type": "markdown",
   "metadata": {},
   "source": [
    "Disjoin a quad into 4-edges"
   ]
  },
  {
   "cell_type": "code",
   "execution_count": 4,
   "metadata": {},
   "outputs": [],
   "source": [
    "raw_cnct_bar = []\n",
    "raw_cnct = df.to_numpy().ravel()\n",
    "for i in range(n_ele):\n",
    "  raw_cnct_bar.append([raw_cnct[i*4],raw_cnct[i*4+1]])\n",
    "  raw_cnct_bar.append([raw_cnct[i*4+1],raw_cnct[i*4+2]])\n",
    "  raw_cnct_bar.append([raw_cnct[i*4+2],raw_cnct[i*4+3]])\n",
    "  raw_cnct_bar.append([raw_cnct[i*4+3],raw_cnct[i*4]])\n",
    "\n",
    "raw_cnct_bar = np.asarray(raw_cnct_bar) # with duplication\n",
    "\n",
    "cnct_bar = []\n",
    "for i in range(n_node):\n",
    "  temp_list = []\n",
    "  rows_i = np.argwhere(raw_cnct_bar==i)[:,0]\n",
    "  cols_i = np.argwhere(raw_cnct_bar==i)[:,1]\n",
    "  for j in range(rows_i.shape[0]):\n",
    "    if cols_i[j] == 0:\n",
    "      if raw_cnct_bar[rows_i[j],1] not in temp_list:\n",
    "        temp_list.append(i)\n",
    "        temp_list.append(raw_cnct_bar[rows_i[j],1])\n",
    "    else:\n",
    "      if raw_cnct_bar[rows_i[j],0] not in temp_list:\n",
    "        temp_list.append(i)\n",
    "        temp_list.append(raw_cnct_bar[rows_i[j],0])\n",
    "  raw_cnct_bar = np.delete(raw_cnct_bar,rows_i,0)\n",
    "  cnct_bar.extend(temp_list)\n",
    "cnct_bar = np.asarray(cnct_bar,dtype=int)\n",
    "cnct_network = cnct_bar.reshape(cnct_bar.shape[0]//2,2)\n",
    "\n",
    "n_ele_bar = cnct_network.shape[0]\n",
    "x_ele = np.zeros((n_ele_bar,2)) #x of the elements\n",
    "y_ele = np.zeros((n_ele_bar,2))\n",
    "z_ele = np.zeros((n_ele_bar,2))"
   ]
  },
  {
   "cell_type": "markdown",
   "metadata": {
    "id": "BwBZ0yNN5vUk"
   },
   "source": [
    "The initial structure, visualization"
   ]
  },
  {
   "cell_type": "code",
   "execution_count": null,
   "metadata": {},
   "outputs": [],
   "source": [
    "%matplotlib inline\n",
    "\n",
    "\n",
    "for i in range(n_ele_bar):\n",
    "  x_ele[i,:] = [xs[cnct_network[i,0]],xs[cnct_network[i,1]]]\n",
    "  y_ele[i,:] = [ys[cnct_network[i,0]],ys[cnct_network[i,1]]]\n",
    "  z_ele[i,:] = [zs[cnct_network[i,0]],zs[cnct_network[i,1]]]\n",
    "\n",
    "fig = plt.figure(figsize=(15,8))\n",
    "ax = fig.add_subplot(projection='3d')\n",
    "ax.set_zlim(0,80)\n",
    "ax.set_xlabel('X (m)',fontsize=15)\n",
    "ax.set_ylabel('Y (m)',fontsize=15)\n",
    "ax.set_zlabel('Z (m)',fontsize=15)\n",
    "ax.tick_params(axis='both', which='major', labelsize=14)\n",
    "ax.tick_params(axis='both', which='minor', labelsize=14)\n",
    "#Plot a basic wireframe.\n",
    "for i in range(n_ele_bar):\n",
    "  ax.plot([x_ele[i,0],x_ele[i,1]],[y_ele[i,0],y_ele[i,1]],[z_ele[i,0],z_ele[i,1]],color='darkcyan')\n",
    "\n",
    "\n",
    "ax.scatter(xs[non_design_nodes],ys[non_design_nodes],zs[non_design_nodes],color='black',label='Non-design nodes')\n",
    "ax.scatter(xs[non_design_nodes],ys[non_design_nodes],zs[non_design_nodes],s=150,marker='^',alpha=0.2,color='black')\n",
    "ax.view_init(30, -105)\n",
    "plt.legend(fontsize=17, loc=(0.5,0.7))\n",
    "ax.grid(False)\n",
    "ax.xaxis.set_pane_color((1.0, 1.0, 1.0, 1.0))\n",
    "ax.yaxis.set_pane_color((1.0, 1.0, 1.0, 1.0))\n",
    "ax.zaxis.set_pane_color((1.0, 1.0, 1.0, 1.0))\n",
    "plt.show()"
   ]
  },
  {
   "cell_type": "markdown",
   "metadata": {},
   "source": [
    "# Direct optimization w/o any filter"
   ]
  },
  {
   "cell_type": "markdown",
   "metadata": {},
   "source": [
    "## Create FEA model"
   ]
  },
  {
   "cell_type": "code",
   "execution_count": 6,
   "metadata": {},
   "outputs": [],
   "source": [
    "#Create model\n",
    "model = Model.Model() #model for sensitivity analysis\n",
    "\n",
    "#Adding nodes and boundary conditions\n",
    "for i in range(n_node):\n",
    "    model.add_node(i,xs[i],ys[i],zs[i])\n",
    "    if i not in design_nodes:\n",
    "        model.add_support(i,[1,1,1,1,1,1])\n",
    "    else:\n",
    "        model.add_nodal_load(i,nodal_load=[0.0,0.0,-load,0.0,0.0,0.0])\n",
    "\n",
    "#Adding elements\n",
    "for i in range(n_ele):\n",
    "    inode = cnct[i,0]\n",
    "    jnode = cnct[i,1]\n",
    "    mnode = cnct[i,2]\n",
    "    nnode = cnct[i,3]\n",
    "    model.add_quad(i,inode, jnode, mnode, nnode, \n",
    "                t, E, nu)\n",
    "\n",
    "model.model_ready()"
   ]
  },
  {
   "cell_type": "markdown",
   "metadata": {},
   "source": [
    "# SSO model based on FEA model"
   ]
  },
  {
   "cell_type": "code",
   "execution_count": 7,
   "metadata": {},
   "outputs": [],
   "source": [
    "# Start the SSO model\n",
    "sso_model = SSO_model(model) # initial sso model\n",
    "for node in design_nodes:\n",
    "    nodeparameter = NodeParameter(node,2) # nodeparamter object\n",
    "    sso_model.add_nodeparameter(nodeparameter)\n",
    "\n",
    "#Initial the parameters\n",
    "sso_model.initialize_nodeparameters_values()\n",
    "sso_model.set_objective(objective='strain energy',func=None,func_args=None)"
   ]
  },
  {
   "cell_type": "code",
   "execution_count": 8,
   "metadata": {},
   "outputs": [
    {
     "name": "stdout",
     "output_type": "stream",
     "text": [
      "225 ms ± 4.9 ms per loop (mean ± std. dev. of 7 runs, 1 loop each)\n"
     ]
    }
   ],
   "source": [
    "%timeit sso_model.value_grad_params(which_solver='sparse',enforce_scipy_sparse = True)"
   ]
  },
  {
   "cell_type": "code",
   "execution_count": 9,
   "metadata": {},
   "outputs": [
    {
     "data": {
      "text/plain": [
       "(Array(244.67623472, dtype=float64),\n",
       " Array([-3.08042973e+00, -2.83626213e+00,  2.19038300e-01, -3.05763011e-01,\n",
       "        -1.29935816e+01, -4.61217572e+00, -8.22113519e+00,  3.89189745e-01,\n",
       "        -2.28996381e+00,  6.57865084e+00, -3.58366000e+00,  1.77237706e+00,\n",
       "         1.61882216e+00, -5.09168268e+00, -6.08688564e+00,  8.56471662e-01,\n",
       "         1.03325078e-01, -6.42446036e-01, -7.95835102e-01,  5.72351078e-01,\n",
       "        -6.92086034e-01, -4.06527016e-01, -4.33793888e-01, -1.76498942e-01,\n",
       "         1.28412950e-01,  1.10583342e-01, -3.86101983e-01, -1.11801331e-01,\n",
       "        -1.08551890e-01,  1.45620280e-01, -1.55955513e-01,  3.04204694e-02,\n",
       "         9.64398786e-01,  3.86936799e-01, -7.41052482e-01, -6.18221397e-01,\n",
       "         8.70418657e-01,  1.00411949e+00,  3.17757742e-01, -2.17809352e-01,\n",
       "         2.26067961e-01,  7.68269640e-01,  1.16087651e-01, -1.43362931e-01,\n",
       "         3.34900604e-03,  7.93779546e-01,  2.77458994e-01, -1.57861553e-01,\n",
       "        -2.14028628e-01, -1.68629816e-01,  2.84740721e-01, -1.55164870e-01,\n",
       "        -2.23120259e-01, -1.98849198e-01, -1.62177008e-01, -1.96945956e-01,\n",
       "        -2.41015776e-01, -1.96764509e-01, -1.72639010e-01, -2.09032805e-01,\n",
       "        -2.55602720e-01, -1.48599472e-01, -9.49113622e-02,  1.96362117e-01,\n",
       "         8.16764618e-02, -7.50055855e-02,  7.96821295e-03,  2.43827288e-01,\n",
       "         5.58092213e-01,  6.98388220e-01,  1.03109998e-01,  2.22888830e-01,\n",
       "         3.69495316e-01, -3.08408809e-01, -6.88090685e-02,  1.65801982e-01,\n",
       "         1.47789719e-01, -3.88039471e-01, -7.55763509e-01, -9.29472855e-01,\n",
       "        -6.19016754e-02, -4.20978846e-01, -5.34790004e-01,  7.10396677e-01,\n",
       "         6.22458487e-01, -4.75794590e-01, -3.93452042e-01,  8.14807967e-01,\n",
       "         9.44664646e-01,  8.74080227e-01, -3.94024545e-01,  7.15025528e-01,\n",
       "         1.10076703e+00, -1.04606971e-01, -2.18984139e-01,  5.72760864e-01,\n",
       "         1.09654474e+00,  1.12317048e-01,  1.26347007e+00,  2.13740012e-01,\n",
       "         5.18823601e-01,  1.97385883e+00,  8.99089927e+00,  1.15195189e+01,\n",
       "         1.57867144e+01,  4.92085815e+00,  1.14572710e+00,  5.09577587e-01,\n",
       "         3.19105942e-01,  1.33595106e-01,  4.96515367e-02,  1.49099905e-01,\n",
       "         2.00577844e-01,  1.77955175e-01,  1.20291388e-01,  7.04535293e-02,\n",
       "        -8.72720097e-02, -4.76835911e-01, -7.93705484e-01, -8.23157723e-01,\n",
       "        -6.95473991e-01, -4.49160979e-01, -1.62763695e-01,  5.55280028e-02,\n",
       "         1.53640727e-01,  9.91873418e-02, -1.18008844e-01, -3.22078604e-01,\n",
       "        -2.04856645e-01, -1.86448190e-01, -3.88422791e-01, -5.26856350e-01,\n",
       "        -8.42998679e-01, -5.77660095e-01, -1.89270378e+00, -1.47355595e+00,\n",
       "         1.11192277e+00,  7.06014432e-01,  5.38575702e-01,  3.79892547e-01,\n",
       "         2.43538572e-01,  1.07755406e-01,  1.09034540e-01,  2.27333663e-01,\n",
       "         3.24647305e-01,  3.51244608e-01,  3.23794012e-01,  3.11492808e-01,\n",
       "         2.43700715e-01,  3.73278090e-02, -2.26580350e-01, -2.80546891e-01,\n",
       "        -3.56137112e-01, -4.17131931e-01,  1.51359204e-02,  4.05144706e-01,\n",
       "         6.90094529e-01,  8.28478309e-01,  7.56256489e-01,  5.86469453e-01,\n",
       "         4.35813002e-01,  2.83497438e-01,  1.94172559e-01,  2.99446940e-01,\n",
       "         1.73626822e-01, -2.08438183e+00, -1.61134067e+00, -5.28946386e-02,\n",
       "        -6.45568858e-04, -1.78491576e-01, -2.64427332e-01, -3.65468930e-01,\n",
       "        -5.51081332e-01, -7.28530484e-01, -8.52219432e-01, -7.77857495e-01,\n",
       "        -3.57869903e-01, -3.54391167e-01,  5.69038141e-02,  2.18764458e-01,\n",
       "         7.48332460e-02,  3.28427159e-02,  8.42580769e-02,  6.33168271e-02,\n",
       "         2.50592313e-02, -1.74773942e-01,  1.00056272e+00,  9.83360966e-01,\n",
       "         5.06437982e-01,  5.66708652e-01,  5.57758598e-02, -9.70587308e-01,\n",
       "        -2.23168824e-01, -8.46805159e-01,  3.22031295e-01, -3.48244696e-01,\n",
       "         6.62372087e-01,  6.85855992e-01,  9.16711608e-01,  4.99927107e-01,\n",
       "        -5.34952423e-02,  2.28473302e-01, -1.70177333e-01, -2.06045778e-01,\n",
       "        -2.05851122e-01, -1.26795184e-01, -7.98869501e-02, -8.61916491e-02,\n",
       "         1.87467161e-03, -9.20348835e-02, -1.79912495e-02, -2.13255672e-01,\n",
       "        -4.45563245e-01, -7.77492674e-02, -7.18018315e-01, -9.81894570e-01,\n",
       "         2.20021443e-01,  1.96316775e-01, -1.15750443e-01, -3.11032483e-01,\n",
       "         9.59966859e-03, -2.22826259e-01, -1.01426414e-01, -4.79814775e-01,\n",
       "         5.47131967e-02,  6.52061165e-01,  3.18522065e-01,  8.79830016e-01,\n",
       "         6.93458713e-01,  1.09709623e+00,  1.98063720e-01, -7.54653796e-01,\n",
       "        -6.39611142e-01, -5.34048116e-01, -7.61149402e-01, -1.33439405e+00,\n",
       "         6.33137125e-02, -1.63193224e+00, -1.50582108e+00, -1.65635245e-01,\n",
       "         8.13958633e-01,  1.15501889e+00,  1.08326578e+00,  3.24683802e-01,\n",
       "        -3.20661234e-01, -6.47845133e-01, -6.24543297e-01, -3.55191994e-01,\n",
       "        -3.20885453e-01, -8.16677870e-01, -6.32767030e-01, -8.92875575e-01,\n",
       "        -9.51731917e-01, -9.98475954e-01, -1.01330418e+00, -1.07493629e+00,\n",
       "        -1.00276265e+00, -7.78282136e-01, -5.34050004e-01, -8.26031784e-01,\n",
       "        -1.29045779e+00, -1.41285642e+00, -1.13716593e-01, -1.03100105e+00,\n",
       "        -2.94055586e-01,  5.01118704e-01, -2.11299520e-01,  3.63646791e-01,\n",
       "         2.00067406e-01,  2.97699600e-01,  3.19259020e-02, -3.06204844e-01,\n",
       "        -1.99248681e-01, -4.53824255e-01, -2.79376796e-01, -6.05187296e-01,\n",
       "        -3.11212846e-01, -9.46553854e-03, -3.40498352e-01,  2.39619836e-02,\n",
       "         1.78122724e-01,  1.80024167e-02,  2.34975794e-01,  1.39378895e-01,\n",
       "         2.48551281e-01,  1.16450716e-01, -1.96953425e-01,  1.13443946e-01,\n",
       "        -2.78599436e-01, -5.46823805e-01, -1.63149639e-01, -5.62465152e-01,\n",
       "        -3.07637379e-01, -4.20404870e-01,  6.44791126e-03,  8.60316409e-01,\n",
       "         3.20440131e-01,  1.37747229e+00,  2.22191660e+00,  2.54825839e+00,\n",
       "         5.89258317e+00, -2.86092236e+00,  9.02279075e+00, -1.64635513e+01,\n",
       "        -8.81073588e+00, -2.20630118e+00, -5.77072625e+00, -1.40358510e+01,\n",
       "        -1.25866818e+00, -1.06590455e+00,  1.04459373e+01, -5.71999942e-01,\n",
       "         6.64403443e-01,  3.08408839e+00,  3.60590080e-01,  1.77187223e+00,\n",
       "         9.29073876e-02,  1.07516387e+00,  3.04181684e-01,  6.67666527e-01,\n",
       "         4.91746954e-01,  2.61347914e-01,  5.03243945e-01,  9.50515966e-02,\n",
       "         6.25133379e-01,  1.15353310e-01,  5.20810700e-01,  1.90445362e-01,\n",
       "         2.14721738e-01,  2.45623485e-01,  7.35450808e-02,  3.43045663e-01,\n",
       "         3.48262031e-01,  5.09590455e-01,  8.94684129e-01,  5.51966976e-01,\n",
       "         1.52277527e+00,  3.76925608e-01,  1.90337414e+00,  1.75630942e-01,\n",
       "         1.87223138e+00,  9.36414631e-02,  1.48797968e+00,  1.20400366e-01,\n",
       "         8.33249655e-01,  9.81391348e-02,  2.00996616e-01, -1.51318864e-01,\n",
       "        -6.08757109e-01,  4.19085451e-01,  5.90174016e-01, -4.65020957e-01,\n",
       "         5.67218311e-01, -6.39427309e-01, -6.83151502e-01, -6.83877562e-01,\n",
       "        -6.64372304e-01, -3.70154394e-01, -6.30805407e-01, -3.85250936e-01,\n",
       "        -4.37330761e-03, -4.46351920e-01, -1.27077322e-02,  2.35556286e-01,\n",
       "         7.12173044e-02,  2.19191871e-01,  1.96367098e-01,  1.37004365e-01,\n",
       "         2.37764984e-01,  6.76628439e-02,  2.03596305e-01,  2.53628958e-01,\n",
       "        -3.32443126e-01,  5.25836767e-01, -2.15761177e-01,  4.01989698e-01,\n",
       "        -7.01969521e-01,  2.61720383e-01,  6.79337701e-01,  1.59360943e-02,\n",
       "         5.18968240e-02, -1.44850268e-01, -1.42562845e-01,  9.21240801e-01,\n",
       "         6.30980579e-01,  2.81719663e-01,  1.85691057e+00,  9.31635671e-01,\n",
       "        -6.20812614e-01,  7.88933222e-01,  4.75091560e-01, -7.08791131e-01,\n",
       "        -1.47024904e-02,  1.16660895e-01,  1.01853479e+00,  8.71728346e-01,\n",
       "         8.31410245e-01,  2.14554921e+00, -4.09455289e-02,  1.41093369e-01,\n",
       "        -3.09283427e-01, -4.56501852e-03, -5.29809377e-01,  4.33510140e-02,\n",
       "         2.96351642e-01, -6.61242958e-01, -6.47705041e-01, -4.61413796e-01,\n",
       "         3.29158075e-01,  2.49014599e-02, -6.86878123e-02,  1.08009002e-01],      dtype=float64))"
      ]
     },
     "execution_count": 9,
     "metadata": {},
     "output_type": "execute_result"
    }
   ],
   "source": [
    "sso_model.value_grad_params(which_solver='sparse',enforce_scipy_sparse = True)"
   ]
  },
  {
   "cell_type": "markdown",
   "metadata": {},
   "source": [
    "# A simple NN built with Flax"
   ]
  },
  {
   "cell_type": "code",
   "execution_count": 10,
   "metadata": {},
   "outputs": [],
   "source": [
    "import pymesh\n",
    "from flax import linen as nn"
   ]
  },
  {
   "cell_type": "markdown",
   "metadata": {},
   "source": [
    "Input of NN:\n",
    "vertex crds\n",
    "\n",
    "Output of NN:\n",
    "nodal movement (Z)"
   ]
  },
  {
   "cell_type": "markdown",
   "metadata": {},
   "source": [
    "## Simple Neural Network"
   ]
  },
  {
   "cell_type": "code",
   "execution_count": 11,
   "metadata": {},
   "outputs": [],
   "source": [
    "class SimpleNN(nn.Module):\n",
    "    num_hidden : int   # Number of hidden neurons\n",
    "    num_outputs : int  # Number of output neurons\n",
    "\n",
    "    def setup(self):\n",
    "        # Create the modules we need to build the network\n",
    "        # nn.Dense is a linear layer\n",
    "        self.linear1 = nn.Dense(features=self.num_hidden)\n",
    "        self.linear2 = nn.Dense(features=self.num_outputs)\n",
    "\n",
    "    def __call__(self, x):\n",
    "        # Perform the calculation of the model to determine the prediction\n",
    "        x = self.linear1(x)\n",
    "        x = nn.tanh(x)\n",
    "        x = self.linear2(x)\n",
    "        return x"
   ]
  },
  {
   "cell_type": "code",
   "execution_count": 12,
   "metadata": {},
   "outputs": [],
   "source": [
    "class SimpleNN(nn.Module):\n",
    "    num_hidden : int   # Number of hidden neurons\n",
    "    num_outputs : int  # Number of output neurons\n",
    "\n",
    "    @nn.compact  # Tells Flax to look for defined submodules\n",
    "    def __call__(self, x):\n",
    "        # Perform the calculation of the model to determine the prediction\n",
    "        x = nn.Dense(features=self.num_hidden)(x)\n",
    "        x = nn.tanh(x)\n",
    "        x = nn.Dense(features=self.num_outputs)(x)\n",
    "        return x"
   ]
  },
  {
   "cell_type": "code",
   "execution_count": 13,
   "metadata": {},
   "outputs": [],
   "source": [
    "n_input = design_nodes.shape[0]\n",
    "n_hidden = 1*n_input\n",
    "n_out = n_input\n",
    "\n",
    "rng = jax.random.PRNGKey(42)\n",
    "\n",
    "inp = zs[design_nodes]\n",
    "#rng, inp_rng, init_rng = jax.random.split(rng, 3)"
   ]
  },
  {
   "cell_type": "code",
   "execution_count": 14,
   "metadata": {},
   "outputs": [],
   "source": [
    "NN = SimpleNN(n_hidden,n_out)"
   ]
  },
  {
   "cell_type": "code",
   "execution_count": 15,
   "metadata": {},
   "outputs": [
    {
     "name": "stdout",
     "output_type": "stream",
     "text": [
      "SimpleNN(\n",
      "    # attributes\n",
      "    num_hidden = 412\n",
      "    num_outputs = 412\n",
      ")\n"
     ]
    }
   ],
   "source": [
    "print(NN)"
   ]
  },
  {
   "cell_type": "code",
   "execution_count": 16,
   "metadata": {
    "scrolled": false
   },
   "outputs": [
    {
     "name": "stdout",
     "output_type": "stream",
     "text": [
      "\n",
      "\u001b[3m                                SimpleNN Summary                                \u001b[0m\n",
      "┏━━━━━━━━━┳━━━━━━━━━━┳━━━━━━━━━━━┳━━━━━━━━━━━┳━━━━━━━━━┳━━━━━━━━━━━┳━━━━━━━━━━━┓\n",
      "┃\u001b[1m \u001b[0m\u001b[1mpath   \u001b[0m\u001b[1m \u001b[0m┃\u001b[1m \u001b[0m\u001b[1mmodule  \u001b[0m\u001b[1m \u001b[0m┃\u001b[1m \u001b[0m\u001b[1minputs   \u001b[0m\u001b[1m \u001b[0m┃\u001b[1m \u001b[0m\u001b[1moutputs  \u001b[0m\u001b[1m \u001b[0m┃\u001b[1m \u001b[0m\u001b[1mflops  \u001b[0m\u001b[1m \u001b[0m┃\u001b[1m \u001b[0m\u001b[1mvjp_flops\u001b[0m\u001b[1m \u001b[0m┃\u001b[1m \u001b[0m\u001b[1mparams   \u001b[0m\u001b[1m \u001b[0m┃\n",
      "┡━━━━━━━━━╇━━━━━━━━━━╇━━━━━━━━━━━╇━━━━━━━━━━━╇━━━━━━━━━╇━━━━━━━━━━━╇━━━━━━━━━━━┩\n",
      "│         │ SimpleNN │ \u001b[2mfloat64\u001b[0m[… │ \u001b[2mfloat64\u001b[0m[… │ 1020112 │ 3060336   │           │\n",
      "├─────────┼──────────┼───────────┼───────────┼─────────┼───────────┼───────────┤\n",
      "│ Dense_0 │ Dense    │ \u001b[2mfloat64\u001b[0m[… │ \u001b[2mfloat64\u001b[0m[… │ 510056  │ 1529344   │ bias:     │\n",
      "│         │          │           │           │         │           │ \u001b[2mfloat32\u001b[0m[… │\n",
      "│         │          │           │           │         │           │ kernel:   │\n",
      "│         │          │           │           │         │           │ \u001b[2mfloat32\u001b[0m[… │\n",
      "│         │          │           │           │         │           │           │\n",
      "│         │          │           │           │         │           │ \u001b[1m170,156 \u001b[0m  │\n",
      "│         │          │           │           │         │           │ \u001b[1;2m(680.6 \u001b[0m   │\n",
      "│         │          │           │           │         │           │ \u001b[1;2mKB)\u001b[0m       │\n",
      "├─────────┼──────────┼───────────┼───────────┼─────────┼───────────┼───────────┤\n",
      "│ Dense_1 │ Dense    │ \u001b[2mfloat64\u001b[0m[… │ \u001b[2mfloat64\u001b[0m[… │ 510056  │ 1529344   │ bias:     │\n",
      "│         │          │           │           │         │           │ \u001b[2mfloat32\u001b[0m[… │\n",
      "│         │          │           │           │         │           │ kernel:   │\n",
      "│         │          │           │           │         │           │ \u001b[2mfloat32\u001b[0m[… │\n",
      "│         │          │           │           │         │           │           │\n",
      "│         │          │           │           │         │           │ \u001b[1m170,156 \u001b[0m  │\n",
      "│         │          │           │           │         │           │ \u001b[1;2m(680.6 \u001b[0m   │\n",
      "│         │          │           │           │         │           │ \u001b[1;2mKB)\u001b[0m       │\n",
      "├─────────┼──────────┼───────────┼───────────┼─────────┼───────────┼───────────┤\n",
      "│\u001b[1m \u001b[0m\u001b[1m       \u001b[0m\u001b[1m \u001b[0m│\u001b[1m \u001b[0m\u001b[1m        \u001b[0m\u001b[1m \u001b[0m│\u001b[1m \u001b[0m\u001b[1m         \u001b[0m\u001b[1m \u001b[0m│\u001b[1m \u001b[0m\u001b[1m         \u001b[0m\u001b[1m \u001b[0m│\u001b[1m \u001b[0m\u001b[1m       \u001b[0m\u001b[1m \u001b[0m│\u001b[1m \u001b[0m\u001b[1m    Total\u001b[0m\u001b[1m \u001b[0m│\u001b[1m \u001b[0m\u001b[1m340,312  \u001b[0m\u001b[1m \u001b[0m│\n",
      "│\u001b[1m         \u001b[0m│\u001b[1m          \u001b[0m│\u001b[1m           \u001b[0m│\u001b[1m           \u001b[0m│\u001b[1m         \u001b[0m│\u001b[1m           \u001b[0m│\u001b[1m \u001b[0m\u001b[1;2m(1.4 MB)\u001b[0m\u001b[1m \u001b[0m\u001b[1m \u001b[0m│\n",
      "└─────────┴──────────┴───────────┴───────────┴─────────┴───────────┴───────────┘\n",
      "\u001b[1m                                                                                \u001b[0m\n",
      "\u001b[1m                       Total Parameters: 340,312 \u001b[0m\u001b[1;2m(1.4 MB)\u001b[0m\u001b[1m                       \u001b[0m\n",
      "\n",
      "\n"
     ]
    }
   ],
   "source": [
    "import jax\n",
    "import jax.numpy as jnp  # JAX NumPy\n",
    "\n",
    "\n",
    "print(NN.tabulate(rng,inp,\n",
    "                   compute_flops=True, compute_vjp_flops=True))"
   ]
  },
  {
   "cell_type": "code",
   "execution_count": 17,
   "metadata": {},
   "outputs": [],
   "source": [
    "rng, init_rng = jax.random.split(rng, 2)\n",
    "# Initialize the model\n",
    "params = NN.init(init_rng, inp)"
   ]
  },
  {
   "cell_type": "code",
   "execution_count": 18,
   "metadata": {},
   "outputs": [
    {
     "data": {
      "text/plain": [
       "(412,)"
      ]
     },
     "execution_count": 18,
     "metadata": {},
     "output_type": "execute_result"
    }
   ],
   "source": [
    "NN.apply(params,inp).reshape(-1).shape"
   ]
  },
  {
   "cell_type": "markdown",
   "metadata": {},
   "source": [
    "## Optimizer"
   ]
  },
  {
   "cell_type": "code",
   "execution_count": 19,
   "metadata": {},
   "outputs": [],
   "source": [
    "import optax\n",
    "optimizer = optax.sgd(learning_rate=0.1)"
   ]
  },
  {
   "cell_type": "code",
   "execution_count": 37,
   "metadata": {},
   "outputs": [],
   "source": [
    "from flax.training import train_state\n",
    "\n",
    "model_state = train_state.TrainState.create(apply_fn=NN.apply,\n",
    "                                            params=params,\n",
    "                                            tx=optimizer)"
   ]
  },
  {
   "cell_type": "code",
   "execution_count": 38,
   "metadata": {},
   "outputs": [
    {
     "data": {
      "text/plain": [
       "TrainState(step=0, apply_fn=<bound method Module.apply of SimpleNN(\n",
       "    # attributes\n",
       "    num_hidden = 412\n",
       "    num_outputs = 412\n",
       ")>, params={'params': {'Dense_0': {'kernel': Array([[-0.02421271, -0.07264636, -0.03337444, ..., -0.00387158,\n",
       "        -0.0300168 ,  0.01162978],\n",
       "       [-0.02416401,  0.04509982, -0.0596587 , ...,  0.06072619,\n",
       "        -0.00148284, -0.01446604],\n",
       "       [ 0.07154526,  0.04853109, -0.02538667, ...,  0.01805528,\n",
       "         0.05811967,  0.10136599],\n",
       "       ...,\n",
       "       [ 0.03505873,  0.04934797,  0.01438838, ...,  0.02728134,\n",
       "         0.04287541, -0.08630759],\n",
       "       [ 0.07794734,  0.05500539,  0.02104233, ..., -0.06110568,\n",
       "        -0.01018455,  0.07217037],\n",
       "       [-0.01216582, -0.0367452 , -0.03094053, ...,  0.04046203,\n",
       "        -0.01277289, -0.0986876 ]], dtype=float32), 'bias': Array([0., 0., 0., 0., 0., 0., 0., 0., 0., 0., 0., 0., 0., 0., 0., 0., 0.,\n",
       "       0., 0., 0., 0., 0., 0., 0., 0., 0., 0., 0., 0., 0., 0., 0., 0., 0.,\n",
       "       0., 0., 0., 0., 0., 0., 0., 0., 0., 0., 0., 0., 0., 0., 0., 0., 0.,\n",
       "       0., 0., 0., 0., 0., 0., 0., 0., 0., 0., 0., 0., 0., 0., 0., 0., 0.,\n",
       "       0., 0., 0., 0., 0., 0., 0., 0., 0., 0., 0., 0., 0., 0., 0., 0., 0.,\n",
       "       0., 0., 0., 0., 0., 0., 0., 0., 0., 0., 0., 0., 0., 0., 0., 0., 0.,\n",
       "       0., 0., 0., 0., 0., 0., 0., 0., 0., 0., 0., 0., 0., 0., 0., 0., 0.,\n",
       "       0., 0., 0., 0., 0., 0., 0., 0., 0., 0., 0., 0., 0., 0., 0., 0., 0.,\n",
       "       0., 0., 0., 0., 0., 0., 0., 0., 0., 0., 0., 0., 0., 0., 0., 0., 0.,\n",
       "       0., 0., 0., 0., 0., 0., 0., 0., 0., 0., 0., 0., 0., 0., 0., 0., 0.,\n",
       "       0., 0., 0., 0., 0., 0., 0., 0., 0., 0., 0., 0., 0., 0., 0., 0., 0.,\n",
       "       0., 0., 0., 0., 0., 0., 0., 0., 0., 0., 0., 0., 0., 0., 0., 0., 0.,\n",
       "       0., 0., 0., 0., 0., 0., 0., 0., 0., 0., 0., 0., 0., 0., 0., 0., 0.,\n",
       "       0., 0., 0., 0., 0., 0., 0., 0., 0., 0., 0., 0., 0., 0., 0., 0., 0.,\n",
       "       0., 0., 0., 0., 0., 0., 0., 0., 0., 0., 0., 0., 0., 0., 0., 0., 0.,\n",
       "       0., 0., 0., 0., 0., 0., 0., 0., 0., 0., 0., 0., 0., 0., 0., 0., 0.,\n",
       "       0., 0., 0., 0., 0., 0., 0., 0., 0., 0., 0., 0., 0., 0., 0., 0., 0.,\n",
       "       0., 0., 0., 0., 0., 0., 0., 0., 0., 0., 0., 0., 0., 0., 0., 0., 0.,\n",
       "       0., 0., 0., 0., 0., 0., 0., 0., 0., 0., 0., 0., 0., 0., 0., 0., 0.,\n",
       "       0., 0., 0., 0., 0., 0., 0., 0., 0., 0., 0., 0., 0., 0., 0., 0., 0.,\n",
       "       0., 0., 0., 0., 0., 0., 0., 0., 0., 0., 0., 0., 0., 0., 0., 0., 0.,\n",
       "       0., 0., 0., 0., 0., 0., 0., 0., 0., 0., 0., 0., 0., 0., 0., 0., 0.,\n",
       "       0., 0., 0., 0., 0., 0., 0., 0., 0., 0., 0., 0., 0., 0., 0., 0., 0.,\n",
       "       0., 0., 0., 0., 0., 0., 0., 0., 0., 0., 0., 0., 0., 0., 0., 0., 0.,\n",
       "       0., 0., 0., 0.], dtype=float32)}, 'Dense_1': {'kernel': Array([[ 0.01575794, -0.01956235, -0.02047769, ..., -0.07933845,\n",
       "        -0.029132  ,  0.08017328],\n",
       "       [-0.02306282, -0.00860859,  0.05963003, ..., -0.09337527,\n",
       "         0.05683244, -0.06857596],\n",
       "       [ 0.00618096,  0.05385436, -0.10617124, ..., -0.01722106,\n",
       "        -0.06546719, -0.11123756],\n",
       "       ...,\n",
       "       [ 0.03596539,  0.01701626,  0.05561231, ...,  0.06613632,\n",
       "        -0.04544599, -0.10165267],\n",
       "       [ 0.02778731,  0.00065975,  0.049713  , ..., -0.01328903,\n",
       "         0.01150866,  0.01836449],\n",
       "       [ 0.03957065,  0.09440001,  0.08408497, ...,  0.03386974,\n",
       "         0.01087011,  0.03399097]], dtype=float32), 'bias': Array([0., 0., 0., 0., 0., 0., 0., 0., 0., 0., 0., 0., 0., 0., 0., 0., 0.,\n",
       "       0., 0., 0., 0., 0., 0., 0., 0., 0., 0., 0., 0., 0., 0., 0., 0., 0.,\n",
       "       0., 0., 0., 0., 0., 0., 0., 0., 0., 0., 0., 0., 0., 0., 0., 0., 0.,\n",
       "       0., 0., 0., 0., 0., 0., 0., 0., 0., 0., 0., 0., 0., 0., 0., 0., 0.,\n",
       "       0., 0., 0., 0., 0., 0., 0., 0., 0., 0., 0., 0., 0., 0., 0., 0., 0.,\n",
       "       0., 0., 0., 0., 0., 0., 0., 0., 0., 0., 0., 0., 0., 0., 0., 0., 0.,\n",
       "       0., 0., 0., 0., 0., 0., 0., 0., 0., 0., 0., 0., 0., 0., 0., 0., 0.,\n",
       "       0., 0., 0., 0., 0., 0., 0., 0., 0., 0., 0., 0., 0., 0., 0., 0., 0.,\n",
       "       0., 0., 0., 0., 0., 0., 0., 0., 0., 0., 0., 0., 0., 0., 0., 0., 0.,\n",
       "       0., 0., 0., 0., 0., 0., 0., 0., 0., 0., 0., 0., 0., 0., 0., 0., 0.,\n",
       "       0., 0., 0., 0., 0., 0., 0., 0., 0., 0., 0., 0., 0., 0., 0., 0., 0.,\n",
       "       0., 0., 0., 0., 0., 0., 0., 0., 0., 0., 0., 0., 0., 0., 0., 0., 0.,\n",
       "       0., 0., 0., 0., 0., 0., 0., 0., 0., 0., 0., 0., 0., 0., 0., 0., 0.,\n",
       "       0., 0., 0., 0., 0., 0., 0., 0., 0., 0., 0., 0., 0., 0., 0., 0., 0.,\n",
       "       0., 0., 0., 0., 0., 0., 0., 0., 0., 0., 0., 0., 0., 0., 0., 0., 0.,\n",
       "       0., 0., 0., 0., 0., 0., 0., 0., 0., 0., 0., 0., 0., 0., 0., 0., 0.,\n",
       "       0., 0., 0., 0., 0., 0., 0., 0., 0., 0., 0., 0., 0., 0., 0., 0., 0.,\n",
       "       0., 0., 0., 0., 0., 0., 0., 0., 0., 0., 0., 0., 0., 0., 0., 0., 0.,\n",
       "       0., 0., 0., 0., 0., 0., 0., 0., 0., 0., 0., 0., 0., 0., 0., 0., 0.,\n",
       "       0., 0., 0., 0., 0., 0., 0., 0., 0., 0., 0., 0., 0., 0., 0., 0., 0.,\n",
       "       0., 0., 0., 0., 0., 0., 0., 0., 0., 0., 0., 0., 0., 0., 0., 0., 0.,\n",
       "       0., 0., 0., 0., 0., 0., 0., 0., 0., 0., 0., 0., 0., 0., 0., 0., 0.,\n",
       "       0., 0., 0., 0., 0., 0., 0., 0., 0., 0., 0., 0., 0., 0., 0., 0., 0.,\n",
       "       0., 0., 0., 0., 0., 0., 0., 0., 0., 0., 0., 0., 0., 0., 0., 0., 0.,\n",
       "       0., 0., 0., 0.], dtype=float32)}}}, tx=GradientTransformationExtraArgs(init=<function chain.<locals>.init_fn at 0x14b42d0322a0>, update=<function chain.<locals>.update_fn at 0x14b42d032340>), opt_state=(EmptyState(), EmptyState()))"
      ]
     },
     "execution_count": 38,
     "metadata": {},
     "output_type": "execute_result"
    }
   ],
   "source": [
    "model_state"
   ]
  },
  {
   "cell_type": "markdown",
   "metadata": {},
   "source": [
    "## Loss Function\n",
    "\n",
    "Pipeline ML with Jax-SSO to get the loss function.\n",
    "\n",
    "Test if $d(loss)/d(params)$ work"
   ]
  },
  {
   "cell_type": "code",
   "execution_count": 39,
   "metadata": {},
   "outputs": [],
   "source": [
    "def calculate_loss(state, params, inp):\n",
    "    \n",
    "    ##Apply_fn: ML input to output\n",
    "    movement_z = state.apply_fn(params, inp).reshape(-1) #how to move nodes along z, ML-Outpu\n",
    "    \n",
    "    #ML output to loss through Jax-SSO\n",
    "    z_new = inp + movement_z\n",
    "    sso_model.update_nodeparameter(z_new)\n",
    "    loss = sso_model.params_to_objective()\n",
    "    \n",
    "    \n",
    "    return loss"
   ]
  },
  {
   "cell_type": "code",
   "execution_count": 40,
   "metadata": {},
   "outputs": [
    {
     "data": {
      "text/plain": [
       "Array(347.27530857, dtype=float64)"
      ]
     },
     "execution_count": 40,
     "metadata": {},
     "output_type": "execute_result"
    }
   ],
   "source": [
    "calculate_loss(model_state,model_state.params,inp)"
   ]
  },
  {
   "cell_type": "markdown",
   "metadata": {},
   "source": [
    "## Training Step and Training"
   ]
  },
  {
   "cell_type": "code",
   "execution_count": 41,
   "metadata": {},
   "outputs": [],
   "source": [
    "@jax.jit  # Jit the function for efficiency\n",
    "def train_step(state, inp):\n",
    "    # Gradient function\n",
    "    grad_fn = jax.value_and_grad(calculate_loss,  # Function to calculate the loss\n",
    "                                 argnums=1,  # Parameters are second argument of the function\n",
    "                                 has_aux=False  # Function has additional outputs, here accuracy\n",
    "                                )\n",
    "    # Determine gradients for current model, parameters and batch\n",
    "    loss, grads = grad_fn(state, state.params, inp)\n",
    "    # Perform parameter update with gradients and optimizer\n",
    "    state = state.apply_gradients(grads=grads)\n",
    "    # Return state and any other value we might want\n",
    "    return state, loss"
   ]
  },
  {
   "cell_type": "code",
   "execution_count": 42,
   "metadata": {},
   "outputs": [
    {
     "data": {
      "text/plain": [
       "(TrainState(step=Array(1, dtype=int64, weak_type=True), apply_fn=<bound method Module.apply of SimpleNN(\n",
       "     # attributes\n",
       "     num_hidden = 412\n",
       "     num_outputs = 412\n",
       " )>, params={'params': {'Dense_0': {'bias': Array([-2.35037915e-02, -2.45807791e-10, -2.05148477e-04,  2.71173167e-06,\n",
       "         2.75376095e-07, -5.78556769e-03,  8.89870431e-03,  2.79549771e-04,\n",
       "        -1.83852940e-14,  6.11907919e-04, -1.12179285e-02, -5.91870927e-11,\n",
       "         1.90614657e-09, -7.12262462e-08,  5.12018694e-08,  9.36924145e-02,\n",
       "        -2.30452977e-02, -6.66322664e-10,  4.06481384e-04,  3.70687303e-05,\n",
       "        -8.81517098e-15,  7.56491669e-09, -9.53826462e-11, -4.12216000e-02,\n",
       "        -8.31408397e-05,  6.05006411e-04,  1.96748925e-03,  0.00000000e+00,\n",
       "         0.00000000e+00, -1.35564696e-04,  1.56941124e-13, -6.81312007e-10,\n",
       "         3.05987487e-06,  2.56663858e-04,  3.68801487e-08, -3.24749235e-05,\n",
       "        -1.24958408e-08, -1.43440811e-14,  1.57325502e-07,  0.00000000e+00,\n",
       "         4.72818984e-09, -6.04664274e-02, -3.26771110e-10,  1.24672195e-02,\n",
       "         2.23813345e-07,  1.26265988e-01,  0.00000000e+00,  2.33430946e-08,\n",
       "         1.83683142e-07, -1.78693735e-08,  2.45408453e-02, -3.63914184e-02,\n",
       "         8.72679520e-04,  1.34025213e-11,  1.15056866e-06, -1.74597370e-09,\n",
       "         0.00000000e+00,  2.10566814e-05,  0.00000000e+00,  6.37659512e-04,\n",
       "        -8.40740983e-14,  1.76121216e-06,  5.14685621e-11,  6.52162786e-12,\n",
       "        -1.04431955e-07,  0.00000000e+00, -6.30995957e-04,  1.24628866e-11,\n",
       "         1.97416048e-05,  2.18312684e-02, -2.21050251e-03,  4.11041645e-10,\n",
       "        -9.13571101e-04, -7.52150626e-08, -4.23566043e-10, -2.26839900e-01,\n",
       "         3.99334058e-02, -8.75303745e-02,  4.54116744e-05,  1.95350253e-07,\n",
       "         2.68322708e-11, -2.77633546e-03, -3.48952017e-04, -2.32769054e-10,\n",
       "        -1.27624241e-16,  6.45172804e-12,  1.16484560e-01, -1.64351848e-04,\n",
       "        -1.45833120e-11,  3.37395375e-03, -2.85331314e-09,  5.93416982e-11,\n",
       "         0.00000000e+00, -1.21513896e-01, -3.63160179e-05,  2.04281032e-15,\n",
       "         8.46048806e-07, -1.38012718e-11, -4.92031540e-06,  1.14364074e-11,\n",
       "         2.19450627e-08, -5.27355937e-14,  2.62803048e-01, -2.16756118e-04,\n",
       "         1.07606288e-08,  2.08225174e-06, -9.58672586e-11,  5.15143500e-15,\n",
       "         5.55569046e-13,  2.39112592e-06,  2.34268263e-01,  8.90574302e-05,\n",
       "        -8.30054636e-11,  5.30507229e-03,  4.58814669e-03,  5.01959008e-08,\n",
       "         1.05533469e-02,  3.41684597e-11,  2.43978810e-08, -1.07158728e-13,\n",
       "         3.88982557e-02, -3.37154852e-05,  3.17864215e-06, -6.60549328e-02,\n",
       "        -3.35879885e-02, -3.96223320e-03,  9.90849069e-10,  2.29071584e-09,\n",
       "         1.07893515e-16,  0.00000000e+00,  8.88178433e-17, -4.17788103e-02,\n",
       "         6.18092253e-12,  0.00000000e+00,  4.74746191e-16, -1.70184421e-07,\n",
       "         1.15093810e-08, -6.23519625e-10,  4.35452349e-03,  2.63813380e-02,\n",
       "        -7.76816364e-07, -2.84755230e-02,  3.69439460e-02, -1.29884051e-03,\n",
       "        -8.40971693e-02,  2.83885554e-11, -9.29110975e-04,  5.64951415e-06,\n",
       "        -7.91506167e-08,  2.55617294e-02,  8.14211560e-08,  2.82536002e-05,\n",
       "         6.64788007e-04, -1.27231557e-14,  6.86107815e-05, -3.53050935e-15,\n",
       "         3.17756608e-02, -5.08696861e-12, -1.64684374e-03,  1.45295484e-03,\n",
       "         4.73529604e-10,  7.84870877e-04,  1.35308434e-17, -6.09496050e-02,\n",
       "         4.51362281e-09,  6.17222278e-04, -1.69897557e-05, -6.27056254e-11,\n",
       "        -3.04583030e-12,  6.70198233e-06, -2.38027109e-08,  2.76723711e-09,\n",
       "        -7.68648693e-04, -6.66390888e-18,  2.18934792e-06, -1.37393397e-09,\n",
       "        -9.02325846e-04,  0.00000000e+00, -4.58965522e-15, -8.60432774e-05,\n",
       "        -5.03101916e-09,  1.66896061e-05, -2.59646418e-04,  0.00000000e+00,\n",
       "        -6.59742318e-06, -1.47963185e-12,  1.22873776e-03,  1.31126143e-17,\n",
       "         1.92101121e-01,  3.02884023e-10,  4.16340716e-02,  7.49684265e-03,\n",
       "        -1.90403357e-01,  7.73185597e-16, -1.29751413e-06, -1.73728150e-11,\n",
       "        -1.91814618e-08,  5.16441604e-03,  0.00000000e+00, -1.96617705e-11,\n",
       "         1.32927633e-14, -1.22499056e-04, -2.22044608e-17, -2.77200490e-13,\n",
       "        -1.08982534e-09, -2.30395614e-08,  1.97877721e-11,  3.35693621e-04,\n",
       "        -2.30379599e-13,  4.89676673e-08,  1.35006197e-03,  2.91483957e-07,\n",
       "        -5.15006661e-07,  4.62129600e-02, -2.46105747e-10,  2.90105943e-11,\n",
       "        -1.90201024e-06, -1.03136756e-10, -1.12091136e-09,  2.77626552e-02,\n",
       "         0.00000000e+00,  6.26063240e-07,  2.75055640e-06, -1.77635687e-16,\n",
       "        -3.80592224e-09,  5.65051778e-07,  2.22021248e-02, -5.22280949e-13,\n",
       "         1.41291169e-03, -4.06907216e-16, -5.48894257e-14, -1.97742129e-14,\n",
       "        -1.32020011e-16,  0.00000000e+00,  3.14063185e-11,  5.04557160e-04,\n",
       "         0.00000000e+00,  5.13541475e-02,  1.52850710e-03,  2.80533685e-09,\n",
       "         4.29743697e-12,  8.20078608e-03,  3.06813605e-02,  3.14235409e-11,\n",
       "         8.55614235e-06, -2.50500336e-04,  4.59609424e-07,  3.41393585e-16,\n",
       "         1.35784873e-07,  8.79499614e-02,  1.72344712e-03, -4.67537919e-09,\n",
       "         0.00000000e+00,  0.00000000e+00, -1.55376227e-07, -1.64711510e-05,\n",
       "         1.36112571e-11,  0.00000000e+00,  2.38452724e-08,  2.19188188e-03,\n",
       "         1.17294912e-14, -2.41853217e-12, -1.02260514e-04,  0.00000000e+00,\n",
       "        -2.36356966e-02, -8.92765149e-02, -5.57759078e-04, -8.75544082e-11,\n",
       "         8.09092342e-07, -1.00437179e-01, -3.55271368e-15,  3.16978931e-01,\n",
       "         1.09912079e-14, -3.29503952e-10,  7.59475597e-06, -1.80500823e-08,\n",
       "         1.45523578e-01, -1.31954723e-14,  4.84869779e-05,  8.89648432e-17,\n",
       "        -4.06128083e-06,  0.00000000e+00, -4.35739450e-16, -2.43394105e-09,\n",
       "         0.00000000e+00,  5.10702581e-16,  0.00000000e+00,  0.00000000e+00,\n",
       "         7.90514498e-09, -1.77499413e-14,  1.63165488e-11, -4.40636860e-10,\n",
       "         0.00000000e+00,  1.85454046e-05,  8.80745705e-04, -1.23868480e-08,\n",
       "        -2.69667318e-13,  9.93079325e-08,  1.79789988e-10,  1.56226143e-11,\n",
       "        -4.85124962e-09,  7.26372207e-09, -5.03074534e-06,  4.79770910e-11,\n",
       "         1.43893346e-01, -1.12707677e-10, -2.84381714e-02, -2.46983895e-04,\n",
       "        -2.55799800e-01,  0.00000000e+00, -2.88155265e-02, -6.31256852e-11,\n",
       "        -1.39626786e-06,  3.98256667e-02,  1.37252127e-05,  3.21385592e-11,\n",
       "         6.35336401e-05, -1.55526595e-05,  1.37886662e-08, -1.05560730e-07,\n",
       "         5.30276090e-09, -7.12562610e-07,  2.09381636e-02,  2.14657732e-07,\n",
       "        -6.83566986e-06, -3.38879981e-05, -3.98869522e-12, -1.95250891e-08,\n",
       "        -3.86320947e-10,  5.48014756e-19, -5.57584508e-06,  0.00000000e+00,\n",
       "        -1.63794466e-12, -1.60650913e-07,  1.62897265e-06,  3.32399824e-04,\n",
       "         2.52431676e-07, -5.44233171e-06, -8.41657553e-08,  1.71914295e-12,\n",
       "         1.11286882e-02, -5.19919880e-02,  3.59190417e-05,  0.00000000e+00,\n",
       "         9.71168993e-05,  0.00000000e+00, -2.00065892e-06,  1.43580266e-07,\n",
       "         1.22630512e-02,  5.93804009e-02,  1.70603442e-07,  1.05129527e-09,\n",
       "         0.00000000e+00, -5.32732152e-08,  4.78786897e-05,  7.28696585e-02,\n",
       "         1.64313010e-15,  3.73120868e-09,  0.00000000e+00, -6.27869770e-11,\n",
       "        -1.51878513e-14, -3.91458798e-06, -1.08389671e-04,  5.45256072e-16,\n",
       "         4.15878134e-14,  0.00000000e+00, -7.65304719e-07,  6.58526411e-03,\n",
       "         5.42666894e-05, -2.46313564e-03,  0.00000000e+00, -1.15019246e-03,\n",
       "         2.77392701e-06, -6.93939350e-09, -6.33835361e-06,  3.19219353e-08,\n",
       "         1.51151272e-10,  1.04899980e-01,  1.46350018e-07, -1.82539428e-09,\n",
       "        -3.61658117e-08,  1.57690689e-03,  1.17324822e-11,  2.47884200e-05,\n",
       "        -7.26029873e-02,  1.27522544e-08,  6.56402876e-10,  1.07455680e-05,\n",
       "         8.18388071e-06, -7.89126009e-02,  5.91221543e-14,  6.19790355e-15,\n",
       "        -1.05761424e-01, -5.55178137e-13, -2.31766453e-10,  1.86591037e-02,\n",
       "        -1.92342359e-05, -2.61406626e-06,  7.70836381e-11, -3.56326410e-07,\n",
       "         6.57029972e-14, -8.28144775e-10,  3.31197884e-06,  9.54327173e-10,\n",
       "         1.83196706e-13, -2.55351296e-15,  8.57063043e-09, -3.51410659e-14,\n",
       "        -5.05597086e-07,  1.38764633e-04, -2.78888020e-14, -4.50780168e-02],      dtype=float32), 'kernel': Array([[-0.1338815 , -0.07264636, -0.03433166, ..., -0.00322411,\n",
       "         -0.0300168 , -0.1987044 ],\n",
       "        [-0.3647341 ,  0.04509982, -0.0626313 , ...,  0.06273689,\n",
       "         -0.00148284, -0.6676468 ],\n",
       "        [ 0.0120097 ,  0.04853109, -0.02590632, ...,  0.01840677,\n",
       "          0.05811967, -0.01281749],\n",
       "        ...,\n",
       "        [-0.37056062,  0.04934797,  0.01084801, ...,  0.02967608,\n",
       "          0.04287541, -0.86424655],\n",
       "        [-0.3009897 ,  0.05500539,  0.01773485, ..., -0.05886846,\n",
       "         -0.01018455, -0.6545945 ],\n",
       "        [-0.37843552, -0.0367452 , -0.03413744, ...,  0.04262446,\n",
       "         -0.01277289, -0.8011577 ]], dtype=float32)}, 'Dense_1': {'bias': Array([-2.23982722e-01, -8.24513566e-03,  2.75725569e-03,  6.56086653e-02,\n",
       "        -3.20728645e-02,  8.41202959e-03,  3.17334861e-01,  1.43812999e-01,\n",
       "         6.08091764e-02,  2.40150690e-01,  1.84148386e-01, -1.43499896e-01,\n",
       "         1.48085669e-01,  2.67413799e-02,  2.19250083e-01, -7.12084398e-03,\n",
       "         2.64315102e-02,  9.52766612e-02,  7.65210614e-02, -3.15062962e-02,\n",
       "         9.10122022e-02,  1.61759421e-01,  8.13931413e-03, -2.47637834e-02,\n",
       "         1.52145291e-03, -1.66693181e-02, -5.30469082e-02,  7.21782595e-02,\n",
       "         2.34545358e-02, -3.60622890e-02,  2.50516981e-02,  2.53794994e-02,\n",
       "        -1.77280549e-02,  1.10729374e-01, -6.32518828e-02,  2.53430195e-02,\n",
       "        -7.64643773e-02,  1.16862141e-01, -1.82486072e-01,  7.35298470e-02,\n",
       "        -1.79930311e-02, -1.14153735e-01,  8.91520604e-02, -9.75897443e-03,\n",
       "         1.29555151e-01, -2.56654352e-01,  3.84559125e-01,  8.34389627e-02,\n",
       "         4.60980028e-01,  1.78035104e-03,  1.36565998e-01,  2.51330417e-02,\n",
       "         6.78741857e-02, -6.13584220e-02,  7.79463351e-02,  4.27473821e-02,\n",
       "        -1.43866464e-01, -6.89334571e-02, -1.13524221e-01, -7.30209202e-02,\n",
       "         1.84800755e-02,  2.39301115e-01,  6.99669421e-02,  4.31841426e-03,\n",
       "        -1.65285602e-01,  2.51335744e-02,  5.82688442e-03, -2.80926794e-01,\n",
       "         1.00340046e-01, -6.09213188e-02, -1.38668582e-01, -1.48425639e-01,\n",
       "         3.03903669e-01,  1.99614838e-02,  2.73163300e-02, -1.78408828e-02,\n",
       "         5.27402759e-02, -2.85779536e-02, -1.84392128e-02,  1.25456601e-02,\n",
       "         1.12319365e-01, -4.19705473e-02,  5.79379797e-02, -1.87151469e-02,\n",
       "         2.58197308e-01, -1.36142865e-01, -1.93800777e-02,  3.09155166e-01,\n",
       "         3.11748814e-02, -2.58720368e-01,  1.25829354e-01,  1.79861829e-01,\n",
       "        -4.05182451e-01, -4.98785943e-01, -1.45063698e-02, -2.99985316e-02,\n",
       "         2.26940349e-01, -2.39380881e-01,  3.82114321e-01, -3.49590808e-01,\n",
       "         6.39717802e-02, -1.40583575e-01, -3.71451746e-03, -1.07469931e-01,\n",
       "         1.76313952e-01,  1.46828994e-01,  1.52577266e-01, -2.48538163e-02,\n",
       "        -1.34605572e-01, -2.38615219e-02,  2.11163703e-02, -1.57718267e-02,\n",
       "         6.88782558e-02,  4.31103893e-02,  1.70938801e-02, -5.22770286e-02,\n",
       "        -6.73960671e-02, -1.66673824e-01, -1.36079043e-01, -2.48289272e-01,\n",
       "        -8.92651975e-02,  4.78396629e-04, -2.10733097e-02, -5.16929924e-02,\n",
       "         3.29849422e-02, -5.34973433e-03,  8.55961174e-04, -1.81386471e-02,\n",
       "         2.90740635e-02, -6.03668056e-02,  1.27377078e-01, -6.34542227e-01,\n",
       "         5.98608553e-01,  1.99387837e-02,  1.48867786e+00, -3.70700061e-01,\n",
       "         5.92914045e-01,  2.97833413e-01, -3.38591367e-01,  3.00899651e-02,\n",
       "         1.78313013e-02,  5.41321328e-03, -1.23354331e-01, -1.06687665e-01,\n",
       "        -1.03195265e-01,  1.11850932e-01, -1.87077317e-02,  5.85369654e-02,\n",
       "         3.03586245e-01,  1.69577420e-01,  2.54494157e-02,  1.93711314e-02,\n",
       "        -1.03330789e-02,  4.62894067e-02,  4.17250395e-03, -4.94913869e-02,\n",
       "        -1.46967489e-02,  2.41314527e-02,  2.05671061e-02, -2.21049022e-02,\n",
       "         2.71616485e-02,  1.31345659e-01, -5.80636673e-02, -5.00610424e-03,\n",
       "        -2.23287921e-02,  7.11526498e-02,  2.85380241e-02,  4.82136048e-02,\n",
       "         1.19140781e-02, -3.96846384e-02, -5.06365858e-02, -5.72461300e-02,\n",
       "        -1.75602678e-02, -3.37035283e-02,  7.07235634e-02, -3.12729529e-03,\n",
       "         1.17106957e-03,  1.72901720e-01,  2.33008102e-01,  2.14079291e-01,\n",
       "        -8.59339461e-02,  1.30782777e-03, -3.79769921e-01, -1.22198895e-01,\n",
       "        -1.66534454e-01, -2.84145232e-02,  1.05491243e-01, -2.58699894e-01,\n",
       "         2.98884716e-02, -1.81461036e-01,  1.41334102e-01,  2.36142036e-02,\n",
       "         4.54911105e-02,  6.44097775e-02,  1.93179101e-01,  4.41016778e-02,\n",
       "         1.55893371e-01, -1.99347556e-01,  1.64789945e-01,  1.17907254e-02,\n",
       "        -6.83976784e-02,  6.08649850e-02, -1.06368344e-02, -2.03040540e-02,\n",
       "         4.77038644e-04, -1.14120720e-02, -1.60956085e-01,  2.10261852e-01,\n",
       "        -1.97481401e-02,  2.59847671e-01, -1.96739122e-01,  2.64788400e-02,\n",
       "         1.33148462e-01,  6.97400188e-03, -5.28746061e-02,  2.62362417e-02,\n",
       "        -6.85183033e-02, -2.29382440e-01, -1.70690771e-02, -6.04578443e-02,\n",
       "        -1.91883948e-02, -1.12470582e-01, -7.41701648e-02,  5.74355945e-03,\n",
       "         1.35387942e-01,  6.52909279e-02,  1.51911369e-02, -3.28865238e-02,\n",
       "         1.00649968e-01,  3.87288928e-02,  1.74507901e-01, -2.81441778e-01,\n",
       "        -2.60763735e-01, -2.07388420e-02, -8.26907605e-02,  5.72336800e-02,\n",
       "         9.39315036e-02,  7.57429227e-02,  7.68212453e-02, -4.54181209e-02,\n",
       "        -2.61133730e-01,  3.30711268e-02, -6.08461387e-02, -1.14269093e-01,\n",
       "        -9.05320197e-02, -1.54954633e-02, -1.96887809e-03,  1.89574644e-01,\n",
       "         9.74732544e-03,  5.42719923e-02,  1.17580824e-01,  1.04028977e-01,\n",
       "         5.63887954e-02,  5.33340648e-02,  6.61036745e-02,  1.95755083e-02,\n",
       "         3.31298523e-02,  1.12682514e-01,  1.03633245e-02,  5.15972078e-01,\n",
       "         2.88480129e-02,  5.77667449e-03, -4.58155312e-02, -3.30336802e-02,\n",
       "         1.68021128e-01, -3.43613446e-01, -8.56601819e-02, -1.41762868e-02,\n",
       "         1.20694391e-01,  8.25306575e-04, -3.83679313e-03,  1.23033905e-02,\n",
       "         1.18069746e-01, -2.01275185e-01, -1.95390377e-02, -6.24676608e-02,\n",
       "         1.01887204e-01,  1.14821047e-02,  1.05435040e-03,  1.26545236e-01,\n",
       "        -1.82268456e-01, -3.37183438e-02, -2.18593746e-01,  8.94280896e-02,\n",
       "        -2.01160103e-01,  4.22947071e-02,  1.98005274e-01, -3.39773223e-02,\n",
       "        -2.40130313e-02, -6.17450662e-02,  7.62651041e-02,  9.09952447e-03,\n",
       "        -1.62221372e-01,  4.71571200e-02,  1.73498824e-01,  2.85075963e-01,\n",
       "        -3.19851726e-01,  3.95847820e-02,  1.79817021e-01, -6.74986318e-02,\n",
       "        -8.41564313e-02, -5.16396835e-02,  2.17413530e-01, -5.50996624e-02,\n",
       "         1.44519806e-01, -4.28463481e-02, -9.21792313e-02, -4.75901887e-02,\n",
       "         2.52446532e-01,  1.87028721e-01, -1.95405409e-01, -6.32572919e-03,\n",
       "        -2.06995174e-01,  2.85283830e-02, -5.81916943e-02,  3.59286298e-03,\n",
       "         1.64551675e-01, -2.02693805e-01, -6.19998667e-03, -6.35924637e-02,\n",
       "        -1.47570921e-02, -1.33949993e-02, -2.53478199e-01, -3.27716372e-03,\n",
       "         1.14829550e-02,  2.56643677e-03, -1.20242536e-01, -4.42280509e-02,\n",
       "        -2.39076354e-02,  2.38605845e-03, -2.35088259e-01,  3.15178633e-02,\n",
       "        -3.02538043e-03,  2.70492882e-02,  1.04600959e-01, -1.21530645e-01,\n",
       "        -8.64417404e-02, -8.03594440e-02,  3.91334534e-01,  2.59725694e-02,\n",
       "         6.77906275e-02, -4.58499759e-01,  7.81617686e-02, -1.14232935e-01,\n",
       "        -5.80030493e-02, -2.80316025e-02, -5.67378774e-02,  2.33151149e-02,\n",
       "        -1.22136787e-01,  2.31644716e-02,  7.18483999e-02, -8.48852657e-03,\n",
       "         2.58935779e-01,  4.45675515e-02, -2.24898964e-01, -5.97000122e-02,\n",
       "         7.63042225e-03,  2.19883874e-01, -1.65184103e-02,  3.32242325e-02,\n",
       "         6.24226332e-02,  3.69085222e-02, -2.61055958e-03,  3.50945257e-02,\n",
       "        -5.67059517e-02, -8.04369745e-04, -1.08183816e-01, -5.57819121e-02,\n",
       "         4.01872909e-03,  2.21523046e-01, -6.98508695e-02,  1.00636698e-01,\n",
       "        -3.96561362e-02,  3.20155025e-02,  1.53817460e-01, -2.10925844e-03,\n",
       "        -1.39751241e-01, -1.43688843e-02,  7.16299787e-02,  1.18157707e-01,\n",
       "         4.11627218e-02, -5.79875074e-02, -3.21406163e-02,  2.20028497e-02,\n",
       "        -1.56377062e-01,  1.06309012e-01,  2.25072965e-01,  2.56146397e-02,\n",
       "         5.85793657e-03, -1.15319416e-02, -1.59000263e-01, -8.04036204e-03,\n",
       "        -6.11959510e-02,  4.62223768e-01, -2.91825067e-02, -1.46087725e-02,\n",
       "         1.86640859e-01, -5.82075007e-02, -2.65739262e-01,  2.72739977e-01,\n",
       "        -5.95116094e-02, -1.40990734e-01, -3.59840249e-03,  1.11582436e-01,\n",
       "         1.27494022e-01,  9.54345018e-02, -9.21805277e-02,  1.00225739e-01,\n",
       "         1.18849330e-01, -1.37453694e-02,  2.24188697e-02, -1.59664854e-01],      dtype=float32), 'kernel': Array([[ 0.18414809, -0.01336366, -0.02255059, ..., -0.06900468,\n",
       "         -0.0459865 ,  0.20020926],\n",
       "        [ 0.2009199 , -0.00036346,  0.05687277, ..., -0.07962991,\n",
       "          0.03441357,  0.09108889],\n",
       "        [ 0.22956379,  0.06207742, -0.1089211 , ..., -0.0035125 ,\n",
       "         -0.08782601,  0.04799967],\n",
       "        ...,\n",
       "        [ 0.2598597 ,  0.02525815,  0.05285614, ...,  0.07987627,\n",
       "         -0.06785601,  0.05794917],\n",
       "        [ 0.25177002,  0.00890489,  0.04695575, ...,  0.00045634,\n",
       "         -0.01091021,  0.17802934],\n",
       "        [ 0.2163043 ,  0.10090584,  0.08190936, ...,  0.04471552,\n",
       "         -0.00681951,  0.15997458]], dtype=float32)}}}, tx=GradientTransformationExtraArgs(init=<function chain.<locals>.init_fn at 0x14b42d0322a0>, update=<function chain.<locals>.update_fn at 0x14b42d032340>), opt_state=(EmptyState(), EmptyState())),\n",
       " Array(347.27532326, dtype=float64))"
      ]
     },
     "execution_count": 42,
     "metadata": {},
     "output_type": "execute_result"
    }
   ],
   "source": [
    "train_step(model_state, inp)"
   ]
  },
  {
   "cell_type": "code",
   "execution_count": 43,
   "metadata": {},
   "outputs": [
    {
     "name": "stdout",
     "output_type": "stream",
     "text": [
      "120 ms ± 459 µs per loop (mean ± std. dev. of 7 runs, 10 loops each)\n"
     ]
    }
   ],
   "source": [
    "%timeit train_step(model_state, inp)"
   ]
  },
  {
   "cell_type": "code",
   "execution_count": 44,
   "metadata": {},
   "outputs": [],
   "source": [
    "metrics_history = {'train_loss': []}\n",
    "from tqdm import tqdm\n",
    "def train_model(state, num_epochs=200):\n",
    "    # Training loop\n",
    "    for epoch in tqdm(range(num_epochs)):\n",
    "        state, loss = train_step(state, inp)\n",
    "        metrics_history['train_loss'].append(loss)\n",
    "        print('Train epoch {}'.format(len(metrics_history['train_loss'])+1)+'  ,loss:{}'.format(loss))\n",
    "        # We could use the loss and accuracy for logging here, e.g. in TensorBoard\n",
    "        # For simplicity, we skip this part here\n",
    "    return state"
   ]
  },
  {
   "cell_type": "code",
   "execution_count": 45,
   "metadata": {},
   "outputs": [
    {
     "name": "stderr",
     "output_type": "stream",
     "text": [
      " 10%|█         | 1/10 [00:00<00:01,  8.07it/s]"
     ]
    },
    {
     "name": "stdout",
     "output_type": "stream",
     "text": [
      "Train epoch 2  ,loss:347.27531090686216\n"
     ]
    },
    {
     "name": "stderr",
     "output_type": "stream",
     "text": [
      "\r",
      " 20%|██        | 2/10 [00:00<00:00,  8.12it/s]"
     ]
    },
    {
     "name": "stdout",
     "output_type": "stream",
     "text": [
      "Train epoch 3  ,loss:67.0317503744428\n"
     ]
    },
    {
     "name": "stderr",
     "output_type": "stream",
     "text": [
      "\r",
      " 30%|███       | 3/10 [00:00<00:00,  8.11it/s]"
     ]
    },
    {
     "name": "stdout",
     "output_type": "stream",
     "text": [
      "Train epoch 4  ,loss:49.43533823525432\n"
     ]
    },
    {
     "name": "stderr",
     "output_type": "stream",
     "text": [
      "\r",
      " 40%|████      | 4/10 [00:00<00:00,  8.11it/s]"
     ]
    },
    {
     "name": "stdout",
     "output_type": "stream",
     "text": [
      "Train epoch 5  ,loss:50.57436489944928\n"
     ]
    },
    {
     "name": "stderr",
     "output_type": "stream",
     "text": [
      "\r",
      " 50%|█████     | 5/10 [00:00<00:00,  8.14it/s]"
     ]
    },
    {
     "name": "stdout",
     "output_type": "stream",
     "text": [
      "Train epoch 6  ,loss:41.46672433447793\n"
     ]
    },
    {
     "name": "stderr",
     "output_type": "stream",
     "text": [
      "\r",
      " 60%|██████    | 6/10 [00:00<00:00,  8.12it/s]"
     ]
    },
    {
     "name": "stdout",
     "output_type": "stream",
     "text": [
      "Train epoch 7  ,loss:35.734721579632094\n"
     ]
    },
    {
     "name": "stderr",
     "output_type": "stream",
     "text": [
      "\r",
      " 70%|███████   | 7/10 [00:00<00:00,  8.17it/s]"
     ]
    },
    {
     "name": "stdout",
     "output_type": "stream",
     "text": [
      "Train epoch 8  ,loss:23.34749718455828\n"
     ]
    },
    {
     "name": "stderr",
     "output_type": "stream",
     "text": [
      "\r",
      " 80%|████████  | 8/10 [00:00<00:00,  8.19it/s]"
     ]
    },
    {
     "name": "stdout",
     "output_type": "stream",
     "text": [
      "Train epoch 9  ,loss:33.658183891749005\n"
     ]
    },
    {
     "name": "stderr",
     "output_type": "stream",
     "text": [
      "\r",
      " 90%|█████████ | 9/10 [00:01<00:00,  8.16it/s]"
     ]
    },
    {
     "name": "stdout",
     "output_type": "stream",
     "text": [
      "Train epoch 10  ,loss:30.17554078398164\n"
     ]
    },
    {
     "name": "stderr",
     "output_type": "stream",
     "text": [
      "100%|██████████| 10/10 [00:01<00:00,  8.15it/s]"
     ]
    },
    {
     "name": "stdout",
     "output_type": "stream",
     "text": [
      "Train epoch 11  ,loss:29.38542913316511\n"
     ]
    },
    {
     "name": "stderr",
     "output_type": "stream",
     "text": [
      "\n"
     ]
    }
   ],
   "source": [
    "trained_model_state = train_model(model_state, num_epochs=10)"
   ]
  },
  {
   "cell_type": "markdown",
   "metadata": {},
   "source": [
    "# This example does not make too much engineering sense: it is essentially gradient descent with FEA+ANN. But it shows how simple it is to incorporate JaxSSO in ML framework."
   ]
  }
 ],
 "metadata": {
  "colab": {
   "provenance": []
  },
  "kernelspec": {
   "display_name": "jax-new [~/.conda/envs/jax-new/]",
   "language": "python",
   "name": "conda_jax-new"
  },
  "language_info": {
   "codemirror_mode": {
    "name": "ipython",
    "version": 3
   },
   "file_extension": ".py",
   "mimetype": "text/x-python",
   "name": "python",
   "nbconvert_exporter": "python",
   "pygments_lexer": "ipython3",
   "version": "3.12.1"
  },
  "vscode": {
   "interpreter": {
    "hash": "ad2bdc8ecc057115af97d19610ffacc2b4e99fae6737bb82f5d7fb13d2f2c186"
   }
  }
 },
 "nbformat": 4,
 "nbformat_minor": 1
}
