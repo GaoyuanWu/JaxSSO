{
  "cells": [
    {
      "cell_type": "markdown",
      "metadata": {
        "id": "_hoTNBOrg75Q"
      },
      "source": [
        "[![Open In Colab](https://colab.research.google.com/assets/colab-badge.svg)](https://colab.research.google.com/github/GaoyuanWu/JaxSSO/blob/main/Examples/Arch_2D.ipynb)"
      ]
    },
    {
      "cell_type": "code",
      "execution_count": null,
      "metadata": {},
      "outputs": [],
      "source": [
        "!pip install JaxSSO\n",
        "!pip install nlopt"
      ]
    },
    {
      "cell_type": "code",
      "execution_count": 1,
      "metadata": {
        "id": "a7FLz_eljFoy"
      },
      "outputs": [],
      "source": [
        "import matplotlib.pyplot as plt\n",
        "import numpy as np\n",
        "import JaxSSO as sso #Sensitivity analysis solver"
      ]
    },
    {
      "attachments": {},
      "cell_type": "markdown",
      "metadata": {
        "id": "u2RIwpTBkzdb"
      },
      "source": [
        "# Define the objective function and the gradient of the objective\n",
        "\n",
        "*   The geometry, mesh\n",
        "*   Build the SSO model\n"
      ]
    },
    {
      "cell_type": "markdown",
      "metadata": {
        "id": "007RkrKnk9BI"
      },
      "source": [
        "Setup: the nodes, connectivity, the load, the element's properties"
      ]
    },
    {
      "cell_type": "code",
      "execution_count": 2,
      "metadata": {
        "id": "nD_vwR5Hk2fz"
      },
      "outputs": [],
      "source": [
        "#Nodes\n",
        "n_node = 21\n",
        "x_span = 10\n",
        "x_nodes = np.linspace(0,x_span,n_node)\n",
        "y_nodes = np.zeros(n_node)\n",
        "z_nodes = np.random.uniform(0,0.5,n_node)\n",
        "z_nodes[0] = 0\n",
        "z_nodes[n_node-1] = 0\n",
        "design_nodes = np.array([i for i in range(n_node) if i!=0 and i!=n_node-1])\n",
        "non_design_nodes = np.array([i for i in range(n_node) if i==0 or i==n_node-1])\n",
        "#Connectivity\n",
        "n_ele = n_node -1 #number of elements\n",
        "cnct = np.zeros((n_ele,2),dtype=int) #connectivity matrix\n",
        "x_ele = np.zeros((n_ele,2))\n",
        "y_ele = np.zeros((n_ele,2))\n",
        "z_ele = np.zeros((n_ele,2))\n",
        "for i in range(n_ele):\n",
        "  cnct[i,0] = i\n",
        "  cnct[i,1] = i+1\n",
        "  x_ele[i,:] = [x_nodes[i],x_nodes[i+1]]\n",
        "  y_ele[i,:] = [y_nodes[i],y_nodes[i+1]]\n",
        "  z_ele[i,:] = [z_nodes[i],z_nodes[i+1]]\n",
        "\n",
        "#Sectional properties-> 600x400 rectangle\n",
        "h = 0.6 #height\n",
        "b = 0.4 #width\n",
        "E = 37900 * 10**6 #Young's modulus (pa)\n",
        "G = E/(2*(1+0.3)) #Shear modolus-> E = 2G(1+mu)\n",
        "Iy = b*h**3/12 #Moement of inertia in m^4\n",
        "Iz = h*b**3/12 #Same, about z axis\n",
        "J = Iy + Iz\t#Polar moment of inertia\n",
        "A = b*h #Area\n",
        "\n",
        "#Nodal loads\n",
        "load = -10000 #Newton\n",
        "f = np.zeros(n_node*6)\n",
        "f[design_nodes*6+2] = load # nodal load in -z"
      ]
    },
    {
      "cell_type": "markdown",
      "metadata": {
        "id": "gaTqP4DflEfw"
      },
      "source": [
        "Draw the initial geometry"
      ]
    },
    {
      "cell_type": "code",
      "execution_count": 3,
      "metadata": {
        "colab": {
          "base_uri": "https://localhost:8080/",
          "height": 364
        },
        "id": "Y96QCbkvk6_N",
        "outputId": "7cd97745-01eb-4c38-85d7-152f7371366d"
      },
      "outputs": [
        {
          "data": {
            "image/png": "[encoded data removed]",
            "text/plain": [
              "<Figure size 720x360 with 1 Axes>"
            ]
          },
          "metadata": {
            "needs_background": "light"
          },
          "output_type": "display_data"
        }
      ],
      "source": [
        "%matplotlib inline\n",
        "fig = plt.figure(figsize=(10,5))\n",
        "ax = fig.add_subplot()\n",
        "ax.tick_params(labelsize=20)\n",
        "ax.set_ylim(-0.5,5)\n",
        "ax.set_xlabel('X (m)',fontsize=24)\n",
        "ax.set_ylabel('Z (m)',fontsize=24)\n",
        "#Plot a basic wireframe.\n",
        "for i in range(n_ele):\n",
        "  ax.plot([x_ele[i,0],x_ele[i,1]],[z_ele[i,0],z_ele[i,1]],color='darkcyan')\n",
        "\n",
        "plt.scatter(x_nodes[non_design_nodes],z_nodes[non_design_nodes],color='black',alpha=0.8,label='Non-design nodes',s=40)\n",
        "plt.scatter(x_nodes[non_design_nodes],z_nodes[non_design_nodes]-0.2, s=150, facecolors='none', edgecolors='black',marker='^')\n",
        "ax.scatter(x_nodes[design_nodes],z_nodes[design_nodes],color='blue',alpha=0.4,label='Design nodes',s=40)\n",
        "\n",
        "plt.legend(fontsize=20, loc='best')\n",
        "plt.show()"
      ]
    },
    {
      "cell_type": "markdown",
      "metadata": {
        "id": "r8Y5qP9-lbNB"
      },
      "source": [
        "Define the objective function (with its gradient).\n",
        "\n",
        "Create some lists/arrays to store the intermediate results."
      ]
    },
    {
      "cell_type": "code",
      "execution_count": 4,
      "metadata": {
        "id": "376hPTjclOtd"
      },
      "outputs": [],
      "source": [
        "params_store = [] #store parameters\n",
        "f_store = [] #store the functional value "
      ]
    },
    {
      "cell_type": "code",
      "execution_count": 5,
      "metadata": {
        "id": "w9-r4dLSlh7H"
      },
      "outputs": [],
      "source": [
        "def objective(x):\n",
        "  params_store.append(x) #store params at each step\n",
        "  z_nodes[design_nodes] = x #update the nodal coordiante\n",
        "\n",
        "  ################\n",
        "  #  SSO MODEL   #\n",
        "  ################\n",
        "  #Build the model\n",
        "  sens_model = sso.Model_Sens.Model_Sens() #model for sensitivity analysis\n",
        "\n",
        "  #Adding nodes and boundary conditions\n",
        "  for i in range(n_node):\n",
        "    \n",
        "    sens_model.node(i,x_nodes[i],y_nodes[i],z_nodes[i])\n",
        "    if i not in design_nodes:\n",
        "      sens_model.add_support(i,[1,1,1,1,0,1]) #Pinned, only Ry allow\n",
        "\n",
        "  #Adding elements\n",
        "  for i in range(n_ele):\n",
        "    i_node = cnct[i,0]\n",
        "    j_node = cnct[i,1]\n",
        "    sens_model.beamcol(i,i_node,j_node,E,G,Iy,Iz,J,A) \n",
        "  \n",
        "  #Adding load\n",
        "  sens_model.add_nodal_load(f)\n",
        "\n",
        "  #Conduct FEA\n",
        "  sens_model.solve()\n",
        "  u_disp = sens_model.u #global displacement\n",
        "  C = 0.5*f@u_disp #compliance of the system\n",
        "  f_store.append(C) #store the compliance \n",
        " \n",
        "\n",
        "  ##################\n",
        "  #  Gradient  #\n",
        "  ##################\n",
        "  #Get the sensitivity using SSO\n",
        "  sens = sens_model.Sens_C_Coord(u_disp)\n",
        "  z_dof_index = design_nodes*3+2 #index indicating the z-dof\n",
        "  sens_params = sens[z_dof_index] #storing the sensitivity of obj. wrt design parameters\n",
        "  return C,sens_params"
      ]
    },
    {
      "cell_type": "markdown",
      "metadata": {
        "id": "MYzj3FeVlr1i"
      },
      "source": [
        "# Perform the optimization"
      ]
    },
    {
      "cell_type": "code",
      "execution_count": 6,
      "metadata": {
        "colab": {
          "base_uri": "https://localhost:8080/"
        },
        "id": "G8_7NnCClqJT",
        "outputId": "0f0f5aa7-7c5b-40b1-f9f3-f17a66c050ca"
      },
      "outputs": [
        {
          "name": "stderr",
          "output_type": "stream",
          "text": [
            "c:\\ProgramData\\Anaconda3\\lib\\site-packages\\jax\\_src\\numpy\\lax_numpy.py:2306: UserWarning: Explicitly requested dtype float64 requested in asarray is not available, and will be truncated to dtype float32. To enable more dtypes, set the jax_enable_x64 configuration option or the JAX_ENABLE_X64 shell environment variable. See https://github.com/google/jax#current-gotchas for more.\n",
            "  start = asarray(start, dtype=computation_dtype)\n",
            "c:\\ProgramData\\Anaconda3\\lib\\site-packages\\jax\\_src\\numpy\\lax_numpy.py:2307: UserWarning: Explicitly requested dtype float64 requested in asarray is not available, and will be truncated to dtype float32. To enable more dtypes, set the jax_enable_x64 configuration option or the JAX_ENABLE_X64 shell environment variable. See https://github.com/google/jax#current-gotchas for more.\n",
            "  stop = asarray(stop, dtype=computation_dtype)\n",
            "c:\\ProgramData\\Anaconda3\\lib\\site-packages\\jax\\_src\\numpy\\lax_numpy.py:2323: UserWarning: Explicitly requested dtype float64 requested in astype is not available, and will be truncated to dtype float32. To enable more dtypes, set the jax_enable_x64 configuration option or the JAX_ENABLE_X64 shell environment variable. See https://github.com/google/jax#current-gotchas for more.\n",
            "  step = step.astype(computation_dtype)\n"
          ]
        },
        {
          "name": "stdout",
          "output_type": "stream",
          "text": [
            "Step 0, objective = 256.4351806640625\n",
            "Step 1, objective = 617.94775390625\n",
            "Step 2, objective = 143.24349975585938\n",
            "Step 3, objective = 33.69709777832031\n",
            "Step 4, objective = 14.842040061950684\n",
            "Step 5, objective = 9.646854400634766\n",
            "Step 6, objective = 7.469028949737549\n",
            "Step 7, objective = 6.459247589111328\n",
            "Step 8, objective = 5.96292781829834\n",
            "Step 9, objective = 5.70775032043457\n",
            "Step 10, objective = 5.5645904541015625\n",
            "Step 11, objective = 5.482532501220703\n",
            "Step 12, objective = 5.431136131286621\n",
            "Step 13, objective = 5.399295330047607\n",
            "Step 14, objective = 5.37796688079834\n",
            "Step 15, objective = 5.362395286560059\n",
            "Step 16, objective = 5.351502418518066\n",
            "Step 17, objective = 5.3446245193481445\n",
            "Step 18, objective = 5.338560581207275\n",
            "Step 19, objective = 5.33386754989624\n",
            "Step 20, objective = 5.3307600021362305\n",
            "Step 21, objective = 5.328714370727539\n",
            "Step 22, objective = 5.326164722442627\n",
            "Step 23, objective = 5.324278831481934\n",
            "Step 24, objective = 5.322030067443848\n",
            "Step 25, objective = 5.321387767791748\n",
            "Step 26, objective = 5.320164680480957\n",
            "Step 27, objective = 5.31972599029541\n",
            "Step 28, objective = 5.319580554962158\n",
            "Step 29, objective = 5.3181843757629395\n",
            "Step 30, objective = 5.317787170410156\n",
            "Step 31, objective = 5.317080497741699\n",
            "Step 32, objective = 5.316431999206543\n",
            "Step 33, objective = 5.315987586975098\n",
            "Step 34, objective = 5.316709041595459\n",
            "Step 35, objective = 5.316948413848877\n",
            "Step 36, objective = 5.315351486206055\n",
            "Step 37, objective = 5.315755844116211\n",
            "Step 38, objective = 5.315064430236816\n",
            "Step 39, objective = 5.3157758712768555\n",
            "Step 40, objective = 5.315801620483398\n",
            "Step 41, objective = 5.315363883972168\n",
            "Step 42, objective = 5.314664840698242\n",
            "Step 43, objective = 5.315120220184326\n",
            "Step 44, objective = 5.314547538757324\n",
            "Step 45, objective = 5.314690589904785\n",
            "Step 46, objective = 5.315215110778809\n",
            "Step 47, objective = 5.31544303894043\n",
            "Step 48, objective = 5.315229892730713\n",
            "Step 49, objective = 5.314764022827148\n",
            "Step 50, objective = 5.314913749694824\n",
            "Step 51, objective = 5.3151044845581055\n",
            "Step 52, objective = 5.314831256866455\n",
            "Step 53, objective = 5.314318656921387\n",
            "Step 54, objective = 5.313990592956543\n",
            "Step 55, objective = 5.31455135345459\n",
            "Step 56, objective = 5.3141632080078125\n",
            "Step 57, objective = 5.313928604125977\n",
            "Step 58, objective = 5.3140387535095215\n",
            "Step 59, objective = 5.314000129699707\n",
            "Step 60, objective = 5.3145294189453125\n",
            "Step 61, objective = 5.3143534660339355\n",
            "Step 62, objective = 5.314040184020996\n",
            "Step 63, objective = 5.314432621002197\n",
            "Step 64, objective = 5.313756465911865\n",
            "Step 65, objective = 5.313929557800293\n",
            "Step 66, objective = 5.314051628112793\n",
            "Step 67, objective = 5.314373970031738\n",
            "Step 68, objective = 5.313819408416748\n",
            "Step 69, objective = 5.313838958740234\n",
            "Step 70, objective = 5.314060211181641\n",
            "Step 71, objective = 5.313559055328369\n",
            "Step 72, objective = 5.314318656921387\n",
            "Step 73, objective = 5.313936233520508\n",
            "Step 74, objective = 5.314018726348877\n",
            "Step 75, objective = 5.314121246337891\n",
            "Step 76, objective = 5.313843727111816\n",
            "Step 77, objective = 5.313968658447266\n",
            "Step 78, objective = 5.314067840576172\n",
            "Step 79, objective = 5.313474178314209\n",
            "Step 80, objective = 5.313981056213379\n",
            "Step 81, objective = 5.314686298370361\n",
            "Step 82, objective = 5.314345836639404\n",
            "Step 83, objective = 5.313941955566406\n",
            "Step 84, objective = 5.314223289489746\n",
            "Step 85, objective = 5.31382417678833\n",
            "Step 86, objective = 5.3137922286987305\n",
            "Step 87, objective = 5.313814163208008\n",
            "Step 88, objective = 5.313918113708496\n",
            "Step 89, objective = 5.313802719116211\n",
            "Step 90, objective = 5.313592910766602\n",
            "Step 91, objective = 5.31456184387207\n",
            "Step 92, objective = 5.31367301940918\n",
            "Step 93, objective = 5.313422679901123\n",
            "Step 94, objective = 5.313605308532715\n",
            "Step 95, objective = 5.3136701583862305\n",
            "Step 96, objective = 5.313726425170898\n",
            "Step 97, objective = 5.313807964324951\n",
            "Step 98, objective = 5.313677787780762\n",
            "Step 99, objective = 5.3140997886657715\n",
            "Step 100, objective = 5.3135175704956055\n",
            "Step 101, objective = 5.313501834869385\n",
            "Step 102, objective = 5.313413619995117\n",
            "Step 103, objective = 5.313092231750488\n",
            "Step 104, objective = 5.313068866729736\n",
            "Step 105, objective = 5.312751293182373\n",
            "Step 106, objective = 5.313399314880371\n",
            "Step 107, objective = 5.313692569732666\n",
            "Step 108, objective = 5.313854217529297\n",
            "Step 109, objective = 5.313679218292236\n",
            "Step 110, objective = 5.3132734298706055\n",
            "Step 111, objective = 5.313467025756836\n",
            "Step 112, objective = 5.313353538513184\n",
            "Step 113, objective = 5.313706874847412\n",
            "Step 114, objective = 5.313543796539307\n",
            "Step 115, objective = 5.313632011413574\n",
            "Step 116, objective = 5.313754081726074\n",
            "Step 117, objective = 5.313611030578613\n",
            "Step 118, objective = 5.314096927642822\n",
            "Step 119, objective = 5.313291072845459\n",
            "Step 120, objective = 5.314198970794678\n",
            "Step 121, objective = 5.314004421234131\n",
            "Step 122, objective = 5.31401252746582\n",
            "Step 123, objective = 5.3138837814331055\n",
            "Step 124, objective = 5.31375789642334\n",
            "Step 125, objective = 5.3136091232299805\n",
            "Step 126, objective = 5.313892841339111\n",
            "Step 127, objective = 5.313300132751465\n",
            "Step 128, objective = 5.3135986328125\n",
            "Step 129, objective = 5.313604354858398\n",
            "Step 130, objective = 5.3132829666137695\n",
            "Step 131, objective = 5.313478946685791\n",
            "Step 132, objective = 5.313655376434326\n",
            "Step 133, objective = 5.313480854034424\n",
            "Step 134, objective = 5.313101768493652\n",
            "Step 135, objective = 5.313388824462891\n",
            "Step 136, objective = 5.3131937980651855\n",
            "Step 137, objective = 5.313244819641113\n",
            "Step 138, objective = 5.313174247741699\n",
            "Step 139, objective = 5.31304407119751\n",
            "Step 140, objective = 5.313716888427734\n",
            "Step 141, objective = 5.3137617111206055\n",
            "Step 142, objective = 5.313507080078125\n",
            "Step 143, objective = 5.313478469848633\n",
            "Step 144, objective = 5.31315803527832\n",
            "Step 145, objective = 5.312926769256592\n",
            "Step 146, objective = 5.312355995178223\n",
            "Step 147, objective = 5.31276798248291\n",
            "Step 148, objective = 5.312493801116943\n",
            "Step 149, objective = 5.312612533569336\n",
            "Stopping criteria 'maxiter' met, end of optimization\n"
          ]
        }
      ],
      "source": [
        "n_x = design_nodes.shape[0] #number of parameters\n",
        "x_ini = z_nodes[design_nodes] #initial parameters \n",
        "opt = sso.Optimization.Optimization(n_x,method='GD')\n",
        "opt.set_objective(objective) #objective function\n",
        "opt.set_maxiter(150) #max iteration\n",
        "opt.set_step_size(5e-2) #step size\n",
        "x_opt = opt.optimize(x_ini,log=True)"
      ]
    },
    {
      "cell_type": "markdown",
      "metadata": {
        "id": "zIJ0Q9JfmEvo"
      },
      "source": [
        "# Draw the final structure"
      ]
    },
    {
      "cell_type": "code",
      "execution_count": 7,
      "metadata": {
        "colab": {
          "base_uri": "https://localhost:8080/",
          "height": 357
        },
        "id": "eah3koYSmD46",
        "outputId": "be8b1b6c-9218-46c4-df8b-5dfd84db4196"
      },
      "outputs": [
        {
          "data": {
            "image/png": "[encoded data removed]",
            "text/plain": [
              "<Figure size 720x360 with 1 Axes>"
            ]
          },
          "metadata": {
            "needs_background": "light"
          },
          "output_type": "display_data"
        }
      ],
      "source": [
        "#Update the nodes\n",
        "z_nodes[design_nodes] = x_opt\n",
        "z_ele[:,0] = z_nodes[cnct[:,0]]\n",
        "z_ele[:,1] = z_nodes[cnct[:,1]]\n",
        "\n",
        "fig = plt.figure(figsize=(10,5))\n",
        "ax = fig.add_subplot()\n",
        "ax.tick_params(labelsize=20)\n",
        "#ax.set_ylim(-0.5,5)\n",
        "ax.set_xlabel('X (m)',fontsize=24)\n",
        "ax.set_ylabel('Z (m)',fontsize=24)\n",
        "#Plot a basic wireframe.\n",
        "for i in range(n_ele):\n",
        "  ax.plot([x_ele[i,0],x_ele[i,1]],[z_ele[i,0],z_ele[i,1]],color='darkcyan')\n",
        "\n",
        "plt.scatter(x_nodes[non_design_nodes],z_nodes[non_design_nodes],color='black',alpha=0.8,label='Non-design nodes',s=40)\n",
        "plt.scatter(x_nodes[non_design_nodes],z_nodes[non_design_nodes]-0.2, s=150, facecolors='none', edgecolors='black',marker='^')\n",
        "ax.scatter(x_nodes[design_nodes],z_nodes[design_nodes],color='blue',alpha=0.4,label='Design nodes',s=40)\n",
        "\n",
        "plt.legend(fontsize=20, loc='best')\n",
        "plt.show()"
      ]
    }
  ],
  "metadata": {
    "colab": {
      "collapsed_sections": [],
      "provenance": []
    },
    "kernelspec": {
      "display_name": "base",
      "language": "python",
      "name": "python3"
    },
    "language_info": {
      "codemirror_mode": {
        "name": "ipython",
        "version": 3
      },
      "file_extension": ".py",
      "mimetype": "text/x-python",
      "name": "python",
      "nbconvert_exporter": "python",
      "pygments_lexer": "ipython3",
      "version": "3.8.8 (default, Apr 13 2021, 15:08:03) [MSC v.1916 64 bit (AMD64)]"
    },
    "vscode": {
      "interpreter": {
        "hash": "ad2bdc8ecc057115af97d19610ffacc2b4e99fae6737bb82f5d7fb13d2f2c186"
      }
    }
  },
  "nbformat": 4,
  "nbformat_minor": 0
}
