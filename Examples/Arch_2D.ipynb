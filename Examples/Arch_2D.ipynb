{
  "nbformat": 4,
  "nbformat_minor": 0,
  "metadata": {
    "colab": {
      "provenance": [],
      "collapsed_sections": []
    },
    "kernelspec": {
      "name": "python3",
      "display_name": "Python 3"
    },
    "language_info": {
      "name": "python"
    }
  },
  "cells": [
    {
      "cell_type": "code",
      "source": [
        "!pip install JaxSSO\n",
        "!pip install PyNiteFEA\n",
        "!pip install nlopt"
      ],
      "metadata": {
        "colab": {
          "base_uri": "https://localhost:8080/"
        },
        "id": "Aba3pgd3ZoIy",
        "outputId": "73d7c9c4-7503-4a5f-b876-6f89601a84f1"
      },
      "execution_count": 1,
      "outputs": [
        {
          "output_type": "stream",
          "name": "stdout",
          "text": [
            "Looking in indexes: https://pypi.org/simple, https://us-python.pkg.dev/colab-wheels/public/simple/\n",
            "Collecting JaxSSO\n",
            "  Downloading JaxSSO-0.0.1.tar.gz (11 kB)\n",
            "Requirement already satisfied: numpy in /usr/local/lib/python3.7/dist-packages (from JaxSSO) (1.21.6)\n",
            "Requirement already satisfied: matplotlib in /usr/local/lib/python3.7/dist-packages (from JaxSSO) (3.2.2)\n",
            "Requirement already satisfied: jax in /usr/local/lib/python3.7/dist-packages (from JaxSSO) (0.3.23)\n",
            "Requirement already satisfied: typing-extensions in /usr/local/lib/python3.7/dist-packages (from jax->JaxSSO) (4.1.1)\n",
            "Requirement already satisfied: absl-py in /usr/local/lib/python3.7/dist-packages (from jax->JaxSSO) (1.3.0)\n",
            "Requirement already satisfied: etils[epath] in /usr/local/lib/python3.7/dist-packages (from jax->JaxSSO) (0.8.0)\n",
            "Requirement already satisfied: scipy>=1.5 in /usr/local/lib/python3.7/dist-packages (from jax->JaxSSO) (1.7.3)\n",
            "Requirement already satisfied: opt-einsum in /usr/local/lib/python3.7/dist-packages (from jax->JaxSSO) (3.3.0)\n",
            "Requirement already satisfied: importlib_resources in /usr/local/lib/python3.7/dist-packages (from etils[epath]->jax->JaxSSO) (5.10.0)\n",
            "Requirement already satisfied: zipp in /usr/local/lib/python3.7/dist-packages (from etils[epath]->jax->JaxSSO) (3.9.0)\n",
            "Requirement already satisfied: pyparsing!=2.0.4,!=2.1.2,!=2.1.6,>=2.0.1 in /usr/local/lib/python3.7/dist-packages (from matplotlib->JaxSSO) (3.0.9)\n",
            "Requirement already satisfied: python-dateutil>=2.1 in /usr/local/lib/python3.7/dist-packages (from matplotlib->JaxSSO) (2.8.2)\n",
            "Requirement already satisfied: cycler>=0.10 in /usr/local/lib/python3.7/dist-packages (from matplotlib->JaxSSO) (0.11.0)\n",
            "Requirement already satisfied: kiwisolver>=1.0.1 in /usr/local/lib/python3.7/dist-packages (from matplotlib->JaxSSO) (1.4.4)\n",
            "Requirement already satisfied: six>=1.5 in /usr/local/lib/python3.7/dist-packages (from python-dateutil>=2.1->matplotlib->JaxSSO) (1.15.0)\n",
            "Building wheels for collected packages: JaxSSO\n",
            "  Building wheel for JaxSSO (setup.py) ... \u001b[?25l\u001b[?25hdone\n",
            "  Created wheel for JaxSSO: filename=JaxSSO-0.0.1-py3-none-any.whl size=12446 sha256=16f87c1e3283fced6309d53eb36e6fac130b4688461cc2d10a580ddeb4c37441\n",
            "  Stored in directory: /root/.cache/pip/wheels/ce/5f/44/69834d1eac263db91a79490296a015e96e2fe2d7394306f056\n",
            "Successfully built JaxSSO\n",
            "Installing collected packages: JaxSSO\n",
            "Successfully installed JaxSSO-0.0.1\n"
          ]
        }
      ]
    },
    {
      "cell_type": "code",
      "source": [
        "import matplotlib.pyplot as plt\n",
        "import numpy as np\n",
        "import PyNite as pyn #FEA solver\n",
        "import JaxSSO as sso #Sensitivity analysis solver"
      ],
      "metadata": {
        "id": "a7FLz_eljFoy"
      },
      "execution_count": 4,
      "outputs": []
    },
    {
      "cell_type": "markdown",
      "source": [
        "# Define the objective function and the gradient of the objective\n",
        "\n",
        "*   The geometry, mesh\n",
        "*   Build the FEA model\n",
        "*   Build the SSO model\n"
      ],
      "metadata": {
        "id": "u2RIwpTBkzdb"
      }
    },
    {
      "cell_type": "markdown",
      "source": [
        "Setup: the nodes, connectivity, the load, the element's properties"
      ],
      "metadata": {
        "id": "007RkrKnk9BI"
      }
    },
    {
      "cell_type": "code",
      "source": [
        "#Nodes\n",
        "n_node = 21\n",
        "x_span = 10\n",
        "x_nodes = np.linspace(0,x_span,n_node)\n",
        "y_nodes = np.zeros(n_node)\n",
        "z_nodes = np.random.uniform(0,0.5,n_node)\n",
        "z_nodes[0] = 0\n",
        "z_nodes[n_node-1] = 0\n",
        "design_nodes = np.array([i for i in range(n_node) if i!=0 and i!=n_node-1])\n",
        "non_design_nodes = np.array([i for i in range(n_node) if i==0 or i==n_node-1])\n",
        "#Connectivity\n",
        "n_ele = n_node -1 #number of elements\n",
        "cnct = np.zeros((n_ele,2),dtype=int) #connectivity matrix\n",
        "x_ele = np.zeros((n_ele,2))\n",
        "y_ele = np.zeros((n_ele,2))\n",
        "z_ele = np.zeros((n_ele,2))\n",
        "for i in range(n_ele):\n",
        "  cnct[i,0] = i\n",
        "  cnct[i,1] = i+1\n",
        "  x_ele[i,:] = [x_nodes[i],x_nodes[i+1]]\n",
        "  y_ele[i,:] = [y_nodes[i],y_nodes[i+1]]\n",
        "  z_ele[i,:] = [z_nodes[i],z_nodes[i+1]]\n",
        "\n",
        "#Sectional properties-> 600x400 rectangle\n",
        "h = 0.6 #height\n",
        "b = 0.4 #width\n",
        "E = 37900 * 10**6 #Young's modulus (pa)\n",
        "G = E/(2*(1+0.3)) #Shear modolus-> E = 2G(1+mu)\n",
        "Iy = b*h**3/12 #Moement of inertia in m^4\n",
        "Iz = h*b**3/12 #Same, about z axis\n",
        "J = Iy + Iz\t#Polar moment of inertia\n",
        "A = b*h #Area\n",
        "\n",
        "#Nodal loads\n",
        "load = -10000 #Newton\n",
        "f = np.zeros(n_node*6)\n",
        "f[design_nodes*6+2] = load # nodal load in -z"
      ],
      "metadata": {
        "id": "nD_vwR5Hk2fz"
      },
      "execution_count": 5,
      "outputs": []
    },
    {
      "cell_type": "markdown",
      "source": [
        "Draw the initial geometry"
      ],
      "metadata": {
        "id": "gaTqP4DflEfw"
      }
    },
    {
      "cell_type": "code",
      "source": [
        "%matplotlib inline\n",
        "fig = plt.figure(figsize=(10,5))\n",
        "ax = fig.add_subplot()\n",
        "ax.tick_params(labelsize=20)\n",
        "ax.set_ylim(-0.5,5)\n",
        "ax.set_xlabel('X (m)',fontsize=24)\n",
        "ax.set_ylabel('Z (m)',fontsize=24)\n",
        "#Plot a basic wireframe.\n",
        "for i in range(n_ele):\n",
        "  ax.plot([x_ele[i,0],x_ele[i,1]],[z_ele[i,0],z_ele[i,1]],color='darkcyan')\n",
        "\n",
        "plt.scatter(x_nodes[non_design_nodes],z_nodes[non_design_nodes],color='black',alpha=0.8,label='Non-design nodes',s=40)\n",
        "plt.scatter(x_nodes[non_design_nodes],z_nodes[non_design_nodes]-0.2, s=150, facecolors='none', edgecolors='black',marker='^')\n",
        "ax.scatter(x_nodes[design_nodes],z_nodes[design_nodes],color='blue',alpha=0.4,label='Design nodes',s=40)\n",
        "\n",
        "plt.legend(fontsize=20, loc='best')\n",
        "plt.show()"
      ],
      "metadata": {
        "colab": {
          "base_uri": "https://localhost:8080/",
          "height": 364
        },
        "id": "Y96QCbkvk6_N",
        "outputId": "7d5ec1cf-2497-4ff8-9108-518cbf632fd5"
      },
      "execution_count": 6,
      "outputs": [
        {
          "output_type": "display_data",
          "data": {
            "text/plain": [
              "<Figure size 720x360 with 1 Axes>"
            ],
            "image/png": "[encoded data removed]"
          },
          "metadata": {
            "needs_background": "light"
          }
        }
      ]
    },
    {
      "cell_type": "markdown",
      "source": [
        "Inital FEA model"
      ],
      "metadata": {
        "id": "_-VWEfSblJOK"
      }
    },
    {
      "cell_type": "code",
      "source": [
        "#Build the model\n",
        "model = pyn.FEModel3D() #model for FEA solving\n",
        "\n",
        "\n",
        "#Adding nodes and point loads at free nodes\n",
        "#set b.c. to the fixed nodes\n",
        "for i in range(n_node):\n",
        "\n",
        "  #Adding nodes\n",
        "  model.add_node(\"{}\".format(i),x_nodes[i],y_nodes[i],z_nodes[i])\n",
        "\n",
        "  if i in design_nodes:\n",
        "    model.add_node_load('{}'.format(i),'FZ',load,case='Case 1')\n",
        "  else:\n",
        "    model.def_support('{}'.format(i), True, True, True, True, False, True) \n",
        "\n",
        "#Adding members\n",
        "for i in range(n_ele):\n",
        "  i_node = \"{}\".format(cnct[i,0]) #i-node of beam\n",
        "  j_node = \"{}\".format(cnct[i,1]) #j-node of beam\n",
        "  model.add_member(\"{}\".format(i),i_node,j_node,E,G,Iy,Iz,J,A)\n",
        "\n",
        "\n",
        "\n",
        "#Add load combo\n",
        "model.add_load_combo('DEAD',{'Case 1':1})"
      ],
      "metadata": {
        "id": "-uKiJv3RlGxZ"
      },
      "execution_count": 7,
      "outputs": []
    },
    {
      "cell_type": "markdown",
      "source": [
        "Initial SSO model"
      ],
      "metadata": {
        "id": "MurSHm1flL7x"
      }
    },
    {
      "cell_type": "code",
      "source": [
        "#Build the model\n",
        "sens_model = sso.Model_Sens.Model_Sens() #model for sensitivity analysis\n",
        "\n",
        "#Adding nodes and point loads at free nodes\n",
        "#set b.c. to the fixed nodes\n",
        "for i in range(n_node):\n",
        "  #Adding nodes\n",
        "  sens_model.node(i,x_nodes[i],y_nodes[i],z_nodes[i])\n",
        "\n",
        "#Adding elements\n",
        "for i in range(n_ele):\n",
        "  i_node = cnct[i,0]\n",
        "  j_node = cnct[i,1]\n",
        "  sens_model.beamcol(i,i_node,j_node,E,G,Iy,Iz,J,A)"
      ],
      "metadata": {
        "id": "664-Wa0ilKxR"
      },
      "execution_count": 8,
      "outputs": []
    },
    {
      "cell_type": "markdown",
      "source": [
        "Define the objective function (with its gradient).\n",
        "\n",
        "Create some lists/arrays to store the intermediate results."
      ],
      "metadata": {
        "id": "r8Y5qP9-lbNB"
      }
    },
    {
      "cell_type": "code",
      "source": [
        "params_store = [] #store parameters\n",
        "f_store = [] #store the functional value \n",
        "sparse = True #Store values in sparse matrix"
      ],
      "metadata": {
        "id": "376hPTjclOtd"
      },
      "execution_count": 9,
      "outputs": []
    },
    {
      "cell_type": "code",
      "source": [
        "def objective(x):\n",
        "  params_store.append(x) #store params at each step\n",
        "\n",
        "  #################\n",
        "  #Function value#\n",
        "  #################\n",
        "\n",
        "  #Update nodes-z\n",
        "  for i in range(design_nodes.shape[0]):\n",
        "    model.Nodes[str(design_nodes[i])].Z = x[i] #update params in FEA model\n",
        "    sens_model.nodes[design_nodes[i]].Z = x[i] #update params in SSO model\n",
        "  \n",
        "  #Update elements\n",
        "  #In FEA model, the element is updated automatically,\n",
        "  #here we only update SSO model\n",
        "  for i in range(n_ele):\n",
        "    i_node = cnct[i,0]\n",
        "    j_node = cnct[i,1]\n",
        "    sens_model.beamcol(i,i_node,j_node,E,G,Iy,Iz,J,A) #update elements\n",
        "\n",
        "  #FEA: solve [K]{u}={f}\n",
        "  #Get {u}, displacement vector; C=0.5*{f}.T@{u}, compliance(strain energy)\n",
        "  model.analyze(check_statics=False)\n",
        "  u = model._D['DEAD'].reshape(-1) #displacement in 1-D vector\n",
        "  C = 0.5*f@u #compliance of the system\n",
        "  f_store.append(C) #store the compliance \n",
        "\n",
        "  ##################\n",
        "  #  Gradient  #\n",
        "  ##################\n",
        "  #Get the sensitivity using SSO\n",
        "  sens = np.zeros(n_node) #storing sensitivity\n",
        "  if sparse:\n",
        "    sens_K = sens_model.Sens_K_Coord(sparse=True)[:,2] #z-sensitivity for every node\n",
        "    for k in range(n_node):\n",
        "      if k in design_nodes:\n",
        "        sens[k] = -0.5*u@(sens_K[k].toarray())@u #from stiffness sensitivity to compliance sensitivity\n",
        "  else:\n",
        "    sens_K = sens_model.Sens_K_Coord(sparse=False)[:,2,:,:] #z-sensitivity\n",
        "    for k in range(n_node):\n",
        "      if k!= 0 and k!=n_node-1:\n",
        "        sens[k] = -0.5*u@sens_K[k]@u\n",
        "        \n",
        "  sens_params = sens[design_nodes] #storing the sensitivity of obj. wrt design parameters\n",
        "  return C,sens_params"
      ],
      "metadata": {
        "id": "w9-r4dLSlh7H"
      },
      "execution_count": 10,
      "outputs": []
    },
    {
      "cell_type": "markdown",
      "source": [
        "# Perform the optimization"
      ],
      "metadata": {
        "id": "MYzj3FeVlr1i"
      }
    },
    {
      "cell_type": "code",
      "source": [
        "n_x = design_nodes.shape[0] #number of parameters\n",
        "x_ini = z_nodes[design_nodes] #initial parameters \n",
        "opt = sso.Optimization.Optimization(n_x,method='GD')\n",
        "opt.set_objective(objective) #objective function\n",
        "opt.set_maxiter(150) #max iteration\n",
        "opt.set_step_size(1e-1) #step size\n",
        "x_opt = opt.optimize(x_ini,log=True)"
      ],
      "metadata": {
        "colab": {
          "base_uri": "https://localhost:8080/"
        },
        "id": "G8_7NnCClqJT",
        "outputId": "ddb3ffe2-c020-418a-f4ff-47ac84b0d1c4"
      },
      "execution_count": 11,
      "outputs": [
        {
          "output_type": "stream",
          "name": "stderr",
          "text": [
            "WARNING:absl:No GPU/TPU found, falling back to CPU. (Set TF_CPP_MIN_LOG_LEVEL=0 and rerun for more info.)\n"
          ]
        },
        {
          "output_type": "stream",
          "name": "stdout",
          "text": [
            "Step 0, objective = 340.1649589202125\n",
            "Step 1, objective = 677.4739368774726\n",
            "Step 2, objective = 271.5221633415326\n",
            "Step 3, objective = 57.10547042358223\n",
            "Step 4, objective = 30.436394509219078\n",
            "Step 5, objective = 21.771055745974067\n",
            "Step 6, objective = 16.901644804612946\n",
            "Step 7, objective = 14.006481342314402\n",
            "Step 8, objective = 12.194152256106149\n",
            "Step 9, objective = 11.00905703955159\n",
            "Step 10, objective = 10.20561431917016\n",
            "Step 11, objective = 9.644086303044308\n",
            "Step 12, objective = 9.24130828839702\n",
            "Step 13, objective = 8.945885835335444\n",
            "Step 14, objective = 8.725001087103083\n",
            "Step 15, objective = 8.557080788564061\n",
            "Step 16, objective = 8.42756372147849\n",
            "Step 17, objective = 8.326386985513723\n",
            "Step 18, objective = 8.24644588709926\n",
            "Step 19, objective = 8.182631083098657\n",
            "Step 20, objective = 8.131206069778054\n",
            "Step 21, objective = 8.089398407164401\n",
            "Step 22, objective = 8.055124621071085\n",
            "Step 23, objective = 8.026801212620718\n",
            "Step 24, objective = 8.00321138033287\n",
            "Step 25, objective = 7.983413049146615\n",
            "Step 26, objective = 7.966669619151802\n",
            "Step 27, objective = 7.95240201593932\n",
            "Step 28, objective = 7.9401508998347\n",
            "Step 29, objective = 7.929550324334803\n",
            "Step 30, objective = 7.920306701615832\n",
            "Step 31, objective = 7.912183197402875\n",
            "Step 32, objective = 7.9049881921950425\n",
            "Step 33, objective = 7.898565386454995\n",
            "Step 34, objective = 7.892787235742861\n",
            "Step 35, objective = 7.887548843366624\n",
            "Step 36, objective = 7.882764031696133\n",
            "Step 37, objective = 7.878361217699006\n",
            "Step 38, objective = 7.874281094548042\n",
            "Step 39, objective = 7.870474370205577\n",
            "Step 40, objective = 7.8668997548399195\n",
            "Step 41, objective = 7.863522926023304\n",
            "Step 42, objective = 7.8603146383528095\n",
            "Step 43, objective = 7.8572508267584\n",
            "Step 44, objective = 7.854310632761174\n",
            "Step 45, objective = 7.851476498718274\n",
            "Step 46, objective = 7.8487338549210515\n",
            "Step 47, objective = 7.846069872440923\n",
            "Step 48, objective = 7.8434743241813845\n",
            "Step 49, objective = 7.840937641304207\n",
            "Step 50, objective = 7.838452136830358\n",
            "Step 51, objective = 7.836011463700763\n",
            "Step 52, objective = 7.833609567016144\n",
            "Step 53, objective = 7.831241722561976\n",
            "Step 54, objective = 7.828903394927425\n",
            "Step 55, objective = 7.826591265994338\n",
            "Step 56, objective = 7.824301879607472\n",
            "Step 57, objective = 7.822032854195873\n",
            "Step 58, objective = 7.819781639846073\n",
            "Step 59, objective = 7.817546092939816\n",
            "Step 60, objective = 7.8153246640986636\n",
            "Step 61, objective = 7.813115853501392\n",
            "Step 62, objective = 7.810918048501328\n",
            "Step 63, objective = 7.808730300693938\n",
            "Step 64, objective = 7.806551292538279\n",
            "Step 65, objective = 7.804380333870013\n",
            "Step 66, objective = 7.802216663716128\n",
            "Step 67, objective = 7.800059512690879\n",
            "Step 68, objective = 7.797908253901974\n",
            "Step 69, objective = 7.795762176228756\n",
            "Step 70, objective = 7.793621127424978\n",
            "Step 71, objective = 7.7914843960369895\n",
            "Step 72, objective = 7.789351924325613\n",
            "Step 73, objective = 7.7872231185426095\n",
            "Step 74, objective = 7.785097870821855\n",
            "Step 75, objective = 7.782975896719344\n",
            "Step 76, objective = 7.780856740243796\n",
            "Step 77, objective = 7.778740495010183\n",
            "Step 78, objective = 7.776626705654006\n",
            "Step 79, objective = 7.774515438524502\n",
            "Step 80, objective = 7.772406459700173\n",
            "Step 81, objective = 7.7702994608801355\n",
            "Step 82, objective = 7.768194491764144\n",
            "Step 83, objective = 7.766091498863647\n",
            "Step 84, objective = 7.763990301406675\n",
            "Step 85, objective = 7.761890830795202\n",
            "Step 86, objective = 7.759792959355989\n",
            "Step 87, objective = 7.7576966605160065\n",
            "Step 88, objective = 7.755601690646248\n",
            "Step 89, objective = 7.753508304455398\n",
            "Step 90, objective = 7.751416175986032\n",
            "Step 91, objective = 7.74932530785318\n",
            "Step 92, objective = 7.74723589446865\n",
            "Step 93, objective = 7.745147593355305\n",
            "Step 94, objective = 7.743060608481498\n",
            "Step 95, objective = 7.740974632979335\n",
            "Step 96, objective = 7.738889776029748\n",
            "Step 97, objective = 7.736805841358339\n",
            "Step 98, objective = 7.734723161488695\n",
            "Step 99, objective = 7.732641412147435\n",
            "Step 100, objective = 7.730560500647141\n",
            "Step 101, objective = 7.728480763182369\n",
            "Step 102, objective = 7.726401936032492\n",
            "Step 103, objective = 7.7243238496769315\n",
            "Step 104, objective = 7.722246775009245\n",
            "Step 105, objective = 7.720170553063599\n",
            "Step 106, objective = 7.718095164517461\n",
            "Step 107, objective = 7.716020617379821\n",
            "Step 108, objective = 7.71394693914174\n",
            "Step 109, objective = 7.711874051814092\n",
            "Step 110, objective = 7.7098020794684725\n",
            "Step 111, objective = 7.707730722048838\n",
            "Step 112, objective = 7.705660073684444\n",
            "Step 113, objective = 7.703590399837872\n",
            "Step 114, objective = 7.701521381424836\n",
            "Step 115, objective = 7.699453083324013\n",
            "Step 116, objective = 7.697385465671005\n",
            "Step 117, objective = 7.69531862227075\n",
            "Step 118, objective = 7.693252516869741\n",
            "Step 119, objective = 7.691187116994083\n",
            "Step 120, objective = 7.689122344485161\n",
            "Step 121, objective = 7.687058242541144\n",
            "Step 122, objective = 7.68499501302943\n",
            "Step 123, objective = 7.682932392204253\n",
            "Step 124, objective = 7.680870442420051\n",
            "Step 125, objective = 7.678809139102119\n",
            "Step 126, objective = 7.676748475053221\n",
            "Step 127, objective = 7.67468848909321\n",
            "Step 128, objective = 7.672629199810762\n",
            "Step 129, objective = 7.670570562757016\n",
            "Step 130, objective = 7.668512610669676\n",
            "Step 131, objective = 7.666455155976485\n",
            "Step 132, objective = 7.664398363816504\n",
            "Step 133, objective = 7.662342109407665\n",
            "Step 134, objective = 7.6602866401937915\n",
            "Step 135, objective = 7.658231865203688\n",
            "Step 136, objective = 7.65617762027479\n",
            "Step 137, objective = 7.654124013812453\n",
            "Step 138, objective = 7.652071021603716\n",
            "Step 139, objective = 7.650018621569839\n",
            "Step 140, objective = 7.647966920780472\n",
            "Step 141, objective = 7.645915694926518\n",
            "Step 142, objective = 7.643865205653457\n",
            "Step 143, objective = 7.641815117148225\n",
            "Step 144, objective = 7.6397657191166095\n",
            "Step 145, objective = 7.637716941027327\n",
            "Step 146, objective = 7.635668828963832\n",
            "Step 147, objective = 7.63362129026821\n",
            "Step 148, objective = 7.631574366803083\n",
            "Step 149, objective = 7.6295279686747834\n",
            "Stopping criteria 'maxiter' met, end of optimization\n"
          ]
        }
      ]
    },
    {
      "cell_type": "markdown",
      "source": [
        "# Draw the final structure"
      ],
      "metadata": {
        "id": "zIJ0Q9JfmEvo"
      }
    },
    {
      "cell_type": "code",
      "source": [
        "#Update the nodes\n",
        "z_nodes[design_nodes] = x_opt\n",
        "z_ele[:,0] = z_nodes[cnct[:,0]]\n",
        "z_ele[:,1] = z_nodes[cnct[:,1]]\n",
        "\n",
        "fig = plt.figure(figsize=(10,5))\n",
        "ax = fig.add_subplot()\n",
        "ax.tick_params(labelsize=20)\n",
        "#ax.set_ylim(-0.5,5)\n",
        "ax.set_xlabel('X (m)',fontsize=24)\n",
        "ax.set_ylabel('Z (m)',fontsize=24)\n",
        "#Plot a basic wireframe.\n",
        "for i in range(n_ele):\n",
        "  ax.plot([x_ele[i,0],x_ele[i,1]],[z_ele[i,0],z_ele[i,1]],color='darkcyan')\n",
        "\n",
        "plt.scatter(x_nodes[non_design_nodes],z_nodes[non_design_nodes],color='black',alpha=0.8,label='Non-design nodes',s=40)\n",
        "plt.scatter(x_nodes[non_design_nodes],z_nodes[non_design_nodes]-0.2, s=150, facecolors='none', edgecolors='black',marker='^')\n",
        "ax.scatter(x_nodes[design_nodes],z_nodes[design_nodes],color='blue',alpha=0.4,label='Design nodes',s=40)\n",
        "\n",
        "plt.legend(fontsize=20, loc='best')\n",
        "plt.show()"
      ],
      "metadata": {
        "colab": {
          "base_uri": "https://localhost:8080/",
          "height": 357
        },
        "id": "eah3koYSmD46",
        "outputId": "0524a806-5888-4869-cd46-38d34e30a940"
      },
      "execution_count": 13,
      "outputs": [
        {
          "output_type": "display_data",
          "data": {
            "text/plain": [
              "<Figure size 720x360 with 1 Axes>"
            ],
            "image/png": "[encoded data removed]"
          },
          "metadata": {
            "needs_background": "light"
          }
        }
      ]
    },
    {
      "cell_type": "code",
      "source": [],
      "metadata": {
        "id": "mAOVzou1aHDr"
      },
      "execution_count": null,
      "outputs": []
    }
  ]
}