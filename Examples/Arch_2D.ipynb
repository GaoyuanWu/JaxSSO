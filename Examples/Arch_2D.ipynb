{
  "cells": [
    {
      "cell_type": "markdown",
      "metadata": {
        "id": "_hoTNBOrg75Q"
      },
      "source": [
        "[![Open In Colab](https://colab.research.google.com/assets/colab-badge.svg)](https://colab.research.google.com/github/GaoyuanWu/JaxSSO/blob/main/Examples/Arch_2D.ipynb)"
      ]
    },
    {
      "cell_type": "code",
      "execution_count": 14,
      "metadata": {
        "colab": {
          "base_uri": "https://localhost:8080/"
        },
        "id": "Aba3pgd3ZoIy",
        "outputId": "2b5de207-b6e5-4c23-e488-538e3dcb0c74"
      },
      "outputs": [
        {
          "name": "stdout",
          "output_type": "stream",
          "text": [
            "Looking in indexes: https://pypi.org/simple, https://us-python.pkg.dev/colab-wheels/public/simple/\n",
            "Requirement already satisfied: JaxSSO in /usr/local/lib/python3.7/dist-packages (0.0.1)\n",
            "Requirement already satisfied: numpy in /usr/local/lib/python3.7/dist-packages (from JaxSSO) (1.21.6)\n",
            "Requirement already satisfied: jax in /usr/local/lib/python3.7/dist-packages (from JaxSSO) (0.3.23)\n",
            "Requirement already satisfied: matplotlib in /usr/local/lib/python3.7/dist-packages (from JaxSSO) (3.2.2)\n",
            "Requirement already satisfied: absl-py in /usr/local/lib/python3.7/dist-packages (from jax->JaxSSO) (1.3.0)\n",
            "Requirement already satisfied: typing-extensions in /usr/local/lib/python3.7/dist-packages (from jax->JaxSSO) (4.1.1)\n",
            "Requirement already satisfied: etils[epath] in /usr/local/lib/python3.7/dist-packages (from jax->JaxSSO) (0.8.0)\n",
            "Requirement already satisfied: scipy>=1.5 in /usr/local/lib/python3.7/dist-packages (from jax->JaxSSO) (1.7.3)\n",
            "Requirement already satisfied: opt-einsum in /usr/local/lib/python3.7/dist-packages (from jax->JaxSSO) (3.3.0)\n",
            "Requirement already satisfied: zipp in /usr/local/lib/python3.7/dist-packages (from etils[epath]->jax->JaxSSO) (3.9.0)\n",
            "Requirement already satisfied: importlib_resources in /usr/local/lib/python3.7/dist-packages (from etils[epath]->jax->JaxSSO) (5.10.0)\n",
            "Requirement already satisfied: kiwisolver>=1.0.1 in /usr/local/lib/python3.7/dist-packages (from matplotlib->JaxSSO) (1.4.4)\n",
            "Requirement already satisfied: python-dateutil>=2.1 in /usr/local/lib/python3.7/dist-packages (from matplotlib->JaxSSO) (2.8.2)\n",
            "Requirement already satisfied: pyparsing!=2.0.4,!=2.1.2,!=2.1.6,>=2.0.1 in /usr/local/lib/python3.7/dist-packages (from matplotlib->JaxSSO) (3.0.9)\n",
            "Requirement already satisfied: cycler>=0.10 in /usr/local/lib/python3.7/dist-packages (from matplotlib->JaxSSO) (0.11.0)\n",
            "Requirement already satisfied: six>=1.5 in /usr/local/lib/python3.7/dist-packages (from python-dateutil>=2.1->matplotlib->JaxSSO) (1.15.0)\n",
            "Looking in indexes: https://pypi.org/simple, https://us-python.pkg.dev/colab-wheels/public/simple/\n",
            "Requirement already satisfied: PyNiteFEA in /usr/local/lib/python3.7/dist-packages (0.0.68)\n",
            "Requirement already satisfied: matplotlib in /usr/local/lib/python3.7/dist-packages (from PyNiteFEA) (3.2.2)\n",
            "Requirement already satisfied: numpy in /usr/local/lib/python3.7/dist-packages (from PyNiteFEA) (1.21.6)\n",
            "Requirement already satisfied: PrettyTable in /usr/local/lib/python3.7/dist-packages (from PyNiteFEA) (3.4.1)\n",
            "Requirement already satisfied: kiwisolver>=1.0.1 in /usr/local/lib/python3.7/dist-packages (from matplotlib->PyNiteFEA) (1.4.4)\n",
            "Requirement already satisfied: cycler>=0.10 in /usr/local/lib/python3.7/dist-packages (from matplotlib->PyNiteFEA) (0.11.0)\n",
            "Requirement already satisfied: pyparsing!=2.0.4,!=2.1.2,!=2.1.6,>=2.0.1 in /usr/local/lib/python3.7/dist-packages (from matplotlib->PyNiteFEA) (3.0.9)\n",
            "Requirement already satisfied: python-dateutil>=2.1 in /usr/local/lib/python3.7/dist-packages (from matplotlib->PyNiteFEA) (2.8.2)\n",
            "Requirement already satisfied: typing-extensions in /usr/local/lib/python3.7/dist-packages (from kiwisolver>=1.0.1->matplotlib->PyNiteFEA) (4.1.1)\n",
            "Requirement already satisfied: six>=1.5 in /usr/local/lib/python3.7/dist-packages (from python-dateutil>=2.1->matplotlib->PyNiteFEA) (1.15.0)\n",
            "Requirement already satisfied: importlib-metadata in /usr/local/lib/python3.7/dist-packages (from PrettyTable->PyNiteFEA) (4.13.0)\n",
            "Requirement already satisfied: wcwidth in /usr/local/lib/python3.7/dist-packages (from PrettyTable->PyNiteFEA) (0.2.5)\n",
            "Requirement already satisfied: zipp>=0.5 in /usr/local/lib/python3.7/dist-packages (from importlib-metadata->PrettyTable->PyNiteFEA) (3.9.0)\n",
            "Looking in indexes: https://pypi.org/simple, https://us-python.pkg.dev/colab-wheels/public/simple/\n",
            "Requirement already satisfied: nlopt in /usr/local/lib/python3.7/dist-packages (2.7.1)\n",
            "Requirement already satisfied: numpy>=1.14 in /usr/local/lib/python3.7/dist-packages (from nlopt) (1.21.6)\n"
          ]
        }
      ],
      "source": [
        "!pip install JaxSSO\n",
        "!pip install PyNiteFEA\n",
        "!pip install nlopt"
      ]
    },
    {
      "cell_type": "code",
      "execution_count": 15,
      "metadata": {
        "id": "a7FLz_eljFoy"
      },
      "outputs": [],
      "source": [
        "import matplotlib.pyplot as plt\n",
        "import numpy as np\n",
        "import PyNite as pyn #FEA solver\n",
        "import JaxSSO as sso #Sensitivity analysis solver"
      ]
    },
    {
      "cell_type": "markdown",
      "metadata": {
        "id": "u2RIwpTBkzdb"
      },
      "source": [
        "# Define the objective function and the gradient of the objective\n",
        "\n",
        "*   The geometry, mesh\n",
        "*   Build the FEA model\n",
        "*   Build the SSO model\n"
      ]
    },
    {
      "cell_type": "markdown",
      "metadata": {
        "id": "007RkrKnk9BI"
      },
      "source": [
        "Setup: the nodes, connectivity, the load, the element's properties"
      ]
    },
    {
      "cell_type": "code",
      "execution_count": 32,
      "metadata": {
        "id": "nD_vwR5Hk2fz"
      },
      "outputs": [],
      "source": [
        "#Nodes\n",
        "n_node = 21\n",
        "x_span = 10\n",
        "x_nodes = np.linspace(0,x_span,n_node)\n",
        "y_nodes = np.zeros(n_node)\n",
        "z_nodes = np.random.uniform(0,0.5,n_node)\n",
        "z_nodes[0] = 0\n",
        "z_nodes[n_node-1] = 0\n",
        "design_nodes = np.array([i for i in range(n_node) if i!=0 and i!=n_node-1])\n",
        "non_design_nodes = np.array([i for i in range(n_node) if i==0 or i==n_node-1])\n",
        "#Connectivity\n",
        "n_ele = n_node -1 #number of elements\n",
        "cnct = np.zeros((n_ele,2),dtype=int) #connectivity matrix\n",
        "x_ele = np.zeros((n_ele,2))\n",
        "y_ele = np.zeros((n_ele,2))\n",
        "z_ele = np.zeros((n_ele,2))\n",
        "for i in range(n_ele):\n",
        "  cnct[i,0] = i\n",
        "  cnct[i,1] = i+1\n",
        "  x_ele[i,:] = [x_nodes[i],x_nodes[i+1]]\n",
        "  y_ele[i,:] = [y_nodes[i],y_nodes[i+1]]\n",
        "  z_ele[i,:] = [z_nodes[i],z_nodes[i+1]]\n",
        "\n",
        "#Sectional properties-> 600x400 rectangle\n",
        "h = 0.6 #height\n",
        "b = 0.4 #width\n",
        "E = 37900 * 10**6 #Young's modulus (pa)\n",
        "G = E/(2*(1+0.3)) #Shear modolus-> E = 2G(1+mu)\n",
        "Iy = b*h**3/12 #Moement of inertia in m^4\n",
        "Iz = h*b**3/12 #Same, about z axis\n",
        "J = Iy + Iz\t#Polar moment of inertia\n",
        "A = b*h #Area\n",
        "\n",
        "#Nodal loads\n",
        "load = -10000 #Newton\n",
        "f = np.zeros(n_node*6)\n",
        "f[design_nodes*6+2] = load # nodal load in -z"
      ]
    },
    {
      "cell_type": "markdown",
      "metadata": {
        "id": "gaTqP4DflEfw"
      },
      "source": [
        "Draw the initial geometry"
      ]
    },
    {
      "cell_type": "code",
      "execution_count": 33,
      "metadata": {
        "colab": {
          "base_uri": "https://localhost:8080/",
          "height": 364
        },
        "id": "Y96QCbkvk6_N",
        "outputId": "7cd97745-01eb-4c38-85d7-152f7371366d"
      },
      "outputs": [
        {
          "data": {
            "image/png": "[encoded data removed]",
            "text/plain": [
              "<Figure size 720x360 with 1 Axes>"
            ]
          },
          "metadata": {
            "needs_background": "light"
          },
          "output_type": "display_data"
        }
      ],
      "source": [
        "%matplotlib inline\n",
        "fig = plt.figure(figsize=(10,5))\n",
        "ax = fig.add_subplot()\n",
        "ax.tick_params(labelsize=20)\n",
        "ax.set_ylim(-0.5,5)\n",
        "ax.set_xlabel('X (m)',fontsize=24)\n",
        "ax.set_ylabel('Z (m)',fontsize=24)\n",
        "#Plot a basic wireframe.\n",
        "for i in range(n_ele):\n",
        "  ax.plot([x_ele[i,0],x_ele[i,1]],[z_ele[i,0],z_ele[i,1]],color='darkcyan')\n",
        "\n",
        "plt.scatter(x_nodes[non_design_nodes],z_nodes[non_design_nodes],color='black',alpha=0.8,label='Non-design nodes',s=40)\n",
        "plt.scatter(x_nodes[non_design_nodes],z_nodes[non_design_nodes]-0.2, s=150, facecolors='none', edgecolors='black',marker='^')\n",
        "ax.scatter(x_nodes[design_nodes],z_nodes[design_nodes],color='blue',alpha=0.4,label='Design nodes',s=40)\n",
        "\n",
        "plt.legend(fontsize=20, loc='best')\n",
        "plt.show()"
      ]
    },
    {
      "cell_type": "markdown",
      "metadata": {
        "id": "_-VWEfSblJOK"
      },
      "source": [
        "Inital FEA model"
      ]
    },
    {
      "cell_type": "code",
      "execution_count": 34,
      "metadata": {
        "id": "-uKiJv3RlGxZ"
      },
      "outputs": [],
      "source": [
        "#Build the model\n",
        "model = pyn.FEModel3D() #model for FEA solving\n",
        "\n",
        "\n",
        "#Adding nodes and point loads at free nodes\n",
        "#set b.c. to the fixed nodes\n",
        "for i in range(n_node):\n",
        "\n",
        "  #Adding nodes\n",
        "  model.add_node(\"{}\".format(i),x_nodes[i],y_nodes[i],z_nodes[i])\n",
        "\n",
        "  if i in design_nodes:\n",
        "    model.add_node_load('{}'.format(i),'FZ',load,case='Case 1')\n",
        "  else:\n",
        "    model.def_support('{}'.format(i), True, True, True, True, False, True) \n",
        "\n",
        "#Adding members\n",
        "for i in range(n_ele):\n",
        "  i_node = \"{}\".format(cnct[i,0]) #i-node of beam\n",
        "  j_node = \"{}\".format(cnct[i,1]) #j-node of beam\n",
        "  model.add_member(\"{}\".format(i),i_node,j_node,E,G,Iy,Iz,J,A)\n",
        "\n",
        "\n",
        "\n",
        "#Add load combo\n",
        "model.add_load_combo('DEAD',{'Case 1':1})"
      ]
    },
    {
      "cell_type": "markdown",
      "metadata": {
        "id": "MurSHm1flL7x"
      },
      "source": [
        "Initial SSO model"
      ]
    },
    {
      "cell_type": "code",
      "execution_count": 35,
      "metadata": {
        "id": "664-Wa0ilKxR"
      },
      "outputs": [],
      "source": [
        "#Build the model\n",
        "sens_model = sso.Model_Sens.Model_Sens() #model for sensitivity analysis\n",
        "\n",
        "#Adding nodes and point loads at free nodes\n",
        "#set b.c. to the fixed nodes\n",
        "for i in range(n_node):\n",
        "  #Adding nodes\n",
        "  sens_model.node(i,x_nodes[i],y_nodes[i],z_nodes[i])\n",
        "\n",
        "#Adding elements\n",
        "for i in range(n_ele):\n",
        "  i_node = cnct[i,0]\n",
        "  j_node = cnct[i,1]\n",
        "  sens_model.beamcol(i,i_node,j_node,E,G,Iy,Iz,J,A)"
      ]
    },
    {
      "cell_type": "markdown",
      "metadata": {
        "id": "r8Y5qP9-lbNB"
      },
      "source": [
        "Define the objective function (with its gradient).\n",
        "\n",
        "Create some lists/arrays to store the intermediate results."
      ]
    },
    {
      "cell_type": "code",
      "execution_count": 36,
      "metadata": {
        "id": "376hPTjclOtd"
      },
      "outputs": [],
      "source": [
        "params_store = [] #store parameters\n",
        "f_store = [] #store the functional value "
      ]
    },
    {
      "cell_type": "code",
      "execution_count": 37,
      "metadata": {
        "id": "w9-r4dLSlh7H"
      },
      "outputs": [],
      "source": [
        "def objective(x):\n",
        "  params_store.append(x) #store params at each step\n",
        "\n",
        "  #################\n",
        "  #Function value#\n",
        "  #################\n",
        "\n",
        "  #Update nodes-z\n",
        "  for i in range(design_nodes.shape[0]):\n",
        "    model.Nodes[str(design_nodes[i])].Z = x[i] #update params in FEA model\n",
        "    sens_model.nodes[design_nodes[i]].Z = x[i] #update params in SSO model\n",
        "  \n",
        "  #Update elements\n",
        "  #In FEA model, the element is updated automatically,\n",
        "  #here we only update SSO model\n",
        "  for i in range(n_ele):\n",
        "    i_node = cnct[i,0]\n",
        "    j_node = cnct[i,1]\n",
        "    sens_model.beamcol(i,i_node,j_node,E,G,Iy,Iz,J,A) #update elements\n",
        "\n",
        "  #FEA: solve [K]{u}={f}\n",
        "  #Get {u}, displacement vector; C=0.5*{f}.T@{u}, compliance(strain energy)\n",
        "  model.analyze(check_statics=False)\n",
        "  u = model._D['DEAD'].reshape(-1) #displacement in 1-D vector\n",
        "  C = 0.5*f@u #compliance of the system\n",
        "  f_store.append(C) #store the compliance \n",
        "\n",
        "  ##################\n",
        "  #  Gradient  #\n",
        "  ##################\n",
        "  #Get the sensitivity using SSO\n",
        "  sens = sens_model.Sens_C_Coord(u)\n",
        "  z_dof_index = design_nodes*3+2 #index indicating the z-dof\n",
        "  sens_params = sens[z_dof_index] #storing the sensitivity of obj. wrt design parameters\n",
        "  return C,sens_params"
      ]
    },
    {
      "cell_type": "markdown",
      "metadata": {
        "id": "MYzj3FeVlr1i"
      },
      "source": [
        "# Perform the optimization"
      ]
    },
    {
      "cell_type": "code",
      "execution_count": 38,
      "metadata": {
        "colab": {
          "base_uri": "https://localhost:8080/"
        },
        "id": "G8_7NnCClqJT",
        "outputId": "0f0f5aa7-7c5b-40b1-f9f3-f17a66c050ca"
      },
      "outputs": [
        {
          "name": "stdout",
          "output_type": "stream",
          "text": [
            "Step 0, objective = 351.57870980547773\n",
            "Step 1, objective = 412.38834231856316\n",
            "Step 2, objective = 100.75511004242834\n",
            "Step 3, objective = 26.282550849312486\n",
            "Step 4, objective = 16.889981968442704\n",
            "Step 5, objective = 12.165786644569359\n",
            "Step 6, objective = 9.600629497575385\n",
            "Step 7, objective = 8.136012740028491\n",
            "Step 8, objective = 7.259528919226117\n",
            "Step 9, objective = 6.711482570370987\n",
            "Step 10, objective = 6.354808633251917\n",
            "Step 11, objective = 6.114290631239897\n",
            "Step 12, objective = 5.947043032030716\n",
            "Step 13, objective = 5.8276818838330025\n",
            "Step 14, objective = 5.740626529786742\n",
            "Step 15, objective = 5.6759781988101725\n",
            "Step 16, objective = 5.627242704294228\n",
            "Step 17, objective = 5.590034723982778\n",
            "Step 18, objective = 5.561316950352128\n",
            "Step 19, objective = 5.53893820735402\n",
            "Step 20, objective = 5.5213473210053765\n",
            "Step 21, objective = 5.507407409265379\n",
            "Step 22, objective = 5.496274925766222\n",
            "Step 23, objective = 5.487316838760721\n",
            "Step 24, objective = 5.480053794475443\n",
            "Step 25, objective = 5.474120210841141\n",
            "Step 26, objective = 5.469235050593878\n",
            "Step 27, objective = 5.465181282297593\n",
            "Step 28, objective = 5.4617902512441745\n",
            "Step 29, objective = 5.458930419115378\n",
            "Step 30, objective = 5.456498545230273\n",
            "Step 31, objective = 5.454413377898007\n",
            "Step 32, objective = 5.45261060543035\n",
            "Step 33, objective = 5.451039210059434\n",
            "Step 34, objective = 5.449658432095045\n",
            "Step 35, objective = 5.448435631234506\n",
            "Step 36, objective = 5.447344587846525\n",
            "Step 37, objective = 5.44636403797929\n",
            "Step 38, objective = 5.445476807909442\n",
            "Step 39, objective = 5.444668799670641\n",
            "Step 40, objective = 5.443928506920072\n",
            "Step 41, objective = 5.443246388959623\n",
            "Step 42, objective = 5.442614539587451\n",
            "Step 43, objective = 5.442026400942093\n",
            "Step 44, objective = 5.4414764793244625\n",
            "Step 45, objective = 5.440960164760728\n",
            "Step 46, objective = 5.440473513594182\n",
            "Step 47, objective = 5.440013134400672\n",
            "Step 48, objective = 5.439576207079498\n",
            "Step 49, objective = 5.439160252198079\n",
            "Step 50, objective = 5.438763138617012\n",
            "Step 51, objective = 5.438382973914917\n",
            "Step 52, objective = 5.438018137237178\n",
            "Step 53, objective = 5.437667205711952\n",
            "Step 54, objective = 5.4373289016151976\n",
            "Step 55, objective = 5.437002121727759\n",
            "Step 56, objective = 5.43668585847191\n",
            "Step 57, objective = 5.436379220874625\n",
            "Step 58, objective = 5.436081409705558\n",
            "Step 59, objective = 5.435791698229922\n",
            "Step 60, objective = 5.43550945489327\n",
            "Step 61, objective = 5.435234085146212\n",
            "Step 62, objective = 5.4349650575773465\n",
            "Step 63, objective = 5.434701889270407\n",
            "Step 64, objective = 5.434444140403648\n",
            "Step 65, objective = 5.4341914098375605\n",
            "Step 66, objective = 5.433943338784351\n",
            "Step 67, objective = 5.433699584275906\n",
            "Step 68, objective = 5.433459838353114\n",
            "Step 69, objective = 5.433223811780485\n",
            "Step 70, objective = 5.432991252851246\n",
            "Step 71, objective = 5.432761922754463\n",
            "Step 72, objective = 5.432535609221906\n",
            "Step 73, objective = 5.432312094989691\n",
            "Step 74, objective = 5.4320912012184355\n",
            "Step 75, objective = 5.4318727552711294\n",
            "Step 76, objective = 5.431656597985269\n",
            "Step 77, objective = 5.4314425821393915\n",
            "Step 78, objective = 5.431230571674255\n",
            "Step 79, objective = 5.431020440831772\n",
            "Step 80, objective = 5.430812073213583\n",
            "Step 81, objective = 5.430605360462684\n",
            "Step 82, objective = 5.430400202890745\n",
            "Step 83, objective = 5.430196513993842\n",
            "Step 84, objective = 5.429994194536587\n",
            "Step 85, objective = 5.429793164976747\n",
            "Step 86, objective = 5.429593364534198\n",
            "Step 87, objective = 5.429394717671391\n",
            "Step 88, objective = 5.429197153872886\n",
            "Step 89, objective = 5.4290006338319845\n",
            "Step 90, objective = 5.428805082690483\n",
            "Step 91, objective = 5.428610455732418\n",
            "Step 92, objective = 5.428416705467707\n",
            "Step 93, objective = 5.4282237810732115\n",
            "Step 94, objective = 5.4280316542080955\n",
            "Step 95, objective = 5.427840273980209\n",
            "Step 96, objective = 5.427649617419594\n",
            "Step 97, objective = 5.4274596451125845\n",
            "Step 98, objective = 5.427270326166763\n",
            "Step 99, objective = 5.427081631908317\n",
            "Step 100, objective = 5.426893535363972\n",
            "Step 101, objective = 5.426706011942488\n",
            "Step 102, objective = 5.426519044172508\n",
            "Step 103, objective = 5.426332598444031\n",
            "Step 104, objective = 5.426146660733451\n",
            "Step 105, objective = 5.425961212132333\n",
            "Step 106, objective = 5.425776241082541\n",
            "Step 107, objective = 5.425591719330844\n",
            "Step 108, objective = 5.425407643721741\n",
            "Step 109, objective = 5.425223994100092\n",
            "Step 110, objective = 5.425040745351326\n",
            "Step 111, objective = 5.42485790838788\n",
            "Step 112, objective = 5.4246754543780495\n",
            "Step 113, objective = 5.424493384267028\n",
            "Step 114, objective = 5.424311670180316\n",
            "Step 115, objective = 5.4241303262395215\n",
            "Step 116, objective = 5.423949326234096\n",
            "Step 117, objective = 5.423768667730983\n",
            "Step 118, objective = 5.423588348491128\n",
            "Step 119, objective = 5.423408350173243\n",
            "Step 120, objective = 5.423228677391364\n",
            "Step 121, objective = 5.42304930663301\n",
            "Step 122, objective = 5.4228702493183265\n",
            "Step 123, objective = 5.422691500172482\n",
            "Step 124, objective = 5.422513047919841\n",
            "Step 125, objective = 5.422334881881275\n",
            "Step 126, objective = 5.422156998157515\n",
            "Step 127, objective = 5.421979403538875\n",
            "Step 128, objective = 5.421802093980966\n",
            "Step 129, objective = 5.421625054659787\n",
            "Step 130, objective = 5.421448287392173\n",
            "Step 131, objective = 5.421271794577549\n",
            "Step 132, objective = 5.421095567511718\n",
            "Step 133, objective = 5.420919603569592\n",
            "Step 134, objective = 5.420743888634022\n",
            "Step 135, objective = 5.420568431605097\n",
            "Step 136, objective = 5.42039322984719\n",
            "Step 137, objective = 5.420218281045468\n",
            "Step 138, objective = 5.420043583290307\n",
            "Step 139, objective = 5.419869139859672\n",
            "Step 140, objective = 5.419694937814709\n",
            "Step 141, objective = 5.419520986242536\n",
            "Step 142, objective = 5.419347278518388\n",
            "Step 143, objective = 5.419173807293315\n",
            "Step 144, objective = 5.419000581687007\n",
            "Step 145, objective = 5.418827589699099\n",
            "Step 146, objective = 5.4186548355705995\n",
            "Step 147, objective = 5.4184823232798225\n",
            "Step 148, objective = 5.418310051146949\n",
            "Step 149, objective = 5.418138002471561\n",
            "Stopping criteria 'maxiter' met, end of optimization\n"
          ]
        }
      ],
      "source": [
        "n_x = design_nodes.shape[0] #number of parameters\n",
        "x_ini = z_nodes[design_nodes] #initial parameters \n",
        "opt = sso.Optimization.Optimization(n_x,method='GD')\n",
        "opt.set_objective(objective) #objective function\n",
        "opt.set_maxiter(150) #max iteration\n",
        "opt.set_step_size(5e-2) #step size\n",
        "x_opt = opt.optimize(x_ini,log=True)"
      ]
    },
    {
      "cell_type": "markdown",
      "metadata": {
        "id": "zIJ0Q9JfmEvo"
      },
      "source": [
        "# Draw the final structure"
      ]
    },
    {
      "cell_type": "code",
      "execution_count": 39,
      "metadata": {
        "colab": {
          "base_uri": "https://localhost:8080/",
          "height": 357
        },
        "id": "eah3koYSmD46",
        "outputId": "be8b1b6c-9218-46c4-df8b-5dfd84db4196"
      },
      "outputs": [
        {
          "data": {
            "image/png": "[encoded data removed]",
            "text/plain": [
              "<Figure size 720x360 with 1 Axes>"
            ]
          },
          "metadata": {
            "needs_background": "light"
          },
          "output_type": "display_data"
        }
      ],
      "source": [
        "#Update the nodes\n",
        "z_nodes[design_nodes] = x_opt\n",
        "z_ele[:,0] = z_nodes[cnct[:,0]]\n",
        "z_ele[:,1] = z_nodes[cnct[:,1]]\n",
        "\n",
        "fig = plt.figure(figsize=(10,5))\n",
        "ax = fig.add_subplot()\n",
        "ax.tick_params(labelsize=20)\n",
        "#ax.set_ylim(-0.5,5)\n",
        "ax.set_xlabel('X (m)',fontsize=24)\n",
        "ax.set_ylabel('Z (m)',fontsize=24)\n",
        "#Plot a basic wireframe.\n",
        "for i in range(n_ele):\n",
        "  ax.plot([x_ele[i,0],x_ele[i,1]],[z_ele[i,0],z_ele[i,1]],color='darkcyan')\n",
        "\n",
        "plt.scatter(x_nodes[non_design_nodes],z_nodes[non_design_nodes],color='black',alpha=0.8,label='Non-design nodes',s=40)\n",
        "plt.scatter(x_nodes[non_design_nodes],z_nodes[non_design_nodes]-0.2, s=150, facecolors='none', edgecolors='black',marker='^')\n",
        "ax.scatter(x_nodes[design_nodes],z_nodes[design_nodes],color='blue',alpha=0.4,label='Design nodes',s=40)\n",
        "\n",
        "plt.legend(fontsize=20, loc='best')\n",
        "plt.show()"
      ]
    }
  ],
  "metadata": {
    "colab": {
      "collapsed_sections": [],
      "provenance": []
    },
    "kernelspec": {
      "display_name": "base",
      "language": "python",
      "name": "python3"
    },
    "language_info": {
      "name": "python",
      "version": "3.8.8 (default, Apr 13 2021, 15:08:03) [MSC v.1916 64 bit (AMD64)]"
    },
    "vscode": {
      "interpreter": {
        "hash": "ad2bdc8ecc057115af97d19610ffacc2b4e99fae6737bb82f5d7fb13d2f2c186"
      }
    }
  },
  "nbformat": 4,
  "nbformat_minor": 0
}
