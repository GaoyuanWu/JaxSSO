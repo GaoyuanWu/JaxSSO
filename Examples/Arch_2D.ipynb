{
  "cells": [
    {
      "cell_type": "markdown",
      "metadata": {
        "id": "_hoTNBOrg75Q"
      },
      "source": [
        "[![Open In Colab](https://colab.research.google.com/assets/colab-badge.svg)](https://colab.research.google.com/github/GaoyuanWu/JaxSSO/blob/main/Examples/Arch_2D.ipynb)"
      ]
    },
    {
      "cell_type": "code",
      "execution_count": null,
      "metadata": {},
      "outputs": [],
      "source": [
        "!pip install JaxSSO\n",
        "!pip install nlopt"
      ]
    },
    {
      "cell_type": "code",
      "execution_count": 1,
      "metadata": {
        "id": "a7FLz_eljFoy"
      },
      "outputs": [],
      "source": [
        "import matplotlib.pyplot as plt\n",
        "import numpy as np\n",
        "import JaxSSO as sso #Sensitivity analysis solver\n",
        "import jax\n",
        "jax.config.update(\"jax_enable_x64\", True)"
      ]
    },
    {
      "attachments": {},
      "cell_type": "markdown",
      "metadata": {
        "id": "u2RIwpTBkzdb"
      },
      "source": [
        "# Define the objective function and the gradient of the objective\n",
        "\n",
        "*   The geometry, mesh\n",
        "*   Build the SSO model\n"
      ]
    },
    {
      "cell_type": "markdown",
      "metadata": {
        "id": "007RkrKnk9BI"
      },
      "source": [
        "Setup: the nodes, connectivity, the load, the element's properties"
      ]
    },
    {
      "cell_type": "code",
      "execution_count": 2,
      "metadata": {
        "id": "nD_vwR5Hk2fz"
      },
      "outputs": [],
      "source": [
        "#Nodes\n",
        "n_node = 21\n",
        "x_span = 10\n",
        "x_nodes = np.linspace(0,x_span,n_node)\n",
        "y_nodes = np.zeros(n_node)\n",
        "z_nodes = np.random.uniform(0,0.5,n_node)\n",
        "z_nodes[0] = 0\n",
        "z_nodes[n_node-1] = 0\n",
        "design_nodes = np.array([i for i in range(n_node) if i!=0 and i!=n_node-1])\n",
        "non_design_nodes = np.array([i for i in range(n_node) if i==0 or i==n_node-1])\n",
        "#Connectivity\n",
        "n_ele = n_node -1 #number of elements\n",
        "cnct = np.zeros((n_ele,2),dtype=int) #connectivity matrix\n",
        "x_ele = np.zeros((n_ele,2))\n",
        "y_ele = np.zeros((n_ele,2))\n",
        "z_ele = np.zeros((n_ele,2))\n",
        "for i in range(n_ele):\n",
        "  cnct[i,0] = i\n",
        "  cnct[i,1] = i+1\n",
        "  x_ele[i,:] = [x_nodes[i],x_nodes[i+1]]\n",
        "  y_ele[i,:] = [y_nodes[i],y_nodes[i+1]]\n",
        "  z_ele[i,:] = [z_nodes[i],z_nodes[i+1]]\n",
        "\n",
        "#Sectional properties-> 600x400 rectangle\n",
        "h = 0.6 #height\n",
        "b = 0.4 #width\n",
        "E = 37900 * 10**6 #Young's modulus (pa)\n",
        "G = E/(2*(1+0.3)) #Shear modolus-> E = 2G(1+mu)\n",
        "Iy = b*h**3/12 #Moement of inertia in m^4\n",
        "Iz = h*b**3/12 #Same, about z axis\n",
        "J = Iy + Iz\t#Polar moment of inertia\n",
        "A = b*h #Area\n",
        "\n",
        "#Nodal loads\n",
        "load = -10000 #Newton\n",
        "f = np.zeros(n_node*6)\n",
        "f[design_nodes*6+2] = load # nodal load in -z"
      ]
    },
    {
      "cell_type": "markdown",
      "metadata": {
        "id": "gaTqP4DflEfw"
      },
      "source": [
        "Draw the initial geometry"
      ]
    },
    {
      "cell_type": "code",
      "execution_count": 3,
      "metadata": {
        "colab": {
          "base_uri": "https://localhost:8080/",
          "height": 364
        },
        "id": "Y96QCbkvk6_N",
        "outputId": "7cd97745-01eb-4c38-85d7-152f7371366d"
      },
      "outputs": [
        {
          "data": {
            "image/png": "[encoded data removed]",
            "text/plain": [
              "<Figure size 720x360 with 1 Axes>"
            ]
          },
          "metadata": {
            "needs_background": "light"
          },
          "output_type": "display_data"
        }
      ],
      "source": [
        "%matplotlib inline\n",
        "fig = plt.figure(figsize=(10,5))\n",
        "ax = fig.add_subplot()\n",
        "ax.tick_params(labelsize=20)\n",
        "ax.set_ylim(-0.5,5)\n",
        "ax.set_xlabel('X (m)',fontsize=24)\n",
        "ax.set_ylabel('Z (m)',fontsize=24)\n",
        "#Plot a basic wireframe.\n",
        "for i in range(n_ele):\n",
        "  ax.plot([x_ele[i,0],x_ele[i,1]],[z_ele[i,0],z_ele[i,1]],color='darkcyan')\n",
        "\n",
        "plt.scatter(x_nodes[non_design_nodes],z_nodes[non_design_nodes],color='black',alpha=0.8,label='Non-design nodes',s=40)\n",
        "plt.scatter(x_nodes[non_design_nodes],z_nodes[non_design_nodes]-0.2, s=150, facecolors='none', edgecolors='black',marker='^')\n",
        "ax.scatter(x_nodes[design_nodes],z_nodes[design_nodes],color='blue',alpha=0.4,label='Design nodes',s=40)\n",
        "\n",
        "plt.legend(fontsize=20, loc='best')\n",
        "plt.show()"
      ]
    },
    {
      "cell_type": "markdown",
      "metadata": {
        "id": "r8Y5qP9-lbNB"
      },
      "source": [
        "Define the objective function (with its gradient).\n",
        "\n",
        "Create some lists/arrays to store the intermediate results."
      ]
    },
    {
      "cell_type": "code",
      "execution_count": 4,
      "metadata": {
        "id": "376hPTjclOtd"
      },
      "outputs": [],
      "source": [
        "params_store = [] #store parameters\n",
        "f_store = [] #store the functional value "
      ]
    },
    {
      "cell_type": "code",
      "execution_count": 5,
      "metadata": {
        "id": "w9-r4dLSlh7H"
      },
      "outputs": [],
      "source": [
        "def objective(x):\n",
        "  params_store.append(x) #store params at each step\n",
        "  z_nodes[design_nodes] = x #update the nodal coordiante\n",
        "\n",
        "  ################\n",
        "  #  SSO MODEL   #\n",
        "  ################\n",
        "  #Build the model\n",
        "  sens_model = sso.Model_Sens.Model_Sens() #model for sensitivity analysis\n",
        "\n",
        "  #Adding nodes and boundary conditions\n",
        "  for i in range(n_node):\n",
        "    \n",
        "    sens_model.node(i,x_nodes[i],y_nodes[i],z_nodes[i])\n",
        "    if i not in design_nodes:\n",
        "      sens_model.add_support(i,[1,1,1,1,0,1]) #Pinned, only Ry allow\n",
        "\n",
        "  #Adding elements\n",
        "  for i in range(n_ele):\n",
        "    i_node = cnct[i,0]\n",
        "    j_node = cnct[i,1]\n",
        "    sens_model.beamcol(i,i_node,j_node,E,G,Iy,Iz,J,A) \n",
        "  \n",
        "  #Adding load\n",
        "  sens_model.add_nodal_load(f)\n",
        "\n",
        "  #Conduct FEA\n",
        "  sens_model.solve()\n",
        "  u_disp = sens_model.u #global displacement\n",
        "  C = 0.5*f@u_disp #compliance of the system\n",
        "  f_store.append(C) #store the compliance \n",
        " \n",
        "\n",
        "  ##################\n",
        "  #  Gradient  #\n",
        "  ##################\n",
        "  #Get the sensitivity using SSO\n",
        "  sens = sens_model.Sens_C_Coord(u_disp)\n",
        "  z_dof_index = design_nodes*3+2 #index indicating the z-dof\n",
        "  sens_params = sens[z_dof_index] #storing the sensitivity of obj. wrt design parameters\n",
        "  return C,sens_params"
      ]
    },
    {
      "cell_type": "markdown",
      "metadata": {
        "id": "MYzj3FeVlr1i"
      },
      "source": [
        "# Perform the optimization"
      ]
    },
    {
      "cell_type": "code",
      "execution_count": 6,
      "metadata": {
        "colab": {
          "base_uri": "https://localhost:8080/"
        },
        "id": "G8_7NnCClqJT",
        "outputId": "0f0f5aa7-7c5b-40b1-f9f3-f17a66c050ca"
      },
      "outputs": [
        {
          "name": "stderr",
          "output_type": "stream",
          "text": [
            "c:\\ProgramData\\Anaconda3\\lib\\site-packages\\jax\\_src\\numpy\\lax_numpy.py:2306: UserWarning: Explicitly requested dtype float64 requested in asarray is not available, and will be truncated to dtype float32. To enable more dtypes, set the jax_enable_x64 configuration option or the JAX_ENABLE_X64 shell environment variable. See https://github.com/google/jax#current-gotchas for more.\n",
            "  start = asarray(start, dtype=computation_dtype)\n",
            "c:\\ProgramData\\Anaconda3\\lib\\site-packages\\jax\\_src\\numpy\\lax_numpy.py:2307: UserWarning: Explicitly requested dtype float64 requested in asarray is not available, and will be truncated to dtype float32. To enable more dtypes, set the jax_enable_x64 configuration option or the JAX_ENABLE_X64 shell environment variable. See https://github.com/google/jax#current-gotchas for more.\n",
            "  stop = asarray(stop, dtype=computation_dtype)\n",
            "c:\\ProgramData\\Anaconda3\\lib\\site-packages\\jax\\_src\\numpy\\lax_numpy.py:2323: UserWarning: Explicitly requested dtype float64 requested in astype is not available, and will be truncated to dtype float32. To enable more dtypes, set the jax_enable_x64 configuration option or the JAX_ENABLE_X64 shell environment variable. See https://github.com/google/jax#current-gotchas for more.\n",
            "  step = step.astype(computation_dtype)\n"
          ]
        },
        {
          "name": "stdout",
          "output_type": "stream",
          "text": [
            "Step 0, objective = 346.08904871468343\n",
            "Step 1, objective = 508.22908415260645\n",
            "Step 2, objective = 197.63748474856843\n",
            "Step 3, objective = 45.56654922092291\n",
            "Step 4, objective = 23.355336005792914\n",
            "Step 5, objective = 15.24694203284039\n",
            "Step 6, objective = 11.112314971165809\n",
            "Step 7, objective = 8.844636144549098\n",
            "Step 8, objective = 7.558228613797525\n",
            "Step 9, objective = 6.794365851592257\n",
            "Step 10, objective = 6.331125873154656\n",
            "Step 11, objective = 6.04062442127723\n",
            "Step 12, objective = 5.847025511491453\n",
            "Step 13, objective = 5.720479058742297\n",
            "Step 14, objective = 5.631826482403299\n",
            "Step 15, objective = 5.57062188050865\n",
            "Step 16, objective = 5.524107695173367\n",
            "Step 17, objective = 5.492248331894288\n",
            "Step 18, objective = 5.467738036926377\n",
            "Step 19, objective = 5.449479473036545\n",
            "Step 20, objective = 5.433237883154813\n",
            "Step 21, objective = 5.424187516951476\n",
            "Step 22, objective = 5.4137919473447225\n",
            "Step 23, objective = 5.406391147463045\n",
            "Step 24, objective = 5.400424851064526\n",
            "Step 25, objective = 5.395992522335207\n",
            "Step 26, objective = 5.391573490218545\n",
            "Step 27, objective = 5.386829339364677\n",
            "Step 28, objective = 5.384204362613812\n",
            "Step 29, objective = 5.381137881930009\n",
            "Step 30, objective = 5.379391349257854\n",
            "Step 31, objective = 5.377293940266351\n",
            "Step 32, objective = 5.375718285952449\n",
            "Step 33, objective = 5.374248497645124\n",
            "Step 34, objective = 5.372348805332534\n",
            "Step 35, objective = 5.371370245374216\n",
            "Step 36, objective = 5.370492209099873\n",
            "Step 37, objective = 5.3692572004794465\n",
            "Step 38, objective = 5.368994846013516\n",
            "Step 39, objective = 5.368432867828582\n",
            "Step 40, objective = 5.36743554852422\n",
            "Step 41, objective = 5.36649196917635\n",
            "Step 42, objective = 5.366016905435035\n",
            "Step 43, objective = 5.365649000052399\n",
            "Step 44, objective = 5.365614355164613\n",
            "Step 45, objective = 5.364645338936637\n",
            "Step 46, objective = 5.365026325532695\n",
            "Step 47, objective = 5.363880483520318\n",
            "Step 48, objective = 5.363319465139677\n",
            "Step 49, objective = 5.363233266471305\n",
            "Step 50, objective = 5.363041522238942\n",
            "Step 51, objective = 5.363773880762063\n",
            "Step 52, objective = 5.362821705586322\n",
            "Step 53, objective = 5.36237378449332\n",
            "Step 54, objective = 5.362154787960765\n",
            "Step 55, objective = 5.362814093132299\n",
            "Step 56, objective = 5.362628478055911\n",
            "Step 57, objective = 5.362779767888921\n",
            "Step 58, objective = 5.361696253583909\n",
            "Step 59, objective = 5.361052596971786\n",
            "Step 60, objective = 5.361275688545827\n",
            "Step 61, objective = 5.361427646394061\n",
            "Step 62, objective = 5.361148806925505\n",
            "Step 63, objective = 5.3611119609627\n",
            "Step 64, objective = 5.361182667039522\n",
            "Step 65, objective = 5.3613329303099295\n",
            "Step 66, objective = 5.361184495124912\n",
            "Step 67, objective = 5.360588043378169\n",
            "Step 68, objective = 5.359920272907701\n",
            "Step 69, objective = 5.360503940094459\n",
            "Step 70, objective = 5.360535931517671\n",
            "Step 71, objective = 5.35992211973233\n",
            "Step 72, objective = 5.360018079242984\n",
            "Step 73, objective = 5.359597708827427\n",
            "Step 74, objective = 5.3601576845203525\n",
            "Step 75, objective = 5.359714786503031\n",
            "Step 76, objective = 5.358561890935016\n",
            "Step 77, objective = 5.358313697073946\n",
            "Step 78, objective = 5.3587610337060285\n",
            "Step 79, objective = 5.358726874712594\n",
            "Step 80, objective = 5.35872111091295\n",
            "Step 81, objective = 5.359076065538685\n",
            "Step 82, objective = 5.35883367863217\n",
            "Step 83, objective = 5.358618609422271\n",
            "Step 84, objective = 5.357510593458961\n",
            "Step 85, objective = 5.357940122823871\n",
            "Step 86, objective = 5.357269645529515\n",
            "Step 87, objective = 5.357965854118421\n",
            "Step 88, objective = 5.358291580788041\n",
            "Step 89, objective = 5.358112287036185\n",
            "Step 90, objective = 5.358732164464624\n",
            "Step 91, objective = 5.35875005434245\n",
            "Step 92, objective = 5.35803327833455\n",
            "Step 93, objective = 5.357795576341304\n",
            "Step 94, objective = 5.357888042874966\n",
            "Step 95, objective = 5.3577677854873675\n",
            "Step 96, objective = 5.35769118163042\n",
            "Step 97, objective = 5.3576636919568035\n",
            "Step 98, objective = 5.357796812009055\n",
            "Step 99, objective = 5.35772561347296\n",
            "Step 100, objective = 5.35775596557027\n",
            "Step 101, objective = 5.356382560199889\n",
            "Step 102, objective = 5.3565591817682545\n",
            "Step 103, objective = 5.356199036916292\n",
            "Step 104, objective = 5.356241331102082\n",
            "Step 105, objective = 5.3559030230265545\n",
            "Step 106, objective = 5.3561327897343585\n",
            "Step 107, objective = 5.356470083749681\n",
            "Step 108, objective = 5.356676992513658\n",
            "Step 109, objective = 5.356916372990927\n",
            "Step 110, objective = 5.356971971584404\n",
            "Step 111, objective = 5.355773628016472\n",
            "Step 112, objective = 5.354509675258773\n",
            "Step 113, objective = 5.354745270068111\n",
            "Step 114, objective = 5.354836916603221\n",
            "Step 115, objective = 5.354923549192984\n",
            "Step 116, objective = 5.355110027885435\n",
            "Step 117, objective = 5.3552237635517\n",
            "Step 118, objective = 5.355433396251045\n",
            "Step 119, objective = 5.356265158369927\n",
            "Step 120, objective = 5.355642552500754\n",
            "Step 121, objective = 5.354885718673628\n",
            "Step 122, objective = 5.355329094948204\n",
            "Step 123, objective = 5.355653088739898\n",
            "Step 124, objective = 5.355648405050992\n",
            "Step 125, objective = 5.355836749048639\n",
            "Step 126, objective = 5.355965422333996\n",
            "Step 127, objective = 5.356005409846759\n",
            "Step 128, objective = 5.355713755562655\n",
            "Step 129, objective = 5.355244890618261\n",
            "Step 130, objective = 5.354374810094646\n",
            "Step 131, objective = 5.354336494225821\n",
            "Step 132, objective = 5.3540886876825065\n",
            "Step 133, objective = 5.35437259462325\n",
            "Step 134, objective = 5.354385836120667\n",
            "Step 135, objective = 5.354462204157699\n",
            "Step 136, objective = 5.3546973050617614\n",
            "Step 137, objective = 5.353620171260969\n",
            "Step 138, objective = 5.35351319001578\n",
            "Step 139, objective = 5.353792420805828\n",
            "Step 140, objective = 5.352899413064937\n",
            "Step 141, objective = 5.352491077615963\n",
            "Step 142, objective = 5.352676944941236\n",
            "Step 143, objective = 5.353044932732393\n",
            "Step 144, objective = 5.353104864833715\n",
            "Step 145, objective = 5.35329584917128\n",
            "Step 146, objective = 5.352759720291334\n",
            "Step 147, objective = 5.352338565184967\n",
            "Step 148, objective = 5.3522792580184255\n",
            "Step 149, objective = 5.353509570969693\n",
            "Stopping criteria 'maxiter' met, end of optimization\n"
          ]
        }
      ],
      "source": [
        "n_x = design_nodes.shape[0] #number of parameters\n",
        "x_ini = z_nodes[design_nodes] #initial parameters \n",
        "opt = sso.Optimization.Optimization(n_x,method='GD')\n",
        "opt.set_objective(objective) #objective function\n",
        "opt.set_maxiter(150) #max iteration\n",
        "opt.set_step_size(5e-2) #step size\n",
        "x_opt = opt.optimize(x_ini,log=True)"
      ]
    },
    {
      "cell_type": "markdown",
      "metadata": {
        "id": "zIJ0Q9JfmEvo"
      },
      "source": [
        "# Draw the final structure"
      ]
    },
    {
      "cell_type": "code",
      "execution_count": 7,
      "metadata": {
        "colab": {
          "base_uri": "https://localhost:8080/",
          "height": 357
        },
        "id": "eah3koYSmD46",
        "outputId": "be8b1b6c-9218-46c4-df8b-5dfd84db4196"
      },
      "outputs": [
        {
          "data": {
            "image/png": "[encoded data removed]",
            "text/plain": [
              "<Figure size 720x360 with 1 Axes>"
            ]
          },
          "metadata": {
            "needs_background": "light"
          },
          "output_type": "display_data"
        }
      ],
      "source": [
        "#Update the nodes\n",
        "z_nodes[design_nodes] = x_opt\n",
        "z_ele[:,0] = z_nodes[cnct[:,0]]\n",
        "z_ele[:,1] = z_nodes[cnct[:,1]]\n",
        "\n",
        "fig = plt.figure(figsize=(10,5))\n",
        "ax = fig.add_subplot()\n",
        "ax.tick_params(labelsize=20)\n",
        "#ax.set_ylim(-0.5,5)\n",
        "ax.set_xlabel('X (m)',fontsize=24)\n",
        "ax.set_ylabel('Z (m)',fontsize=24)\n",
        "#Plot a basic wireframe.\n",
        "for i in range(n_ele):\n",
        "  ax.plot([x_ele[i,0],x_ele[i,1]],[z_ele[i,0],z_ele[i,1]],color='darkcyan')\n",
        "\n",
        "plt.scatter(x_nodes[non_design_nodes],z_nodes[non_design_nodes],color='black',alpha=0.8,label='Non-design nodes',s=40)\n",
        "plt.scatter(x_nodes[non_design_nodes],z_nodes[non_design_nodes]-0.2, s=150, facecolors='none', edgecolors='black',marker='^')\n",
        "ax.scatter(x_nodes[design_nodes],z_nodes[design_nodes],color='blue',alpha=0.4,label='Design nodes',s=40)\n",
        "\n",
        "plt.legend(fontsize=20, loc='best')\n",
        "plt.show()"
      ]
    }
  ],
  "metadata": {
    "colab": {
      "collapsed_sections": [],
      "provenance": []
    },
    "kernelspec": {
      "display_name": "base",
      "language": "python",
      "name": "python3"
    },
    "language_info": {
      "codemirror_mode": {
        "name": "ipython",
        "version": 3
      },
      "file_extension": ".py",
      "mimetype": "text/x-python",
      "name": "python",
      "nbconvert_exporter": "python",
      "pygments_lexer": "ipython3",
      "version": "3.8.8"
    },
    "vscode": {
      "interpreter": {
        "hash": "ad2bdc8ecc057115af97d19610ffacc2b4e99fae6737bb82f5d7fb13d2f2c186"
      }
    }
  },
  "nbformat": 4,
  "nbformat_minor": 0
}
