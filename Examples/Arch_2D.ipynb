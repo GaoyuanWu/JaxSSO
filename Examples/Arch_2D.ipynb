{
  "cells": [
    {
      "cell_type": "markdown",
      "metadata": {
        "id": "_hoTNBOrg75Q"
      },
      "source": [
        "[![Open In Colab](https://colab.research.google.com/assets/colab-badge.svg)](https://colab.research.google.com/github/GaoyuanWu/JaxSSO/blob/main/Examples/Arch_2D.ipynb)"
      ]
    },
    {
      "cell_type": "code",
      "execution_count": 14,
      "metadata": {
        "colab": {
          "base_uri": "https://localhost:8080/"
        },
        "id": "Aba3pgd3ZoIy",
        "outputId": "2b5de207-b6e5-4c23-e488-538e3dcb0c74"
      },
      "outputs": [
        {
          "name": "stdout",
          "output_type": "stream",
          "text": [
            "Looking in indexes: https://pypi.org/simple, https://us-python.pkg.dev/colab-wheels/public/simple/\n",
            "Requirement already satisfied: JaxSSO in /usr/local/lib/python3.7/dist-packages (0.0.1)\n",
            "Requirement already satisfied: numpy in /usr/local/lib/python3.7/dist-packages (from JaxSSO) (1.21.6)\n",
            "Requirement already satisfied: jax in /usr/local/lib/python3.7/dist-packages (from JaxSSO) (0.3.23)\n",
            "Requirement already satisfied: matplotlib in /usr/local/lib/python3.7/dist-packages (from JaxSSO) (3.2.2)\n",
            "Requirement already satisfied: absl-py in /usr/local/lib/python3.7/dist-packages (from jax->JaxSSO) (1.3.0)\n",
            "Requirement already satisfied: typing-extensions in /usr/local/lib/python3.7/dist-packages (from jax->JaxSSO) (4.1.1)\n",
            "Requirement already satisfied: etils[epath] in /usr/local/lib/python3.7/dist-packages (from jax->JaxSSO) (0.8.0)\n",
            "Requirement already satisfied: scipy>=1.5 in /usr/local/lib/python3.7/dist-packages (from jax->JaxSSO) (1.7.3)\n",
            "Requirement already satisfied: opt-einsum in /usr/local/lib/python3.7/dist-packages (from jax->JaxSSO) (3.3.0)\n",
            "Requirement already satisfied: zipp in /usr/local/lib/python3.7/dist-packages (from etils[epath]->jax->JaxSSO) (3.9.0)\n",
            "Requirement already satisfied: importlib_resources in /usr/local/lib/python3.7/dist-packages (from etils[epath]->jax->JaxSSO) (5.10.0)\n",
            "Requirement already satisfied: kiwisolver>=1.0.1 in /usr/local/lib/python3.7/dist-packages (from matplotlib->JaxSSO) (1.4.4)\n",
            "Requirement already satisfied: python-dateutil>=2.1 in /usr/local/lib/python3.7/dist-packages (from matplotlib->JaxSSO) (2.8.2)\n",
            "Requirement already satisfied: pyparsing!=2.0.4,!=2.1.2,!=2.1.6,>=2.0.1 in /usr/local/lib/python3.7/dist-packages (from matplotlib->JaxSSO) (3.0.9)\n",
            "Requirement already satisfied: cycler>=0.10 in /usr/local/lib/python3.7/dist-packages (from matplotlib->JaxSSO) (0.11.0)\n",
            "Requirement already satisfied: six>=1.5 in /usr/local/lib/python3.7/dist-packages (from python-dateutil>=2.1->matplotlib->JaxSSO) (1.15.0)\n",
            "Looking in indexes: https://pypi.org/simple, https://us-python.pkg.dev/colab-wheels/public/simple/\n",
            "Requirement already satisfied: PyNiteFEA in /usr/local/lib/python3.7/dist-packages (0.0.68)\n",
            "Requirement already satisfied: matplotlib in /usr/local/lib/python3.7/dist-packages (from PyNiteFEA) (3.2.2)\n",
            "Requirement already satisfied: numpy in /usr/local/lib/python3.7/dist-packages (from PyNiteFEA) (1.21.6)\n",
            "Requirement already satisfied: PrettyTable in /usr/local/lib/python3.7/dist-packages (from PyNiteFEA) (3.4.1)\n",
            "Requirement already satisfied: kiwisolver>=1.0.1 in /usr/local/lib/python3.7/dist-packages (from matplotlib->PyNiteFEA) (1.4.4)\n",
            "Requirement already satisfied: cycler>=0.10 in /usr/local/lib/python3.7/dist-packages (from matplotlib->PyNiteFEA) (0.11.0)\n",
            "Requirement already satisfied: pyparsing!=2.0.4,!=2.1.2,!=2.1.6,>=2.0.1 in /usr/local/lib/python3.7/dist-packages (from matplotlib->PyNiteFEA) (3.0.9)\n",
            "Requirement already satisfied: python-dateutil>=2.1 in /usr/local/lib/python3.7/dist-packages (from matplotlib->PyNiteFEA) (2.8.2)\n",
            "Requirement already satisfied: typing-extensions in /usr/local/lib/python3.7/dist-packages (from kiwisolver>=1.0.1->matplotlib->PyNiteFEA) (4.1.1)\n",
            "Requirement already satisfied: six>=1.5 in /usr/local/lib/python3.7/dist-packages (from python-dateutil>=2.1->matplotlib->PyNiteFEA) (1.15.0)\n",
            "Requirement already satisfied: importlib-metadata in /usr/local/lib/python3.7/dist-packages (from PrettyTable->PyNiteFEA) (4.13.0)\n",
            "Requirement already satisfied: wcwidth in /usr/local/lib/python3.7/dist-packages (from PrettyTable->PyNiteFEA) (0.2.5)\n",
            "Requirement already satisfied: zipp>=0.5 in /usr/local/lib/python3.7/dist-packages (from importlib-metadata->PrettyTable->PyNiteFEA) (3.9.0)\n",
            "Looking in indexes: https://pypi.org/simple, https://us-python.pkg.dev/colab-wheels/public/simple/\n",
            "Requirement already satisfied: nlopt in /usr/local/lib/python3.7/dist-packages (2.7.1)\n",
            "Requirement already satisfied: numpy>=1.14 in /usr/local/lib/python3.7/dist-packages (from nlopt) (1.21.6)\n"
          ]
        }
      ],
      "source": [
        "!pip install JaxSSO\n",
        "!pip install PyNiteFEA\n",
        "!pip install nlopt"
      ]
    },
    {
      "cell_type": "code",
      "execution_count": 1,
      "metadata": {
        "id": "a7FLz_eljFoy"
      },
      "outputs": [],
      "source": [
        "import matplotlib.pyplot as plt\n",
        "import numpy as np\n",
        "import PyNite as pyn #FEA solver\n",
        "import JaxSSO as sso #Sensitivity analysis solver"
      ]
    },
    {
      "cell_type": "markdown",
      "metadata": {
        "id": "u2RIwpTBkzdb"
      },
      "source": [
        "# Define the objective function and the gradient of the objective\n",
        "\n",
        "*   The geometry, mesh\n",
        "*   Build the FEA model\n",
        "*   Build the SSO model\n"
      ]
    },
    {
      "cell_type": "markdown",
      "metadata": {
        "id": "007RkrKnk9BI"
      },
      "source": [
        "Setup: the nodes, connectivity, the load, the element's properties"
      ]
    },
    {
      "cell_type": "code",
      "execution_count": 2,
      "metadata": {
        "id": "nD_vwR5Hk2fz"
      },
      "outputs": [],
      "source": [
        "#Nodes\n",
        "n_node = 21\n",
        "x_span = 10\n",
        "x_nodes = np.linspace(0,x_span,n_node)\n",
        "y_nodes = np.zeros(n_node)\n",
        "z_nodes = np.random.uniform(0,0.5,n_node)\n",
        "z_nodes[0] = 0\n",
        "z_nodes[n_node-1] = 0\n",
        "design_nodes = np.array([i for i in range(n_node) if i!=0 and i!=n_node-1])\n",
        "non_design_nodes = np.array([i for i in range(n_node) if i==0 or i==n_node-1])\n",
        "#Connectivity\n",
        "n_ele = n_node -1 #number of elements\n",
        "cnct = np.zeros((n_ele,2),dtype=int) #connectivity matrix\n",
        "x_ele = np.zeros((n_ele,2))\n",
        "y_ele = np.zeros((n_ele,2))\n",
        "z_ele = np.zeros((n_ele,2))\n",
        "for i in range(n_ele):\n",
        "  cnct[i,0] = i\n",
        "  cnct[i,1] = i+1\n",
        "  x_ele[i,:] = [x_nodes[i],x_nodes[i+1]]\n",
        "  y_ele[i,:] = [y_nodes[i],y_nodes[i+1]]\n",
        "  z_ele[i,:] = [z_nodes[i],z_nodes[i+1]]\n",
        "\n",
        "#Sectional properties-> 600x400 rectangle\n",
        "h = 0.6 #height\n",
        "b = 0.4 #width\n",
        "E = 37900 * 10**6 #Young's modulus (pa)\n",
        "G = E/(2*(1+0.3)) #Shear modolus-> E = 2G(1+mu)\n",
        "Iy = b*h**3/12 #Moement of inertia in m^4\n",
        "Iz = h*b**3/12 #Same, about z axis\n",
        "J = Iy + Iz\t#Polar moment of inertia\n",
        "A = b*h #Area\n",
        "\n",
        "#Nodal loads\n",
        "load = -10000 #Newton\n",
        "f = np.zeros(n_node*6)\n",
        "f[design_nodes*6+2] = load # nodal load in -z"
      ]
    },
    {
      "cell_type": "markdown",
      "metadata": {
        "id": "gaTqP4DflEfw"
      },
      "source": [
        "Draw the initial geometry"
      ]
    },
    {
      "cell_type": "code",
      "execution_count": 3,
      "metadata": {
        "colab": {
          "base_uri": "https://localhost:8080/",
          "height": 364
        },
        "id": "Y96QCbkvk6_N",
        "outputId": "7cd97745-01eb-4c38-85d7-152f7371366d"
      },
      "outputs": [
        {
          "data": {
            "image/png": "[encoded data removed]",
            "text/plain": [
              "<Figure size 720x360 with 1 Axes>"
            ]
          },
          "metadata": {
            "needs_background": "light"
          },
          "output_type": "display_data"
        }
      ],
      "source": [
        "%matplotlib inline\n",
        "fig = plt.figure(figsize=(10,5))\n",
        "ax = fig.add_subplot()\n",
        "ax.tick_params(labelsize=20)\n",
        "ax.set_ylim(-0.5,5)\n",
        "ax.set_xlabel('X (m)',fontsize=24)\n",
        "ax.set_ylabel('Z (m)',fontsize=24)\n",
        "#Plot a basic wireframe.\n",
        "for i in range(n_ele):\n",
        "  ax.plot([x_ele[i,0],x_ele[i,1]],[z_ele[i,0],z_ele[i,1]],color='darkcyan')\n",
        "\n",
        "plt.scatter(x_nodes[non_design_nodes],z_nodes[non_design_nodes],color='black',alpha=0.8,label='Non-design nodes',s=40)\n",
        "plt.scatter(x_nodes[non_design_nodes],z_nodes[non_design_nodes]-0.2, s=150, facecolors='none', edgecolors='black',marker='^')\n",
        "ax.scatter(x_nodes[design_nodes],z_nodes[design_nodes],color='blue',alpha=0.4,label='Design nodes',s=40)\n",
        "\n",
        "plt.legend(fontsize=20, loc='best')\n",
        "plt.show()"
      ]
    },
    {
      "cell_type": "markdown",
      "metadata": {
        "id": "r8Y5qP9-lbNB"
      },
      "source": [
        "Define the objective function (with its gradient).\n",
        "\n",
        "Create some lists/arrays to store the intermediate results."
      ]
    },
    {
      "cell_type": "code",
      "execution_count": 4,
      "metadata": {
        "id": "376hPTjclOtd"
      },
      "outputs": [],
      "source": [
        "params_store = [] #store parameters\n",
        "f_store = [] #store the functional value "
      ]
    },
    {
      "cell_type": "code",
      "execution_count": 5,
      "metadata": {
        "id": "w9-r4dLSlh7H"
      },
      "outputs": [],
      "source": [
        "def objective(x):\n",
        "  params_store.append(x) #store params at each step\n",
        "  z_nodes[design_nodes] = x #update the nodal coordiante\n",
        "  #################\n",
        "  #Function value#\n",
        "  #################\n",
        "\n",
        "  ################\n",
        "  #  FEA MODEL   #\n",
        "  ################\n",
        "  #Build the model\n",
        "  model = pyn.FEModel3D() #model for FEA solving\n",
        "\n",
        "\n",
        "  #Adding nodes and point loads at free nodes\n",
        "  #set b.c. to the fixed nodes\n",
        "  for i in range(n_node):\n",
        "\n",
        "    #Adding nodes\n",
        "    model.add_node(\"{}\".format(i),x_nodes[i],y_nodes[i],z_nodes[i])\n",
        "\n",
        "    if i in design_nodes:\n",
        "      model.add_node_load('{}'.format(i),'FZ',load,case='Case 1')\n",
        "    else:\n",
        "      model.def_support('{}'.format(i), True, True, True, True, False, True) \n",
        "\n",
        "  #Adding members\n",
        "  for i in range(n_ele):\n",
        "    i_node = \"{}\".format(cnct[i,0]) #i-node of beam\n",
        "    j_node = \"{}\".format(cnct[i,1]) #j-node of beam\n",
        "    model.add_member(\"{}\".format(i),i_node,j_node,E,G,Iy,Iz,J,A)\n",
        "\n",
        "  #Add load combo\n",
        "  model.add_load_combo('DEAD',{'Case 1':1})\n",
        "\n",
        "  #FEA: solve [K]{u}={f}\n",
        "  #Get {u}, displacement vector; C=0.5*{f}.T@{u}, compliance(strain energy)\n",
        "  model.analyze(check_statics=False)\n",
        "  u = model._D['DEAD'].reshape(-1) #displacement in 1-D vector\n",
        "  C = 0.5*f@u #compliance of the system\n",
        "  f_store.append(C) #store the compliance \n",
        "  ################\n",
        "  #  SSO MODEL   #\n",
        "  ################\n",
        "  #Build the model\n",
        "  sens_model = sso.Model_Sens.Model_Sens() #model for sensitivity analysis\n",
        "\n",
        "  #Adding nodes\n",
        "  for i in range(n_node):\n",
        "    \n",
        "    sens_model.node(i,x_nodes[i],y_nodes[i],z_nodes[i])\n",
        "\n",
        "  #Adding elements\n",
        "  for i in range(n_ele):\n",
        "    i_node = cnct[i,0]\n",
        "    j_node = cnct[i,1]\n",
        "    sens_model.beamcol(i,i_node,j_node,E,G,Iy,Iz,J,A) \n",
        "\n",
        "\n",
        "\n",
        "\n",
        "  ##################\n",
        "  #  Gradient  #\n",
        "  ##################\n",
        "  #Get the sensitivity using SSO\n",
        "  sens = sens_model.Sens_C_Coord(u)\n",
        "  z_dof_index = design_nodes*3+2 #index indicating the z-dof\n",
        "  sens_params = sens[z_dof_index] #storing the sensitivity of obj. wrt design parameters\n",
        "  return C,sens_params"
      ]
    },
    {
      "cell_type": "markdown",
      "metadata": {
        "id": "MYzj3FeVlr1i"
      },
      "source": [
        "# Perform the optimization"
      ]
    },
    {
      "cell_type": "code",
      "execution_count": 6,
      "metadata": {
        "colab": {
          "base_uri": "https://localhost:8080/"
        },
        "id": "G8_7NnCClqJT",
        "outputId": "0f0f5aa7-7c5b-40b1-f9f3-f17a66c050ca"
      },
      "outputs": [
        {
          "name": "stdout",
          "output_type": "stream",
          "text": [
            "0.15500354766845703\n"
          ]
        },
        {
          "name": "stderr",
          "output_type": "stream",
          "text": [
            "c:\\ProgramData\\Anaconda3\\lib\\site-packages\\jax\\_src\\numpy\\lax_numpy.py:2306: UserWarning: Explicitly requested dtype float64 requested in asarray is not available, and will be truncated to dtype float32. To enable more dtypes, set the jax_enable_x64 configuration option or the JAX_ENABLE_X64 shell environment variable. See https://github.com/google/jax#current-gotchas for more.\n",
            "  start = asarray(start, dtype=computation_dtype)\n",
            "c:\\ProgramData\\Anaconda3\\lib\\site-packages\\jax\\_src\\numpy\\lax_numpy.py:2307: UserWarning: Explicitly requested dtype float64 requested in asarray is not available, and will be truncated to dtype float32. To enable more dtypes, set the jax_enable_x64 configuration option or the JAX_ENABLE_X64 shell environment variable. See https://github.com/google/jax#current-gotchas for more.\n",
            "  stop = asarray(stop, dtype=computation_dtype)\n",
            "c:\\ProgramData\\Anaconda3\\lib\\site-packages\\jax\\_src\\numpy\\lax_numpy.py:2323: UserWarning: Explicitly requested dtype float64 requested in astype is not available, and will be truncated to dtype float32. To enable more dtypes, set the jax_enable_x64 configuration option or the JAX_ENABLE_X64 shell environment variable. See https://github.com/google/jax#current-gotchas for more.\n",
            "  step = step.astype(computation_dtype)\n"
          ]
        },
        {
          "name": "stdout",
          "output_type": "stream",
          "text": [
            "Step 0, objective = 256.081507984294\n",
            "0.03998208045959473\n",
            "Step 1, objective = 601.8731900880988\n",
            "0.03800058364868164\n",
            "Step 2, objective = 155.97721911486713\n",
            "0.037000179290771484\n",
            "Step 3, objective = 22.38516643539134\n",
            "0.03800153732299805\n",
            "Step 4, objective = 12.122889150220322\n",
            "0.037000179290771484\n",
            "Step 5, objective = 8.723691240232897\n",
            "0.03399968147277832\n",
            "Step 6, objective = 7.159412623145023\n",
            "0.034999847412109375\n",
            "Step 7, objective = 6.376626400443753\n",
            "0.03599905967712402\n",
            "Step 8, objective = 5.961880802037635\n",
            "0.03599905967712402\n",
            "Step 9, objective = 5.728303292055988\n",
            "0.03700137138366699\n",
            "Step 10, objective = 5.590836084156584\n",
            "0.03500008583068848\n",
            "Step 11, objective = 5.5061913991696745\n",
            "0.03600025177001953\n",
            "Step 12, objective = 5.452125616980009\n",
            "0.03500008583068848\n",
            "Step 13, objective = 5.416232071114283\n",
            "0.03600001335144043\n",
            "Step 14, objective = 5.391589550663493\n",
            "0.03500008583068848\n",
            "Step 15, objective = 5.374155127707402\n",
            "0.03299999237060547\n",
            "Step 16, objective = 5.361490121054239\n",
            "0.03599953651428223\n",
            "Step 17, objective = 5.352048450444501\n",
            "0.03699994087219238\n",
            "Step 18, objective = 5.34485331434502\n",
            "0.03600049018859863\n",
            "Step 19, objective = 5.339257512572469\n",
            "0.03501725196838379\n",
            "Step 20, objective = 5.334825918501298\n",
            "0.03599953651428223\n",
            "Step 21, objective = 5.3312632550156405\n",
            "0.03399991989135742\n",
            "Step 22, objective = 5.328356820593596\n",
            "0.03399944305419922\n",
            "Step 23, objective = 5.325959659329937\n",
            "0.03599977493286133\n",
            "Step 24, objective = 5.323962471244069\n",
            "0.03499913215637207\n",
            "Step 25, objective = 5.322279057525071\n",
            "0.035999298095703125\n",
            "Step 26, objective = 5.320848175908061\n",
            "0.03399991989135742\n",
            "Step 27, objective = 5.319627114012395\n",
            "0.034000396728515625\n",
            "Step 28, objective = 5.318575363356468\n",
            "0.03399944305419922\n",
            "Step 29, objective = 5.317667133364974\n",
            "0.03399968147277832\n",
            "Step 30, objective = 5.316877327143234\n",
            "0.03300881385803223\n",
            "Step 31, objective = 5.316189019164636\n",
            "0.03499960899353027\n",
            "Step 32, objective = 5.315585366967509\n",
            "0.03500008583068848\n",
            "Step 33, objective = 5.31505534558602\n",
            "0.037001848220825195\n",
            "Step 34, objective = 5.314588514735719\n",
            "0.03299975395202637\n",
            "Step 35, objective = 5.3141761542292505\n",
            "0.03499913215637207\n",
            "Step 36, objective = 5.3138105040475825\n",
            "0.03800034523010254\n",
            "Step 37, objective = 5.3134858536977045\n",
            "0.03900003433227539\n",
            "Step 38, objective = 5.313196182161483\n",
            "0.03399968147277832\n",
            "Step 39, objective = 5.312938022865643\n",
            "0.03499889373779297\n",
            "Step 40, objective = 5.312707305048969\n",
            "0.03699922561645508\n",
            "Step 41, objective = 5.3125013101861525\n",
            "0.036000967025756836\n",
            "Step 42, objective = 5.312316492538427\n",
            "0.03600168228149414\n",
            "Step 43, objective = 5.31215039497456\n",
            "0.03500056266784668\n",
            "Step 44, objective = 5.311999939065769\n",
            "0.034999847412109375\n",
            "Step 45, objective = 5.311865199704862\n",
            "0.036015987396240234\n",
            "Step 46, objective = 5.3117441392550475\n",
            "0.03301525115966797\n",
            "Step 47, objective = 5.3116349540275065\n",
            "0.037999868392944336\n",
            "Step 48, objective = 5.311536139966566\n",
            "0.036004066467285156\n",
            "Step 49, objective = 5.311446499352725\n",
            "0.03599977493286133\n",
            "Step 50, objective = 5.311365451797137\n",
            "0.03600001335144043\n",
            "Step 51, objective = 5.311292315567652\n",
            "0.034000396728515625\n",
            "Step 52, objective = 5.311225719946506\n",
            "0.033998727798461914\n",
            "Step 53, objective = 5.311165553983069\n",
            "0.03399991989135742\n",
            "Step 54, objective = 5.311110535861773\n",
            "0.03499913215637207\n",
            "Step 55, objective = 5.31106042784239\n",
            "0.034999847412109375\n",
            "Step 56, objective = 5.311014653078679\n",
            "0.03800034523010254\n",
            "Step 57, objective = 5.3109732261878975\n",
            "0.03699970245361328\n",
            "Step 58, objective = 5.3109354592820015\n",
            "0.03499937057495117\n",
            "Step 59, objective = 5.310900878371026\n",
            "0.03500032424926758\n",
            "Step 60, objective = 5.310868959861736\n",
            "0.034000396728515625\n",
            "Step 61, objective = 5.310839967627265\n",
            "0.03500032424926758\n",
            "Step 62, objective = 5.310813344186147\n",
            "0.03499960899353027\n",
            "Step 63, objective = 5.310789244232511\n",
            "0.03499960899353027\n",
            "Step 64, objective = 5.310767012679238\n",
            "0.03599905967712402\n",
            "Step 65, objective = 5.310746470377427\n",
            "0.034999847412109375\n",
            "Step 66, objective = 5.3107276234415\n",
            "0.03600001335144043\n",
            "Step 67, objective = 5.310710249971179\n",
            "0.03598833084106445\n",
            "Step 68, objective = 5.310694265621627\n",
            "0.032999515533447266\n",
            "Step 69, objective = 5.3106795185767455\n",
            "0.03499937057495117\n",
            "Step 70, objective = 5.310665895607871\n",
            "0.03599953651428223\n",
            "Step 71, objective = 5.310653251882854\n",
            "0.03699994087219238\n",
            "Step 72, objective = 5.310641707802419\n",
            "0.03599071502685547\n",
            "Step 73, objective = 5.310630814199969\n",
            "0.03300023078918457\n",
            "Step 74, objective = 5.3106207936279635\n",
            "0.033998966217041016\n",
            "Step 75, objective = 5.31061161180879\n",
            "0.036000728607177734\n",
            "Step 76, objective = 5.310602963439538\n",
            "0.032999515533447266\n",
            "Step 77, objective = 5.310594933089014\n",
            "0.03699994087219238\n",
            "Step 78, objective = 5.310587466641398\n",
            "0.034005165100097656\n",
            "Step 79, objective = 5.3105804614501215\n",
            "0.03500103950500488\n",
            "Step 80, objective = 5.310573924659007\n",
            "0.03500032424926758\n",
            "Step 81, objective = 5.310567770194452\n",
            "0.03500032424926758\n",
            "Step 82, objective = 5.310561965560163\n",
            "0.03700113296508789\n",
            "Step 83, objective = 5.3105566256129295\n",
            "0.03500080108642578\n",
            "Step 84, objective = 5.310551537277209\n",
            "0.03699994087219238\n",
            "Step 85, objective = 5.3105466759450515\n",
            "0.03799939155578613\n",
            "Step 86, objective = 5.310542113878347\n",
            "0.03699922561645508\n",
            "Step 87, objective = 5.310537806152879\n",
            "0.03800034523010254\n",
            "Step 88, objective = 5.310533711570928\n",
            "0.03600001335144043\n",
            "Step 89, objective = 5.3105297676952565\n",
            "0.03400015830993652\n",
            "Step 90, objective = 5.31052607598518\n",
            "0.036000728607177734\n",
            "Step 91, objective = 5.310522518221503\n",
            "0.03699946403503418\n",
            "Step 92, objective = 5.310519149703779\n",
            "0.03599977493286133\n",
            "Step 93, objective = 5.310515884012587\n",
            "0.03499603271484375\n",
            "Step 94, objective = 5.310512822878161\n",
            "0.03499937057495117\n",
            "Step 95, objective = 5.310509797842425\n",
            "0.03400015830993652\n",
            "Step 96, objective = 5.310506941992039\n",
            "0.03499960899353027\n",
            "Step 97, objective = 5.310504172555905\n",
            "0.03600001335144043\n",
            "Step 98, objective = 5.3105014995577555\n",
            "0.03499937057495117\n",
            "Step 99, objective = 5.3104989238067795\n",
            "0.03600001335144043\n",
            "Step 100, objective = 5.3104964444413705\n",
            "0.03399991989135742\n",
            "Step 101, objective = 5.310494061959056\n",
            "0.03499913215637207\n",
            "Step 102, objective = 5.310491709089122\n",
            "0.035007476806640625\n",
            "Step 103, objective = 5.310489448202117\n",
            "0.03699994087219238\n",
            "Step 104, objective = 5.310487229375583\n",
            "0.03499913215637207\n",
            "Step 105, objective = 5.310485085613184\n",
            "0.03501629829406738\n",
            "Step 106, objective = 5.3104830075242395\n",
            "0.03499245643615723\n",
            "Step 107, objective = 5.310480969499156\n",
            "0.03800082206726074\n",
            "Step 108, objective = 5.310478976144605\n",
            "0.03599953651428223\n",
            "Step 109, objective = 5.3104770110416855\n",
            "0.03400015830993652\n",
            "Step 110, objective = 5.310475107009836\n",
            "0.034999847412109375\n",
            "Step 111, objective = 5.310473205521186\n",
            "0.03601694107055664\n",
            "Step 112, objective = 5.310471359108168\n",
            "0.035002946853637695\n",
            "Step 113, objective = 5.310469536046521\n",
            "0.03499960899353027\n",
            "Step 114, objective = 5.310467751539678\n",
            "0.03599953651428223\n",
            "Step 115, objective = 5.310466011372882\n",
            "0.034999847412109375\n",
            "Step 116, objective = 5.310464283773628\n",
            "0.04203629493713379\n",
            "Step 117, objective = 5.310462551088208\n",
            "0.03499913215637207\n",
            "Step 118, objective = 5.31046085576931\n",
            "0.03499960899353027\n",
            "Step 119, objective = 5.310459204011825\n",
            "0.03600025177001953\n",
            "Step 120, objective = 5.310457553808781\n",
            "0.036000728607177734\n",
            "Step 121, objective = 5.310455931019541\n",
            "0.03699946403503418\n",
            "Step 122, objective = 5.310454282061312\n",
            "0.03400015830993652\n",
            "Step 123, objective = 5.310452653273602\n",
            "0.03500032424926758\n",
            "Step 124, objective = 5.310451049553322\n",
            "0.03499960899353027\n",
            "Step 125, objective = 5.310449467674485\n",
            "0.03500032424926758\n",
            "Step 126, objective = 5.310447911462692\n",
            "0.03499937057495117\n",
            "Step 127, objective = 5.310446368371719\n",
            "0.03500032424926758\n",
            "Step 128, objective = 5.3104448481045194\n",
            "0.03600001335144043\n",
            "Step 129, objective = 5.310443310565786\n",
            "0.03599953651428223\n",
            "Step 130, objective = 5.310441790282387\n",
            "0.03699994087219238\n",
            "Step 131, objective = 5.310440293204606\n",
            "0.03499960899353027\n",
            "Step 132, objective = 5.310438814659202\n",
            "0.03399991989135742\n",
            "Step 133, objective = 5.310437344493599\n",
            "0.037000179290771484\n",
            "Step 134, objective = 5.310435876191998\n",
            "0.037000179290771484\n",
            "Step 135, objective = 5.310434430310101\n",
            "0.034999847412109375\n",
            "Step 136, objective = 5.310432997559497\n",
            "0.037000417709350586\n",
            "Step 137, objective = 5.310431573933515\n",
            "0.03399968147277832\n",
            "Step 138, objective = 5.3104301642993486\n",
            "0.03300118446350098\n",
            "Step 139, objective = 5.310428777147743\n",
            "0.034000396728515625\n",
            "Step 140, objective = 5.310427372320655\n",
            "0.03600025177001953\n",
            "Step 141, objective = 5.310425992257773\n",
            "0.033998966217041016\n",
            "Step 142, objective = 5.310424602929854\n",
            "0.036000728607177734\n",
            "Step 143, objective = 5.310423233844596\n",
            "0.03500032424926758\n",
            "Step 144, objective = 5.310421870674855\n",
            "0.03299856185913086\n",
            "Step 145, objective = 5.310420510520706\n",
            "0.03500056266784668\n",
            "Step 146, objective = 5.310419154280772\n",
            "0.034999847412109375\n",
            "Step 147, objective = 5.310417798771188\n",
            "0.035999298095703125\n",
            "Step 148, objective = 5.310416436251827\n",
            "0.03499937057495117\n",
            "Step 149, objective = 5.3104150746864915\n",
            "Stopping criteria 'maxiter' met, end of optimization\n"
          ]
        }
      ],
      "source": [
        "n_x = design_nodes.shape[0] #number of parameters\n",
        "x_ini = z_nodes[design_nodes] #initial parameters \n",
        "opt = sso.Optimization.Optimization(n_x,method='GD')\n",
        "opt.set_objective(objective) #objective function\n",
        "opt.set_maxiter(150) #max iteration\n",
        "opt.set_step_size(5e-2) #step size\n",
        "x_opt = opt.optimize(x_ini,log=True)"
      ]
    },
    {
      "cell_type": "markdown",
      "metadata": {
        "id": "zIJ0Q9JfmEvo"
      },
      "source": [
        "# Draw the final structure"
      ]
    },
    {
      "cell_type": "code",
      "execution_count": 7,
      "metadata": {
        "colab": {
          "base_uri": "https://localhost:8080/",
          "height": 357
        },
        "id": "eah3koYSmD46",
        "outputId": "be8b1b6c-9218-46c4-df8b-5dfd84db4196"
      },
      "outputs": [
        {
          "data": {
            "image/png": "[encoded data removed]",
            "text/plain": [
              "<Figure size 720x360 with 1 Axes>"
            ]
          },
          "metadata": {
            "needs_background": "light"
          },
          "output_type": "display_data"
        }
      ],
      "source": [
        "#Update the nodes\n",
        "z_nodes[design_nodes] = x_opt\n",
        "z_ele[:,0] = z_nodes[cnct[:,0]]\n",
        "z_ele[:,1] = z_nodes[cnct[:,1]]\n",
        "\n",
        "fig = plt.figure(figsize=(10,5))\n",
        "ax = fig.add_subplot()\n",
        "ax.tick_params(labelsize=20)\n",
        "#ax.set_ylim(-0.5,5)\n",
        "ax.set_xlabel('X (m)',fontsize=24)\n",
        "ax.set_ylabel('Z (m)',fontsize=24)\n",
        "#Plot a basic wireframe.\n",
        "for i in range(n_ele):\n",
        "  ax.plot([x_ele[i,0],x_ele[i,1]],[z_ele[i,0],z_ele[i,1]],color='darkcyan')\n",
        "\n",
        "plt.scatter(x_nodes[non_design_nodes],z_nodes[non_design_nodes],color='black',alpha=0.8,label='Non-design nodes',s=40)\n",
        "plt.scatter(x_nodes[non_design_nodes],z_nodes[non_design_nodes]-0.2, s=150, facecolors='none', edgecolors='black',marker='^')\n",
        "ax.scatter(x_nodes[design_nodes],z_nodes[design_nodes],color='blue',alpha=0.4,label='Design nodes',s=40)\n",
        "\n",
        "plt.legend(fontsize=20, loc='best')\n",
        "plt.show()"
      ]
    }
  ],
  "metadata": {
    "colab": {
      "collapsed_sections": [],
      "provenance": []
    },
    "kernelspec": {
      "display_name": "base",
      "language": "python",
      "name": "python3"
    },
    "language_info": {
      "codemirror_mode": {
        "name": "ipython",
        "version": 3
      },
      "file_extension": ".py",
      "mimetype": "text/x-python",
      "name": "python",
      "nbconvert_exporter": "python",
      "pygments_lexer": "ipython3",
      "version": "3.8.8"
    },
    "vscode": {
      "interpreter": {
        "hash": "ad2bdc8ecc057115af97d19610ffacc2b4e99fae6737bb82f5d7fb13d2f2c186"
      }
    }
  },
  "nbformat": 4,
  "nbformat_minor": 0
}
