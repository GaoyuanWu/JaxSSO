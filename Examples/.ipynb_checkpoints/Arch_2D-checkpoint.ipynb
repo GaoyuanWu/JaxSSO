{
 "cells": [
  {
   "cell_type": "markdown",
   "metadata": {
    "id": "_hoTNBOrg75Q"
   },
   "source": [
    "[![Open In Colab](https://colab.research.google.com/assets/colab-badge.svg)](https://colab.research.google.com/github/GaoyuanWu/JaxSSO/blob/main/Examples/Arch_2D.ipynb)"
   ]
  },
  {
   "cell_type": "code",
   "execution_count": null,
   "metadata": {},
   "outputs": [],
   "source": [
    "!pip install JaxSSO\n",
    "!pip install nlopt"
   ]
  },
  {
   "cell_type": "code",
   "execution_count": null,
   "metadata": {},
   "outputs": [],
   "source": [
    "'''        for tag, xyz, value in zip(self.nodeparameters_tags, self.nodeparameters_xyzs, self.nodeparameters_values):\n",
    "            if xyz == 0:\n",
    "                self.model.nodes[tag].X = value\n",
    "            elif xyz == 1:\n",
    "                self.model.nodes[tag].Y = value\n",
    "            elif xyz == 2:\n",
    "                self.model.nodes[tag].Z = value'''"
   ]
  },
  {
   "cell_type": "code",
   "execution_count": 1,
   "metadata": {
    "id": "a7FLz_eljFoy"
   },
   "outputs": [],
   "source": [
    "import sys\n",
    "sys.path.append('/home/gaoyuanw/Github/JaxSSO')\n",
    "import JaxSSO.model as Model \n",
    "from JaxSSO import mechanics,solver\n",
    "from JaxSSO.SSO_model import NodeParameter,SSO_model\n",
    "import numpy as np\n",
    "import jax\n",
    "import jax.numpy as jnp\n",
    "import matplotlib.pyplot as plt"
   ]
  },
  {
   "cell_type": "markdown",
   "metadata": {
    "id": "u2RIwpTBkzdb"
   },
   "source": [
    "# Define the objective function and the gradient of the objective\n",
    "\n",
    "*   The geometry, mesh\n",
    "*   Build the SSO model\n"
   ]
  },
  {
   "cell_type": "markdown",
   "metadata": {
    "id": "007RkrKnk9BI"
   },
   "source": [
    "Setup: the nodes, connectivity, the load, the element's properties"
   ]
  },
  {
   "cell_type": "code",
   "execution_count": 111,
   "metadata": {
    "id": "nD_vwR5Hk2fz"
   },
   "outputs": [],
   "source": [
    "#Nodes\n",
    "n_node = 15551\n",
    "x_span = 30\n",
    "x_nodes = np.linspace(0,x_span,n_node)\n",
    "y_nodes = np.zeros(n_node)\n",
    "z_nodes = np.random.uniform(0,0.5,n_node)\n",
    "z_nodes[0] = 0\n",
    "z_nodes[n_node-1] = 0\n",
    "design_nodes = np.array([i for i in range(n_node) if i!=0 and i!=n_node-1])\n",
    "design_crds = np.expand_dims(design_nodes,axis=1)\n",
    "design_crds = np.hstack((design_crds,2*np.ones((design_crds.shape[0],1),dtype=int)))\n",
    "non_design_nodes = np.array([i for i in range(n_node) if i==0 or i==n_node-1])\n",
    "#Connectivity\n",
    "#Connectivity\n",
    "n_ele = n_node -1 #number of elements\n",
    "cnct = np.zeros((n_ele,2),dtype=int) #connectivity matrix\n",
    "x_ele = np.zeros((n_ele,2))\n",
    "y_ele = np.zeros((n_ele,2))\n",
    "z_ele = np.zeros((n_ele,2))\n",
    "for i in range(n_ele):\n",
    "    cnct[i,0] = i\n",
    "    cnct[i,1] = i+1\n",
    "    x_ele[i,:] = [x_nodes[i],x_nodes[i+1]]\n",
    "    y_ele[i,:] = [y_nodes[i],y_nodes[i+1]]\n",
    "    z_ele[i,:] = [z_nodes[i],z_nodes[i+1]]\n",
    "\n",
    "#Sectional properties-> 600x400 rectangle\n",
    "h = 0.6 #height\n",
    "b = 0.4 #width\n",
    "E = 379#Young's modulus (Gpa)\n",
    "G = E/(2*(1+0.3)) #Shear modolus-> E = 2G(1+mu)\n",
    "Iy = b*h**3/12 #Moement of inertia in m^4\n",
    "Iz = h*b**3/12 #Same, about z axis\n",
    "J = Iy + Iz\t#Polar moment of inertia\n",
    "A = b*h #Area\n",
    "\n",
    "Q = 1 #Nodal load magnitude\n"
   ]
  },
  {
   "cell_type": "code",
   "execution_count": 112,
   "metadata": {},
   "outputs": [],
   "source": [
    "from jax.tree_util import register_pytree_node_class\n",
    "from jax import vmap,jit\n",
    "\n",
    "@register_pytree_node_class\n",
    "class Node():\n",
    "    \"\"\"\n",
    "    Create a node.\n",
    "\n",
    "    Attributes\n",
    "    -----\n",
    "    nodeTag: int \n",
    "        the tag/index of this node\n",
    "    X, Y, Z: float\n",
    "        the coordinates of thie node\n",
    "\n",
    "    \"\"\"\n",
    "    \n",
    "    def __init__(self, nodeTag, X, Y, Z):\n",
    "        self.nodeTag = nodeTag      # Index of this node\n",
    "        self.X = X\n",
    "        self.Y = Y\n",
    "        self.Z = Z\n",
    "    \n",
    "    def update_node(self,tag,XYZ,value):\n",
    "        '''\n",
    "        Update nodal coordinate\n",
    "        '''\n",
    "        self.X[tag] = np.where(XYZ==0,value,self.X[tag])\n",
    "        self.Y[tag] = np.where(XYZ==1,value,self.Y[tag])\n",
    "        self.Z[tag] = np.where(XYZ==2,value,self.Z[tag])\n",
    "    \n",
    "    def tree_flatten(self):\n",
    "        children = (self.nodeTag, self.X, self.Y, self.Z)\n",
    "        aux_data = None\n",
    "        return (children, aux_data)\n",
    "\n",
    "    @classmethod\n",
    "    def tree_unflatten(cls, aux_data, children):\n",
    "        return cls(*children)\n",
    "\n",
    "\n",
    "from functools import partial\n",
    "#@partial(jit, static_argnums=1)\n"
   ]
  },
  {
   "cell_type": "code",
   "execution_count": 120,
   "metadata": {},
   "outputs": [],
   "source": [
    "tags=[i for i in range(n_node)]\n",
    "XYZs=[2 for i in range(n_node)]\n",
    "values = (10*np.ones(n_node)).tolist()"
   ]
  },
  {
   "cell_type": "code",
   "execution_count": 121,
   "metadata": {},
   "outputs": [],
   "source": [
    "nodes = {}\n",
    "\n",
    "def add_node(x,y,z,tag):\n",
    "    key = tag\n",
    "    attr = [x,y,z]\n",
    "    nodes[key] = attr\n",
    "for i in range(n_node):\n",
    "    add_node(*[x_nodes[i],y_nodes[i],z_nodes[i]],i)\n",
    "def mod_node(tag,XYZ,value):\n",
    "    nodes[tag][XYZ]=value"
   ]
  },
  {
   "cell_type": "code",
   "execution_count": 122,
   "metadata": {},
   "outputs": [
    {
     "name": "stdout",
     "output_type": "stream",
     "text": [
      "2.95 ms ± 22.2 µs per loop (mean ± std. dev. of 7 runs, 100 loops each)\n"
     ]
    }
   ],
   "source": [
    "import jax.tree_util\n",
    "%timeit jax.tree_util.tree_map(mod_node,tags,XYZs,values)"
   ]
  },
  {
   "cell_type": "code",
   "execution_count": 124,
   "metadata": {},
   "outputs": [
    {
     "data": {
      "text/plain": [
       "15551"
      ]
     },
     "execution_count": 124,
     "metadata": {},
     "output_type": "execute_result"
    }
   ],
   "source": [
    "len(nodes)"
   ]
  },
  {
   "cell_type": "code",
   "execution_count": 118,
   "metadata": {},
   "outputs": [
    {
     "name": "stdout",
     "output_type": "stream",
     "text": [
      "0.0025827884674072266\n"
     ]
    }
   ],
   "source": [
    "import time\n",
    "t1 = time.time()\n",
    "for i in range(n_node):\n",
    "    mod_node(tags[i],XYZs[i],values[i])\n",
    "print(time.time()-t1)"
   ]
  },
  {
   "cell_type": "code",
   "execution_count": 92,
   "metadata": {},
   "outputs": [],
   "source": [
    "node_all = Node(np.array([key for key in nodes.keys()],dtype='int32'),\n",
    "                np.array([xyz[0] for xyz in nodes.values()]),\n",
    "                np.array([xyz[1] for xyz in nodes.values()]),\n",
    "               np.array([xyz[2] for xyz in nodes.values()])) "
   ]
  },
  {
   "cell_type": "code",
   "execution_count": 93,
   "metadata": {},
   "outputs": [
    {
     "name": "stdout",
     "output_type": "stream",
     "text": [
      "150 µs ± 348 ns per loop (mean ± std. dev. of 7 runs, 10,000 loops each)\n"
     ]
    }
   ],
   "source": [
    "import jax.tree_util\n",
    "%timeit jax.tree_util.tree_map(node_all.update_node,tags,XYZs,values)"
   ]
  },
  {
   "cell_type": "code",
   "execution_count": 87,
   "metadata": {},
   "outputs": [
    {
     "data": {
      "text/plain": [
       "array([10., 10., 10., ..., 10., 10., 10.])"
      ]
     },
     "execution_count": 87,
     "metadata": {},
     "output_type": "execute_result"
    }
   ],
   "source": [
    "node_all.Y"
   ]
  },
  {
   "cell_type": "markdown",
   "metadata": {
    "id": "gaTqP4DflEfw"
   },
   "source": [
    "Draw the initial geometry"
   ]
  },
  {
   "cell_type": "code",
   "execution_count": 3,
   "metadata": {
    "colab": {
     "base_uri": "https://localhost:8080/",
     "height": 364
    },
    "id": "Y96QCbkvk6_N",
    "outputId": "7cd97745-01eb-4c38-85d7-152f7371366d"
   },
   "outputs": [
    {
     "data": {
      "image/png": "[encoded data removed]",
      "text/plain": [
       "<Figure size 1000x500 with 1 Axes>"
      ]
     },
     "metadata": {},
     "output_type": "display_data"
    }
   ],
   "source": [
    "%matplotlib inline\n",
    "fig = plt.figure(figsize=(10,5))\n",
    "ax = fig.add_subplot()\n",
    "ax.tick_params(labelsize=20)\n",
    "ax.set_ylim(-0.5,5)\n",
    "ax.set_xlabel('X (m)',fontsize=24)\n",
    "ax.set_ylabel('Z (m)',fontsize=24)\n",
    "#Plot a basic wireframe.\n",
    "for i in range(n_ele):\n",
    "  ax.plot([x_ele[i,0],x_ele[i,1]],[z_ele[i,0],z_ele[i,1]],color='darkcyan')\n",
    "\n",
    "plt.scatter(x_nodes[non_design_nodes],z_nodes[non_design_nodes],color='black',alpha=0.8,label='Non-design nodes',s=40)\n",
    "plt.scatter(x_nodes[non_design_nodes],z_nodes[non_design_nodes]-0.2, s=150, facecolors='none', edgecolors='black',marker='^')\n",
    "ax.scatter(x_nodes[design_nodes],z_nodes[design_nodes],color='blue',alpha=0.4,label='Design nodes',s=40)\n",
    "\n",
    "plt.legend(fontsize=20, loc='best')\n",
    "plt.show()"
   ]
  },
  {
   "cell_type": "markdown",
   "metadata": {},
   "source": [
    "# Create the initial model"
   ]
  },
  {
   "cell_type": "code",
   "execution_count": 4,
   "metadata": {},
   "outputs": [],
   "source": [
    "#%%\n",
    "#Create model\n",
    "model = Model.Model() #model for sensitivity analysis\n",
    "\n",
    "#Adding nodes and boundary conditions\n",
    "for i in range(n_node):\n",
    "    model.add_node(i,x_nodes[i],y_nodes[i],z_nodes[i])\n",
    "    if i not in design_nodes:\n",
    "        model.add_support(i,[1,1,1,1,0,1]) #Pinned, only Ry allow\n",
    "    else:\n",
    "        model.add_nodal_load(i,nodal_load=[0.0,0.0,-Q,0.0,0.0,0.0])\n",
    "\n",
    "#Adding elements\n",
    "for i in range(n_ele):\n",
    "    i_node = cnct[i,0]\n",
    "    j_node = cnct[i,1]\n",
    "    model.add_beamcol(i,i_node,j_node,E,G,Iy,Iz,J,A) "
   ]
  },
  {
   "cell_type": "markdown",
   "metadata": {},
   "source": [
    "# Create the optimization model based on intiial FEA model"
   ]
  },
  {
   "cell_type": "code",
   "execution_count": null,
   "metadata": {},
   "outputs": [],
   "source": [
    "# Start the SSO model\n",
    "sso_model = SSO_model(model) # initial sso model\n",
    "for node in design_nodes:\n",
    "    nodeparameter = NodeParameter(node,2) # nodeparamter object\n",
    "    sso_model.add_nodeparameter(nodeparameter)\n",
    "\n",
    "#Initial the parameters\n",
    "sso_model.initialize_nodeparameters_values()"
   ]
  },
  {
   "cell_type": "code",
   "execution_count": null,
   "metadata": {},
   "outputs": [],
   "source": [
    "sso_model.model.nodes_struct.X[sso_model.nodeparameters_tags] = sso_model.initialize_nodeparameters_values()"
   ]
  },
  {
   "cell_type": "code",
   "execution_count": null,
   "metadata": {},
   "outputs": [],
   "source": [
    "sso_model.model.nodes_struct.X"
   ]
  },
  {
   "cell_type": "code",
   "execution_count": null,
   "metadata": {},
   "outputs": [],
   "source": [
    "def objective(x,sso_model=sso_model):\n",
    "    sso_model.update_nodeparameter(x) # Update the model\n",
    "    sso_model.solve() #solve FEA\n",
    "    C,sens = sso_model.Compliance() #Compliance\n",
    "    sens = sso_model.Sensitivity() #sens_params\n",
    "    return C,sens #sens_params"
   ]
  },
  {
   "cell_type": "code",
   "execution_count": null,
   "metadata": {
    "colab": {
     "base_uri": "https://localhost:8080/"
    },
    "id": "G8_7NnCClqJT",
    "outputId": "0f0f5aa7-7c5b-40b1-f9f3-f17a66c050ca"
   },
   "outputs": [],
   "source": [
    "n_x = design_nodes.shape[0] #number of parameters\n",
    "x_ini = z_nodes[design_nodes] #initial parameters \n",
    "opt = sso.Optimization.Optimization(n_x,method='GD')\n",
    "opt.set_objective(objective) #objective function\n",
    "opt.set_maxiter(300) #max iteration\n",
    "opt.set_step_size(5e-2) #step size\n",
    "x_opt = opt.optimize(x_ini,log=True)"
   ]
  },
  {
   "cell_type": "markdown",
   "metadata": {
    "id": "zIJ0Q9JfmEvo"
   },
   "source": [
    "# Draw the final structure"
   ]
  },
  {
   "cell_type": "code",
   "execution_count": null,
   "metadata": {
    "colab": {
     "base_uri": "https://localhost:8080/",
     "height": 357
    },
    "id": "eah3koYSmD46",
    "outputId": "be8b1b6c-9218-46c4-df8b-5dfd84db4196"
   },
   "outputs": [],
   "source": [
    "#Update the nodes\n",
    "z_nodes[design_nodes] = x_opt\n",
    "z_ele[:,0] = z_nodes[cnct[:,0]]\n",
    "z_ele[:,1] = z_nodes[cnct[:,1]]\n",
    "\n",
    "fig = plt.figure(figsize=(10,5))\n",
    "ax = fig.add_subplot()\n",
    "ax.tick_params(labelsize=20)\n",
    "#ax.set_ylim(-0.5,5)\n",
    "ax.set_xlabel('X (m)',fontsize=24)\n",
    "ax.set_ylabel('Z (m)',fontsize=24)\n",
    "#Plot a basic wireframe.\n",
    "for i in range(n_ele):\n",
    "  ax.plot([x_ele[i,0],x_ele[i,1]],[z_ele[i,0],z_ele[i,1]],color='darkcyan')\n",
    "\n",
    "plt.scatter(x_nodes[non_design_nodes],z_nodes[non_design_nodes],color='black',alpha=0.8,label='Non-design nodes',s=40)\n",
    "plt.scatter(x_nodes[non_design_nodes],z_nodes[non_design_nodes]-0.2, s=150, facecolors='none', edgecolors='black',marker='^')\n",
    "ax.scatter(x_nodes[design_nodes],z_nodes[design_nodes],color='blue',alpha=0.4,label='Design nodes',s=40)\n",
    "\n",
    "plt.legend(fontsize=20, loc='best')\n",
    "plt.show()"
   ]
  },
  {
   "cell_type": "code",
   "execution_count": null,
   "metadata": {},
   "outputs": [],
   "source": []
  }
 ],
 "metadata": {
  "colab": {
   "collapsed_sections": [],
   "provenance": []
  },
  "kernelspec": {
   "display_name": "jax-gpu [~/.conda/envs/jax-gpu/]",
   "language": "python",
   "name": "conda_jax-gpu"
  },
  "language_info": {
   "codemirror_mode": {
    "name": "ipython",
    "version": 3
   },
   "file_extension": ".py",
   "mimetype": "text/x-python",
   "name": "python",
   "nbconvert_exporter": "python",
   "pygments_lexer": "ipython3",
   "version": "3.11.6"
  },
  "vscode": {
   "interpreter": {
    "hash": "ad2bdc8ecc057115af97d19610ffacc2b4e99fae6737bb82f5d7fb13d2f2c186"
   }
  }
 },
 "nbformat": 4,
 "nbformat_minor": 1
}
