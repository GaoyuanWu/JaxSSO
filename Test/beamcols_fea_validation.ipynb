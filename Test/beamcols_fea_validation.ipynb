{
 "cells": [
  {
   "cell_type": "code",
   "execution_count": 1,
   "id": "5a5becad",
   "metadata": {},
   "outputs": [
    {
     "name": "stdout",
     "output_type": "stream",
     "text": [
      "0.4.14\n",
      "3.11.6\n",
      "1.11.3\n"
     ]
    }
   ],
   "source": [
    "#%%\n",
    "import sys\n",
    "sys.path.append('/home/gaoyuanw/Github/JaxSSO')\n",
    "import JaxSSO.model as Model \n",
    "from JaxSSO import mechanics,solver\n",
    "from JaxSSO.SSO_model import NodeParameter,SSO_model\n",
    "import numpy as np\n",
    "import jax\n",
    "import jax.numpy as jnp\n",
    "\n",
    "from scipy.sparse.linalg import spsolve as spsolve_scipy\n",
    "from scipy.sparse import csr_matrix\n",
    "from jax.experimental import sparse\n",
    "import os\n",
    "#os.environ[\"XLA_PYTHON_CLIENT_PREALLOCATE\"] = \"false\"\n",
    "os.environ[\"TF_CPP_MIN_LOG_LEVEL\"]=\"0\"\n",
    "jax.config.update(\"jax_enable_x64\", True)\n",
    "from jax.experimental import sparse\n",
    "print(jax.__version__)\n",
    "from platform import python_version\n",
    "jax.config.update('jax_platform_name', 'gpu')\n",
    "print(python_version())\n",
    "import scipy\n",
    "print(scipy.__version__)\n",
    "import pandas as pd"
   ]
  },
  {
   "cell_type": "code",
   "execution_count": 2,
   "id": "719fcb96",
   "metadata": {},
   "outputs": [],
   "source": [
    "# %%\n",
    "#Nodes\n",
    "n_node = 1000\n",
    "Q = 0.001 #Nodal load\n",
    "rise =  10 #Rise\n",
    "x_span = 100\n",
    "x_nodes = np.linspace(0,x_span,n_node)\n",
    "y_nodes = np.zeros(n_node)\n",
    "z_nodes = -(rise/(x_span**2/4))*((x_nodes-x_span/2)**2 - x_span**2/4)#parabolic arch\n",
    "z_nodes[0] = 0\n",
    "z_nodes[n_node-1] = 0\n",
    "design_nodes = np.array([i for i in range(n_node) if i!=0 and i!=n_node-1])\n",
    "non_design_nodes = np.array([i for i in range(n_node) if i==0 or i==n_node-1])\n",
    "#Connectivity\n",
    "n_ele = n_node -1 #number of elements\n",
    "cnct = np.zeros((n_ele,2),dtype=int) #connectivity matrix\n",
    "x_ele = np.zeros((n_ele,2))\n",
    "y_ele = np.zeros((n_ele,2))\n",
    "z_ele = np.zeros((n_ele,2))\n",
    "for i in range(n_ele):\n",
    "    cnct[i,0] = i\n",
    "    cnct[i,1] = i+1\n",
    "    x_ele[i,:] = [x_nodes[i],x_nodes[i+1]]\n",
    "    y_ele[i,:] = [y_nodes[i],y_nodes[i+1]]\n",
    "    z_ele[i,:] = [z_nodes[i],z_nodes[i+1]]\n",
    "\n",
    "#Sectional properties-> 600x400 rectangle\n",
    "h = 0.6 #height\n",
    "b = 0.4 #width\n",
    "E = 37900#Young's modulus (Gpa)\n",
    "G = E/(2*(1+0.3)) #Shear modolus-> E = 2G(1+mu)\n",
    "Iy = b*h**3/12 #Moement of inertia in m^4\n",
    "Iz = h*b**3/12 #Same, about z axis\n",
    "J = Iy + Iz\t#Polar moment of inertia\n",
    "A = b*h #Area\n",
    "\n",
    "#%%\n",
    "#Create model\n",
    "model = Model.Model() #model for sensitivity analysis\n",
    "\n",
    "#Adding nodes and boundary conditions\n",
    "for i in range(n_node):\n",
    "    model.add_node(i,x_nodes[i],y_nodes[i],z_nodes[i])\n",
    "    if i not in design_nodes:\n",
    "        model.add_support(i,[1,1,1,1,0,1]) #Pinned, only Ry allow\n",
    "    else:\n",
    "        model.add_nodal_load(i,nodal_load=[0.0,0.0,-Q,0.0,0.0,0.0])\n",
    "\n",
    "#Adding elements\n",
    "for i in range(n_ele):\n",
    "    i_node = cnct[i,0]\n",
    "    j_node = cnct[i,1]\n",
    "    model.add_beamcol(i,i_node,j_node,E,G,Iy,Iz,J,A) \n"
   ]
  },
  {
   "cell_type": "code",
   "execution_count": 3,
   "id": "23c3e9a9",
   "metadata": {},
   "outputs": [
    {
     "name": "stderr",
     "output_type": "stream",
     "text": [
      "2024-01-18 23:31:29.924016: I external/xla/xla/pjrt/tfrt_cpu_pjrt_client.cc:462] TfrtCpuClient created.\n",
      "2024-01-18 23:31:30.021399: I external/xla/xla/service/service.cc:168] XLA service 0x55f64d5816c0 initialized for platform CUDA (this does not guarantee that XLA will be used). Devices:\n",
      "2024-01-18 23:31:30.021420: I external/xla/xla/service/service.cc:176]   StreamExecutor device (0): NVIDIA A100 80GB PCIe MIG 1g.10gb, Compute Capability 8.0\n",
      "2024-01-18 23:31:30.021752: I external/xla/xla/pjrt/gpu/se_gpu_pjrt_client.cc:633] Using BFC allocator.\n",
      "2024-01-18 23:31:30.021783: I external/xla/xla/pjrt/gpu/gpu_helpers.cc:105] XLA backend allocating 7650410496 bytes on device 0 for BFCAllocator.\n",
      "2024-01-18 23:31:30.114208: I external/xla/xla/stream_executor/cuda/cuda_dnn.cc:440] Loaded cuDNN version 8800\n",
      "2024-01-18 23:31:30.152284: I external/xla/xla/stream_executor/cuda/cuda_asm_compiler.cc:52] Using nvlink for parallel linking\n"
     ]
    },
    {
     "data": {
      "text/plain": [
       "'gpu'"
      ]
     },
     "execution_count": 3,
     "metadata": {},
     "output_type": "execute_result"
    }
   ],
   "source": [
    "model.model_ready()\n",
    "jax.default_backend()"
   ]
  },
  {
   "cell_type": "code",
   "execution_count": 4,
   "id": "03907557",
   "metadata": {},
   "outputs": [
    {
     "name": "stdout",
     "output_type": "stream",
     "text": [
      "-0.028882929740653467\n",
      "0.00927143950866837\n"
     ]
    }
   ],
   "source": [
    "model.solve(which_solver='dense')\n",
    "u_z = model.u[design_nodes*6+2]\n",
    "print(np.min(u_z)) #Max z-displacement\n",
    "print(0.5*model.u@model.get_loads())"
   ]
  },
  {
   "cell_type": "code",
   "execution_count": 5,
   "id": "0ba9552c",
   "metadata": {},
   "outputs": [
    {
     "name": "stdout",
     "output_type": "stream",
     "text": [
      "scip\n",
      "-0.02888292914732729\n",
      "0.009271439501292455\n"
     ]
    }
   ],
   "source": [
    "model.solve(which_solver='sparse')\n",
    "u_z = model.u[design_nodes*6+2]\n",
    "print(np.min(u_z)) #Max z-displacement\n",
    "print(0.5*model.u@model.get_loads())"
   ]
  },
  {
   "cell_type": "code",
   "execution_count": 7,
   "id": "efac1bf5",
   "metadata": {},
   "outputs": [
    {
     "name": "stdout",
     "output_type": "stream",
     "text": [
      "181 ms ± 244 µs per loop (mean ± std. dev. of 7 runs, 10 loops each)\n"
     ]
    }
   ],
   "source": [
    "%timeit model.solve(which_solver='dense')"
   ]
  },
  {
   "cell_type": "code",
   "execution_count": 8,
   "id": "a4696d46",
   "metadata": {},
   "outputs": [
    {
     "name": "stdout",
     "output_type": "stream",
     "text": [
      "61.8 ms ± 473 µs per loop (mean ± std. dev. of 7 runs, 10 loops each)\n"
     ]
    }
   ],
   "source": [
    "%timeit model.solve(which_solver='sparse')"
   ]
  },
  {
   "cell_type": "markdown",
   "id": "c70ce64f",
   "metadata": {},
   "source": [
    "# It seems like for beamcol, all solvers are stable.\n",
    "When n_node =10000, dense solver doesnt work coz the memory isssue while sparse solvers (jax & scipy) still work."
   ]
  },
  {
   "cell_type": "code",
   "execution_count": null,
   "id": "5b232f06",
   "metadata": {},
   "outputs": [],
   "source": [
    "df1 = pd.DataFrame(cnct)\n",
    "df1.to_csv('Cnct_bc.csv')\n",
    "crds = model.get_node_crds()\n",
    "df2  = pd.DataFrame(crds)\n",
    "df2.to_csv('Bc_crds.csv')"
   ]
  },
  {
   "cell_type": "markdown",
   "id": "c62bc384",
   "metadata": {},
   "source": [
    "# SAP 2000\n",
    "MAX-Z(m):-0.040903;\n",
    "SE (KN*m): 140.1519\n"
   ]
  }
 ],
 "metadata": {
  "kernelspec": {
   "display_name": "jax-gpu [~/.conda/envs/jax-gpu/]",
   "language": "python",
   "name": "conda_jax-gpu"
  },
  "language_info": {
   "codemirror_mode": {
    "name": "ipython",
    "version": 3
   },
   "file_extension": ".py",
   "mimetype": "text/x-python",
   "name": "python",
   "nbconvert_exporter": "python",
   "pygments_lexer": "ipython3",
   "version": "3.11.6"
  }
 },
 "nbformat": 4,
 "nbformat_minor": 5
}
