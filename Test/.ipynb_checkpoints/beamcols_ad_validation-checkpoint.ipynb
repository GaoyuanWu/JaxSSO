{
 "cells": [
  {
   "cell_type": "code",
   "execution_count": 1,
   "id": "5a5becad",
   "metadata": {},
   "outputs": [
    {
     "name": "stdout",
     "output_type": "stream",
     "text": [
      "0.4.14\n",
      "3.11.6\n",
      "1.11.3\n"
     ]
    }
   ],
   "source": [
    "#%%\n",
    "import sys\n",
    "sys.path.append('/home/gaoyuanw/Github/JaxSSO')\n",
    "import JaxSSO.model as Model \n",
    "from JaxSSO import assemblemodel,solver\n",
    "from JaxSSO.SSO_model import NodeParameter,SSO_model\n",
    "import numpy as np\n",
    "import jax\n",
    "import jax.numpy as jnp\n",
    "\n",
    "from scipy.sparse.linalg import spsolve as spsolve_scipy\n",
    "from scipy.sparse import csr_matrix\n",
    "from jax.experimental import sparse\n",
    "import os\n",
    "#os.environ[\"XLA_PYTHON_CLIENT_PREALLOCATE\"] = \"false\"\n",
    "os.environ[\"TF_CPP_MIN_LOG_LEVEL\"]=\"0\"\n",
    "jax.config.update(\"jax_enable_x64\", True)\n",
    "from jax.experimental import sparse\n",
    "print(jax.__version__)\n",
    "from platform import python_version\n",
    "jax.config.update('jax_platform_name', 'gpu')\n",
    "print(python_version())\n",
    "import scipy\n",
    "print(scipy.__version__)"
   ]
  },
  {
   "cell_type": "code",
   "execution_count": 2,
   "id": "79aab1fe",
   "metadata": {},
   "outputs": [],
   "source": [
    "# %%\n",
    "#Nodes\n",
    "n_node = 100\n",
    "Q = 500 #Nodal load\n",
    "rise =  5 #Rise\n",
    "x_span = 10\n",
    "x_nodes = np.linspace(0,x_span,n_node)\n",
    "y_nodes = np.zeros(n_node)\n",
    "z_nodes = -(rise/(x_span**2/4))*((x_nodes-x_span/2)**2 - x_span**2/4)#parabolic arch\n",
    "z_nodes[0] = 0\n",
    "z_nodes[n_node-1] = 0\n",
    "design_nodes = np.array([i for i in range(n_node) if i!=0 and i!=n_node-1])\n",
    "non_design_nodes = np.array([i for i in range(n_node) if i==0 or i==n_node-1])\n",
    "#Connectivity\n",
    "n_ele = n_node -1 #number of elements\n",
    "cnct = np.zeros((n_ele,2),dtype=int) #connectivity matrix\n",
    "x_ele = np.zeros((n_ele,2))\n",
    "y_ele = np.zeros((n_ele,2))\n",
    "z_ele = np.zeros((n_ele,2))\n",
    "for i in range(n_ele):\n",
    "    cnct[i,0] = i\n",
    "    cnct[i,1] = i+1\n",
    "    x_ele[i,:] = [x_nodes[i],x_nodes[i+1]]\n",
    "    y_ele[i,:] = [y_nodes[i],y_nodes[i+1]]\n",
    "    z_ele[i,:] = [z_nodes[i],z_nodes[i+1]]\n",
    "\n",
    "#Sectional properties-> 600x400 rectangle\n",
    "\n",
    "E = 1.999E+08#Young's modulus (Gpa)\n",
    "G = E/(2*(1+0.3)) #Shear modolus-> E = 2G(1+mu)\n",
    "Iy = 6.572e-05 #Moement of inertia in m^4\n",
    "Iz = 3.301e-06 #Same, about z axis\n",
    "J = Iy + Iz\t#Polar moment of inertia\n",
    "A = 4.265e-03 #Area\n",
    "\n",
    "#%%\n",
    "#Create model\n",
    "model = Model.Model() #model for sensitivity analysis\n",
    "\n",
    "#Adding nodes and boundary conditions\n",
    "for i in range(n_node):\n",
    "    model.add_node(i,x_nodes[i],y_nodes[i],z_nodes[i])\n",
    "    if i not in design_nodes:\n",
    "        model.add_support(i,[1,1,1,1,0,1]) #Pinned, only Ry allow\n",
    "    else:\n",
    "        model.add_nodal_load(i,nodal_load=[0.0,0.0,-Q,0.0,0.0,0.0])\n",
    "\n",
    "#Adding elements\n",
    "for i in range(n_ele):\n",
    "    i_node = cnct[i,0]\n",
    "    j_node = cnct[i,1]\n",
    "    model.add_beamcol(i,i_node,j_node,E,G,Iy,Iz,J,A) \n"
   ]
  },
  {
   "cell_type": "code",
   "execution_count": 3,
   "id": "cf1bdcec",
   "metadata": {},
   "outputs": [
    {
     "name": "stderr",
     "output_type": "stream",
     "text": [
      "2024-04-01 20:16:15.331626: I external/xla/xla/pjrt/tfrt_cpu_pjrt_client.cc:462] TfrtCpuClient created.\n",
      "2024-04-01 20:16:15.412666: I external/xla/xla/service/service.cc:168] XLA service 0x55a237cddca0 initialized for platform CUDA (this does not guarantee that XLA will be used). Devices:\n",
      "2024-04-01 20:16:15.412688: I external/xla/xla/service/service.cc:176]   StreamExecutor device (0): NVIDIA A100 80GB PCIe MIG 1g.10gb, Compute Capability 8.0\n",
      "2024-04-01 20:16:15.412957: I external/xla/xla/pjrt/gpu/se_gpu_pjrt_client.cc:633] Using BFC allocator.\n",
      "2024-04-01 20:16:15.412987: I external/xla/xla/pjrt/gpu/gpu_helpers.cc:105] XLA backend allocating 7650410496 bytes on device 0 for BFCAllocator.\n",
      "2024-04-01 20:16:15.493455: I external/xla/xla/stream_executor/cuda/cuda_dnn.cc:440] Loaded cuDNN version 8800\n",
      "2024-04-01 20:16:15.497436: I external/tsl/tsl/platform/default/subprocess.cc:304] Start cannot spawn child process: No such file or directory\n",
      "2024-04-01 20:16:15.498668: I external/tsl/tsl/platform/default/subprocess.cc:304] Start cannot spawn child process: No such file or directory\n",
      "2024-04-01 20:16:15.549973: I external/xla/xla/stream_executor/cuda/cuda_asm_compiler.cc:52] Using nvlink for parallel linking\n"
     ]
    }
   ],
   "source": [
    "# Start the SSO model\n",
    "sso_model = SSO_model(model) # initial sso model\n",
    "for node in design_nodes:\n",
    "    nodeparameter = NodeParameter(node,2) # nodeparamter object\n",
    "    sso_model.add_nodeparameter(nodeparameter)\n",
    "\n",
    "#Initial the parameters\n",
    "sso_model.initialize_parameters_values()\n",
    "sso_model.set_objective(objective='strain energy',func=None,func_args=None)"
   ]
  },
  {
   "cell_type": "code",
   "execution_count": 4,
   "id": "b85c945b",
   "metadata": {
    "scrolled": true
   },
   "outputs": [
    {
     "name": "stdout",
     "output_type": "stream",
     "text": [
      "12 ms ± 497 µs per loop (mean ± std. dev. of 7 runs, 1 loop each)\n"
     ]
    }
   ],
   "source": [
    "%timeit sso_model.value_grad_params(which_solver='sparse',enforce_scipy_sparse = True)\n",
    "sens_sparse_sci =  sso_model.value_grad_params(which_solver='sparse',enforce_scipy_sparse = True)[1]"
   ]
  },
  {
   "cell_type": "code",
   "execution_count": 5,
   "id": "a381443c",
   "metadata": {},
   "outputs": [
    {
     "name": "stdout",
     "output_type": "stream",
     "text": [
      "26.2 ms ± 1.27 ms per loop (mean ± std. dev. of 7 runs, 1 loop each)\n"
     ]
    }
   ],
   "source": [
    "%timeit sso_model.value_grad_params(which_solver='sparse',enforce_scipy_sparse = False)\n",
    "sens_sparse_jax =  sso_model.value_grad_params(which_solver='sparse',enforce_scipy_sparse = False)[1]"
   ]
  },
  {
   "cell_type": "code",
   "execution_count": 6,
   "id": "7e8468e6",
   "metadata": {},
   "outputs": [
    {
     "name": "stdout",
     "output_type": "stream",
     "text": [
      "10.9 ms ± 473 µs per loop (mean ± std. dev. of 7 runs, 1 loop each)\n"
     ]
    }
   ],
   "source": [
    "%timeit sso_model.value_grad_params(which_solver='dense',enforce_scipy_sparse = False)\n",
    "sens_dense =  sso_model.value_grad_params(which_solver='dense',enforce_scipy_sparse = False)[1]"
   ]
  },
  {
   "cell_type": "code",
   "execution_count": 7,
   "id": "b9a89b15",
   "metadata": {},
   "outputs": [
    {
     "data": {
      "text/plain": [
       "True"
      ]
     },
     "execution_count": 7,
     "metadata": {},
     "output_type": "execute_result"
    }
   ],
   "source": [
    "np.allclose(sens_sparse_jax,sens_dense)"
   ]
  },
  {
   "cell_type": "code",
   "execution_count": 8,
   "id": "22e28833",
   "metadata": {},
   "outputs": [
    {
     "data": {
      "text/plain": [
       "True"
      ]
     },
     "execution_count": 8,
     "metadata": {},
     "output_type": "execute_result"
    }
   ],
   "source": [
    "np.allclose(sens_sparse_jax,sens_sparse_sci,rtol=1e-03)"
   ]
  },
  {
   "cell_type": "markdown",
   "id": "48e5a68b",
   "metadata": {},
   "source": [
    "# Comparison between AD and Finite difference"
   ]
  },
  {
   "cell_type": "code",
   "execution_count": 9,
   "id": "55f2641d",
   "metadata": {},
   "outputs": [],
   "source": [
    "dz = np.logspace(-2, -6, num=10)\n",
    "design_i = int(n_node/2)-1\n",
    "def compliance(dz,design_i):\n",
    "    #Create model\n",
    "    model = Model.Model() #model for sensitivity analysis\n",
    "\n",
    "    #Adding nodes and boundary conditions\n",
    "    for i in range(n_node):\n",
    "        if i ==design_i:\n",
    "            model.add_node(i,x_nodes[i],y_nodes[i],z_nodes[i]+dz) #perturb\n",
    "        else:\n",
    "            model.add_node(i,x_nodes[i],y_nodes[i],z_nodes[i])\n",
    "        if i not in design_nodes:\n",
    "            model.add_support(i,[1,1,1,1,0,1]) #Pinned, only Ry allow\n",
    "        else:\n",
    "            model.add_nodal_load(i,nodal_load=[0.0,0.0,-Q,0.0,0.0,0.0])\n",
    "\n",
    "    #Adding elements\n",
    "    for i in range(n_ele):\n",
    "        i_node = cnct[i,0]\n",
    "        j_node = cnct[i,1]\n",
    "        model.add_beamcol(i,i_node,j_node,E,G,Iy,Iz,J,A) \n",
    "    model.model_ready()\n",
    "    model.solve(which_solver='sparse')\n",
    "    return model.strain_energy()\n",
    "FD = [] #container storing the sensitivity"
   ]
  },
  {
   "cell_type": "code",
   "execution_count": 10,
   "id": "9a149f11",
   "metadata": {},
   "outputs": [],
   "source": [
    "C_bench = compliance(0,design_i)\n",
    "for i in range(len(dz)):\n",
    "    C_temp = compliance(dz[i],design_i)\n",
    "    FD.append((C_temp-C_bench)/dz[i])"
   ]
  },
  {
   "cell_type": "code",
   "execution_count": 11,
   "id": "e70233f8",
   "metadata": {},
   "outputs": [
    {
     "name": "stdout",
     "output_type": "stream",
     "text": [
      "AD,Dense: -4.546176317936646\n",
      "AD,Sparse: -4.546176132237828\n",
      "AD,Sparse: -4.546174611253446\n"
     ]
    }
   ],
   "source": [
    "print('AD,Dense: {}'.format(sens_dense[np.where(design_nodes==design_i)[0][0]]))\n",
    "print('AD,Sparse: {}'.format(sens_sparse_jax[np.where(design_nodes==design_i)[0][0]]))\n",
    "print('AD,Sparse: {}'.format(sens_sparse_sci[np.where(design_nodes==design_i)[0][0]]))"
   ]
  },
  {
   "cell_type": "code",
   "execution_count": null,
   "id": "7587a91e",
   "metadata": {},
   "outputs": [],
   "source": []
  },
  {
   "cell_type": "code",
   "execution_count": 19,
   "id": "4ed13fbf",
   "metadata": {},
   "outputs": [
    {
     "data": {
      "image/png": "[encoded data removed]",
      "text/plain": [
       "<Figure size 500x500 with 1 Axes>"
      ]
     },
     "metadata": {},
     "output_type": "display_data"
    }
   ],
   "source": [
    "import numpy as np\n",
    "import matplotlib.pyplot as plt\n",
    "\n",
    "\n",
    "# Create figure and axis objects\n",
    "fig, ax1 = plt.subplots(figsize=(5,5))\n",
    "\n",
    "# Create the first bar plot for strain energy on the first axis\n",
    "ax1.plot(dz,np.ones(dz.shape[0])*sens_dense[np.where(design_nodes==design_i)[0][0]],color='black',linestyle='dashed',label='JAX-SSO')\n",
    "ax1.plot(dz,np.array(FD),'o-',color='red',label='Finite difference')\n",
    "ax1.set_xscale('log')\n",
    "ax1.invert_xaxis()\n",
    "#ax1.bar([0 - width/2], [strain_energy_A], width, label='JAX-SSO',edgecolor = \"black\", color='bisque')\n",
    "#ax1.bar([0 + width/2], [strain_energy_B], width, label='SAP2000',edgecolor = \"black\", color='cyan')\n",
    "ax1.set_ylabel(r'$\\frac{dg}{dZ}$ of center node (N$\\cdot$m/m)',fontsize=14)\n",
    "ax1.set_xlabel(r'Step size of finite difference',fontsize=14)\n",
    "plt.xticks(fontsize=12)\n",
    "plt.yticks(fontsize=12)\n",
    "plt.ylim(-10,70)\n",
    "#ax1.set_ylim(0,1600)\n",
    "\n",
    "\n",
    "# Add legend\n",
    "fig.legend(loc=(0.45,0.75),fontsize=14)\n",
    "\n",
    "# Show plot\n",
    "plt.title('2D arch',fontsize=14)\n",
    "plt.show()"
   ]
  },
  {
   "cell_type": "code",
   "execution_count": 20,
   "id": "8b8afbea",
   "metadata": {},
   "outputs": [
    {
     "data": {
      "text/plain": [
       "0.0030870255205323713"
      ]
     },
     "execution_count": 20,
     "metadata": {},
     "output_type": "execute_result"
    }
   ],
   "source": [
    "(1212.6236 - 1208.8802 )/1212.6236 "
   ]
  },
  {
   "cell_type": "code",
   "execution_count": null,
   "id": "43b46326",
   "metadata": {},
   "outputs": [],
   "source": []
  }
 ],
 "metadata": {
  "kernelspec": {
   "display_name": "jax-gpu [~/.conda/envs/jax-gpu/]",
   "language": "python",
   "name": "conda_jax-gpu"
  },
  "language_info": {
   "codemirror_mode": {
    "name": "ipython",
    "version": 3
   },
   "file_extension": ".py",
   "mimetype": "text/x-python",
   "name": "python",
   "nbconvert_exporter": "python",
   "pygments_lexer": "ipython3",
   "version": "3.11.6"
  }
 },
 "nbformat": 4,
 "nbformat_minor": 5
}
