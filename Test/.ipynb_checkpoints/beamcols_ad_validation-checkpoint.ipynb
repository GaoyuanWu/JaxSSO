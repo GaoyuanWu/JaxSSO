{
 "cells": [
  {
   "cell_type": "code",
   "execution_count": 1,
   "id": "5a5becad",
   "metadata": {},
   "outputs": [
    {
     "name": "stdout",
     "output_type": "stream",
     "text": [
      "0.4.14\n",
      "3.11.6\n",
      "1.11.3\n"
     ]
    }
   ],
   "source": [
    "#%%\n",
    "import sys\n",
    "sys.path.append('/home/gaoyuanw/Github/JaxSSO')\n",
    "import JaxSSO.model as Model \n",
    "from JaxSSO import mechanics,solver\n",
    "from JaxSSO.SSO_model import NodeParameter,SSO_model\n",
    "import numpy as np\n",
    "import jax\n",
    "import jax.numpy as jnp\n",
    "\n",
    "from scipy.sparse.linalg import spsolve as spsolve_scipy\n",
    "from scipy.sparse import csr_matrix\n",
    "from jax.experimental import sparse\n",
    "import os\n",
    "#os.environ[\"XLA_PYTHON_CLIENT_PREALLOCATE\"] = \"false\"\n",
    "os.environ[\"TF_CPP_MIN_LOG_LEVEL\"]=\"0\"\n",
    "jax.config.update(\"jax_enable_x64\", True)\n",
    "from jax.experimental import sparse\n",
    "print(jax.__version__)\n",
    "from platform import python_version\n",
    "jax.config.update('jax_platform_name', 'gpu')\n",
    "print(python_version())\n",
    "import scipy\n",
    "print(scipy.__version__)"
   ]
  },
  {
   "cell_type": "code",
   "execution_count": 2,
   "id": "79aab1fe",
   "metadata": {},
   "outputs": [],
   "source": [
    "# %%\n",
    "#Nodes\n",
    "n_node = 100\n",
    "Q = 1 #Nodal load\n",
    "rise =  5 #Rise\n",
    "x_span = 10\n",
    "x_nodes = np.linspace(0,x_span,n_node)\n",
    "y_nodes = np.zeros(n_node)\n",
    "z_nodes = -(rise/(x_span**2/4))*((x_nodes-x_span/2)**2 - x_span**2/4)#parabolic arch\n",
    "z_nodes[0] = 0\n",
    "z_nodes[n_node-1] = 0\n",
    "design_nodes = np.array([i for i in range(n_node) if i!=0 and i!=n_node-1])\n",
    "non_design_nodes = np.array([i for i in range(n_node) if i==0 or i==n_node-1])\n",
    "#Connectivity\n",
    "n_ele = n_node -1 #number of elements\n",
    "cnct = np.zeros((n_ele,2),dtype=int) #connectivity matrix\n",
    "x_ele = np.zeros((n_ele,2))\n",
    "y_ele = np.zeros((n_ele,2))\n",
    "z_ele = np.zeros((n_ele,2))\n",
    "for i in range(n_ele):\n",
    "    cnct[i,0] = i\n",
    "    cnct[i,1] = i+1\n",
    "    x_ele[i,:] = [x_nodes[i],x_nodes[i+1]]\n",
    "    y_ele[i,:] = [y_nodes[i],y_nodes[i+1]]\n",
    "    z_ele[i,:] = [z_nodes[i],z_nodes[i+1]]\n",
    "\n",
    "#Sectional properties-> 600x400 rectangle\n",
    "h = 0.6 #height\n",
    "b = 0.4 #width\n",
    "E = 379#Young's modulus (Gpa)\n",
    "G = E/(2*(1+0.3)) #Shear modolus-> E = 2G(1+mu)\n",
    "Iy = b*h**3/12 #Moement of inertia in m^4\n",
    "Iz = h*b**3/12 #Same, about z axis\n",
    "J = Iy + Iz\t#Polar moment of inertia\n",
    "A = b*h #Area\n",
    "\n",
    "#%%\n",
    "#Create model\n",
    "model = Model.Model() #model for sensitivity analysis\n",
    "\n",
    "#Adding nodes and boundary conditions\n",
    "for i in range(n_node):\n",
    "    model.add_node(i,x_nodes[i],y_nodes[i],z_nodes[i])\n",
    "    if i not in design_nodes:\n",
    "        model.add_support(i,[1,1,1,1,0,1]) #Pinned, only Ry allow\n",
    "    else:\n",
    "        model.add_nodal_load(i,nodal_load=[0.0,0.0,-Q,0.0,0.0,0.0])\n",
    "\n",
    "#Adding elements\n",
    "for i in range(n_ele):\n",
    "    i_node = cnct[i,0]\n",
    "    j_node = cnct[i,1]\n",
    "    model.add_beamcol(i,i_node,j_node,E,G,Iy,Iz,J,A) \n"
   ]
  },
  {
   "cell_type": "code",
   "execution_count": 3,
   "id": "cf1bdcec",
   "metadata": {},
   "outputs": [
    {
     "name": "stderr",
     "output_type": "stream",
     "text": [
      "2024-01-19 09:30:01.963242: I external/xla/xla/pjrt/tfrt_cpu_pjrt_client.cc:462] TfrtCpuClient created.\n",
      "2024-01-19 09:30:02.058162: I external/xla/xla/service/service.cc:168] XLA service 0x561b7dec8470 initialized for platform CUDA (this does not guarantee that XLA will be used). Devices:\n",
      "2024-01-19 09:30:02.058186: I external/xla/xla/service/service.cc:176]   StreamExecutor device (0): NVIDIA A100 80GB PCIe MIG 1g.10gb, Compute Capability 8.0\n",
      "2024-01-19 09:30:02.058474: I external/xla/xla/pjrt/gpu/se_gpu_pjrt_client.cc:633] Using BFC allocator.\n",
      "2024-01-19 09:30:02.058505: I external/xla/xla/pjrt/gpu/gpu_helpers.cc:105] XLA backend allocating 7650410496 bytes on device 0 for BFCAllocator.\n",
      "2024-01-19 09:30:02.146872: I external/xla/xla/stream_executor/cuda/cuda_dnn.cc:440] Loaded cuDNN version 8800\n",
      "2024-01-19 09:30:02.184565: I external/xla/xla/stream_executor/cuda/cuda_asm_compiler.cc:52] Using nvlink for parallel linking\n"
     ]
    }
   ],
   "source": [
    "# Start the SSO model\n",
    "sso_model = SSO_model(model) # initial sso model\n",
    "for node in design_nodes:\n",
    "    nodeparameter = NodeParameter(node,2) # nodeparamter object\n",
    "    sso_model.add_nodeparameter(nodeparameter)\n",
    "\n",
    "#Initial the parameters\n",
    "sso_model.initialize_nodeparameters_values()"
   ]
  },
  {
   "cell_type": "code",
   "execution_count": 4,
   "id": "b85c945b",
   "metadata": {
    "scrolled": true
   },
   "outputs": [
    {
     "name": "stdout",
     "output_type": "stream",
     "text": [
      "35.8 ms ± 115 µs per loop (mean ± std. dev. of 7 runs, 10 loops each)\n"
     ]
    }
   ],
   "source": [
    "#Dense sensitivity\n",
    "sens_dense = sso_model.grad_c_node(which_solver='dense')\n",
    "%timeit sso_model.grad_c_node(which_solver='dense')\n"
   ]
  },
  {
   "cell_type": "code",
   "execution_count": 7,
   "id": "a381443c",
   "metadata": {},
   "outputs": [
    {
     "name": "stdout",
     "output_type": "stream",
     "text": [
      "69.4 ms ± 1.64 ms per loop (mean ± std. dev. of 7 runs, 10 loops each)\n"
     ]
    }
   ],
   "source": [
    "sens_sparse_jax = sso_model.grad_c_node(which_solver='sparse',enforce_scipy_sparse = False)\n",
    "%timeit sso_model.grad_c_node(which_solver='sparse',enforce_scipy_sparse = False)\n"
   ]
  },
  {
   "cell_type": "code",
   "execution_count": 8,
   "id": "7e8468e6",
   "metadata": {},
   "outputs": [
    {
     "name": "stdout",
     "output_type": "stream",
     "text": [
      "148 ms ± 692 µs per loop (mean ± std. dev. of 7 runs, 10 loops each)\n"
     ]
    }
   ],
   "source": [
    "sens_sparse_sci = sso_model.grad_c_node(which_solver='sparse',enforce_scipy_sparse = True)\n",
    "%timeit sso_model.grad_c_node(which_solver='sparse',enforce_scipy_sparse = True)"
   ]
  },
  {
   "cell_type": "code",
   "execution_count": 9,
   "id": "b9a89b15",
   "metadata": {},
   "outputs": [
    {
     "data": {
      "text/plain": [
       "True"
      ]
     },
     "execution_count": 9,
     "metadata": {},
     "output_type": "execute_result"
    }
   ],
   "source": [
    "np.allclose(sens_sparse_jax,sens_dense)"
   ]
  },
  {
   "cell_type": "code",
   "execution_count": 10,
   "id": "22e28833",
   "metadata": {},
   "outputs": [
    {
     "data": {
      "text/plain": [
       "True"
      ]
     },
     "execution_count": 10,
     "metadata": {},
     "output_type": "execute_result"
    }
   ],
   "source": [
    "np.allclose(sens_sparse_jax,sens_sparse_sci)"
   ]
  },
  {
   "cell_type": "markdown",
   "id": "48e5a68b",
   "metadata": {},
   "source": [
    "# Comparison between AD and Finite difference"
   ]
  },
  {
   "cell_type": "code",
   "execution_count": 13,
   "id": "55f2641d",
   "metadata": {},
   "outputs": [],
   "source": [
    "dz = np.logspace(-2, -5, num=20)\n",
    "design_i = int(n_node/2)-1\n",
    "def compliance(dz,design_i):\n",
    "    #Create model\n",
    "    model = Model.Model() #model for sensitivity analysis\n",
    "\n",
    "    #Adding nodes and boundary conditions\n",
    "    for i in range(n_node):\n",
    "        if i ==design_i:\n",
    "            model.add_node(i,x_nodes[i],y_nodes[i],z_nodes[i]+dz) #perturb\n",
    "        else:\n",
    "            model.add_node(i,x_nodes[i],y_nodes[i],z_nodes[i])\n",
    "        if i not in design_nodes:\n",
    "            model.add_support(i,[1,1,1,1,0,1]) #Pinned, only Ry allow\n",
    "        else:\n",
    "            model.add_nodal_load(i,nodal_load=[0.0,0.0,-Q,0.0,0.0,0.0])\n",
    "\n",
    "    #Adding elements\n",
    "    for i in range(n_ele):\n",
    "        i_node = cnct[i,0]\n",
    "        j_node = cnct[i,1]\n",
    "        model.add_beamcol(i,i_node,j_node,E,G,Iy,Iz,J,A) \n",
    "    model.model_ready()\n",
    "    K_aug = mechanics.model_K_aug(model)\n",
    "    f_aug = mechanics.model_f_aug(model)\n",
    "    u_aug = solver.jax_sparse_solve(K_aug,f_aug)\n",
    "    ndof = model.get_dofs()\n",
    "    return 0.5*f_aug[:ndof]@u_aug[:ndof]\n",
    "FD = [] #container storing the sensitivity"
   ]
  },
  {
   "cell_type": "code",
   "execution_count": 14,
   "id": "9a149f11",
   "metadata": {},
   "outputs": [],
   "source": [
    "C_bench = compliance(0,design_i)\n",
    "for i in range(len(dz)):\n",
    "    C_temp = compliance(dz[i],design_i)\n",
    "    FD.append((C_temp-C_bench)/dz[i])"
   ]
  },
  {
   "cell_type": "code",
   "execution_count": 15,
   "id": "e70233f8",
   "metadata": {},
   "outputs": [
    {
     "name": "stdout",
     "output_type": "stream",
     "text": [
      "AD,Dense: -0.16958433411721707\n",
      "AD,Sparse: -0.1695843341888747\n",
      "AD,Sparse: -0.16958433437505693\n"
     ]
    }
   ],
   "source": [
    "print('AD,Dense: {}'.format(sens_dense[np.where(design_nodes==design_i)[0][0]]))\n",
    "print('AD,Sparse: {}'.format(sens_sparse_jax[np.where(design_nodes==design_i)[0][0]]))\n",
    "print('AD,Sparse: {}'.format(sens_sparse_sci[np.where(design_nodes==design_i)[0][0]]))"
   ]
  },
  {
   "cell_type": "code",
   "execution_count": 16,
   "id": "7587a91e",
   "metadata": {},
   "outputs": [
    {
     "data": {
      "text/plain": [
       "[Array(-0.33314137, dtype=float64),\n",
       " Array(-0.28433415, dtype=float64),\n",
       " Array(-0.24969726, dtype=float64),\n",
       " Array(-0.22538604, dtype=float64),\n",
       " Array(-0.2084101, dtype=float64),\n",
       " Array(-0.19658498, dtype=float64),\n",
       " Array(-0.1883573, dtype=float64),\n",
       " Array(-0.18263558, dtype=float64),\n",
       " Array(-0.17865668, dtype=float64),\n",
       " Array(-0.17589096, dtype=float64),\n",
       " Array(-0.17396963, dtype=float64),\n",
       " Array(-0.17262901, dtype=float64),\n",
       " Array(-0.17170083, dtype=float64),\n",
       " Array(-0.17105939, dtype=float64),\n",
       " Array(-0.17061369, dtype=float64),\n",
       " Array(-0.17029353, dtype=float64),\n",
       " Array(-0.17006776, dtype=float64),\n",
       " Array(-0.16991195, dtype=float64),\n",
       " Array(-0.16978733, dtype=float64),\n",
       " Array(-0.16973888, dtype=float64)]"
      ]
     },
     "execution_count": 16,
     "metadata": {},
     "output_type": "execute_result"
    }
   ],
   "source": [
    "FD"
   ]
  }
 ],
 "metadata": {
  "kernelspec": {
   "display_name": "jax-gpu [~/.conda/envs/jax-gpu/]",
   "language": "python",
   "name": "conda_jax-gpu"
  },
  "language_info": {
   "codemirror_mode": {
    "name": "ipython",
    "version": 3
   },
   "file_extension": ".py",
   "mimetype": "text/x-python",
   "name": "python",
   "nbconvert_exporter": "python",
   "pygments_lexer": "ipython3",
   "version": "3.11.6"
  }
 },
 "nbformat": 4,
 "nbformat_minor": 5
}
