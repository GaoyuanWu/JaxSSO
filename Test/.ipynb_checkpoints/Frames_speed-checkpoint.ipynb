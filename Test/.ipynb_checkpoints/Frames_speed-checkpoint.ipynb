{
 "cells": [
  {
   "cell_type": "code",
   "execution_count": 1,
   "id": "b41db2e7",
   "metadata": {},
   "outputs": [
    {
     "name": "stdout",
     "output_type": "stream",
     "text": [
      "0.4.24\n",
      "3.12.1\n",
      "1.12.0\n"
     ]
    },
    {
     "name": "stderr",
     "output_type": "stream",
     "text": [
      "/tmp/ipykernel_3692555/3216110605.py:26: DeprecationWarning: \n",
      "Pyarrow will become a required dependency of pandas in the next major release of pandas (pandas 3.0),\n",
      "(to allow more performant data types, such as the Arrow string type, and better interoperability with other libraries)\n",
      "but was not found to be installed on your system.\n",
      "If this would cause problems for you,\n",
      "please provide us feedback at https://github.com/pandas-dev/pandas/issues/54466\n",
      "        \n",
      "  import pandas as pd\n"
     ]
    }
   ],
   "source": [
    "#%%\n",
    "import sys\n",
    "sys.path.append('/home/gaoyuanw/Github/JaxSSO')\n",
    "import JaxSSO.model as Model \n",
    "from JaxSSO import assemblemodel,solver\n",
    "from JaxSSO.SSO_model import NodeParameter,SSO_model\n",
    "import numpy as np\n",
    "import jax\n",
    "import jax.numpy as jnp\n",
    "import matplotlib.pyplot as plt\n",
    "\n",
    "from scipy.sparse.linalg import spsolve as spsolve_scipy\n",
    "from scipy.sparse import csr_matrix\n",
    "from jax.experimental import sparse\n",
    "import os\n",
    "#os.environ[\"XLA_PYTHON_CLIENT_PREALLOCATE\"] = \"false\"\n",
    "os.environ[\"TF_CPP_MIN_LOG_LEVEL\"]=\"0\"\n",
    "jax.config.update(\"jax_enable_x64\", True)\n",
    "from jax.experimental import sparse\n",
    "print(jax.__version__)\n",
    "from platform import python_version\n",
    "jax.config.update('jax_platform_name', 'cpu')\n",
    "print(python_version())\n",
    "import scipy\n",
    "print(scipy.__version__)\n",
    "import pandas as pd"
   ]
  },
  {
   "cell_type": "code",
   "execution_count": 2,
   "id": "da676927",
   "metadata": {},
   "outputs": [],
   "source": [
    "def f(n,m):\n",
    "    # %%\n",
    "    #Nodes\n",
    "    n_span =  n\n",
    "    Q = 50000 #Nodal load\n",
    "    rise =  10 #Rise\n",
    "    x_span = 30\n",
    "    n_span = m\n",
    "    n_node = m*n+1\n",
    "    x_nodes = np.linspace(0,x_span*m,n_node)\n",
    "    y_nodes = np.zeros(n_node)\n",
    "    \n",
    "    \n",
    "    z_nodes = -(rise/(x_span**2/4))*((x_nodes%x_span-x_span/2)**2 - x_span**2/4)#parabolic arch\n",
    "    #z_nodes[0] = 0\n",
    "    #z_nodes[n_node-1] = 0\n",
    "    design_nodes = np.array([i for i in range(n_node) if i%n!=0 ])\n",
    "    non_design_nodes = np.array([i for i in range(n_node) if i%n==0])\n",
    "    #Connectivity\n",
    "    n_ele = n_node -1 #number of elements\n",
    "    cnct = np.zeros((n_ele,2),dtype=int) #connectivity matrix\n",
    "    x_ele = np.zeros((n_ele,2))\n",
    "    y_ele = np.zeros((n_ele,2))\n",
    "    z_ele = np.zeros((n_ele,2))\n",
    "    for i in range(n_ele):\n",
    "        cnct[i,0] = i\n",
    "        cnct[i,1] = i+1\n",
    "        x_ele[i,:] = [x_nodes[i],x_nodes[i+1]]\n",
    "        y_ele[i,:] = [y_nodes[i],y_nodes[i+1]]\n",
    "        z_ele[i,:] = [z_nodes[i],z_nodes[i+1]]\n",
    "\n",
    "\n",
    "    E = 1.999E+08#Young's modulus (Gpa)\n",
    "    G = E/(2*(1+0.3)) #Shear modolus-> E = 2G(1+mu)\n",
    "    Iy = 6.572e-05 #Moement of inertia in m^4\n",
    "    Iz = 3.301e-06 #Same, about z axis\n",
    "    J = Iy + Iz\t#Polar moment of inertia\n",
    "    A = 4.265e-03 #Area\n",
    "    #%%\n",
    "    #Create model\n",
    "    model = Model.Model() #model for sensitivity analysis\n",
    "\n",
    "    #Adding nodes and boundary conditions\n",
    "    for i in range(n_node):\n",
    "        model.add_node(i,x_nodes[i],y_nodes[i],z_nodes[i])\n",
    "        if i not in design_nodes:\n",
    "            if i==0:\n",
    "                model.add_support(i,[1,1,1,1,0,1]) #Pinned, only Ry allow\n",
    "            else:\n",
    "                model.add_support(i,[1,1,1,1,0,1]) #Pinned, only Ry allow\n",
    "        else:\n",
    "            model.add_nodal_load(i,nodal_load=[0.0,0.0,-Q/(m*(n-1)),0.0,0.0,0.0])\n",
    "\n",
    "    #Adding elements\n",
    "    for i in range(n_ele):\n",
    "        i_node = cnct[i,0]\n",
    "        j_node = cnct[i,1]\n",
    "        model.add_beamcol(i,i_node,j_node,E,G,Iy,Iz,J,A) \n",
    "    \n",
    "    \n",
    "\n",
    "    import time\n",
    "    t1 = time.time()\n",
    "    \n",
    "    model.model_ready()\n",
    "    model.solve(which_solver='sparse',enforce_scipy_sparse=True)\n",
    "    print((time.time()-t1)*1000)\n",
    "    print('Each span has {} elements'.format(n))\n",
    "    \n",
    "    uz = model.u[design_nodes*6+2]\n",
    "    print(np.min(uz))\n",
    "    print('DOF',n_node*6)\n",
    "    #print('Number-Ele',nn)\n",
    "    print('\\n')"
   ]
  },
  {
   "cell_type": "code",
   "execution_count": null,
   "id": "43cd5055",
   "metadata": {
    "scrolled": true
   },
   "outputs": [],
   "source": [
    "np.arange(500,8000,500,dtype=int)"
   ]
  },
  {
   "cell_type": "code",
   "execution_count": 3,
   "id": "bf880f37",
   "metadata": {
    "scrolled": true
   },
   "outputs": [
    {
     "name": "stdout",
     "output_type": "stream",
     "text": [
      "52363.84034156799\n",
      "Each span has 5000 elements\n",
      "-0.026588965997902735\n",
      "DOF 3000006\n",
      "\n",
      "\n"
     ]
    }
   ],
   "source": [
    "f(5000,100)"
   ]
  },
  {
   "cell_type": "code",
   "execution_count": 4,
   "id": "ff32d52a",
   "metadata": {},
   "outputs": [
    {
     "name": "stdout",
     "output_type": "stream",
     "text": [
      "48440.19079208374\n",
      "Each span has 5000 elements\n",
      "-0.026588965997902735\n",
      "DOF 3000006\n",
      "\n",
      "\n"
     ]
    }
   ],
   "source": [
    "f(5000,100)"
   ]
  },
  {
   "cell_type": "code",
   "execution_count": 7,
   "id": "d75a5216",
   "metadata": {
    "scrolled": true
   },
   "outputs": [
    {
     "name": "stdout",
     "output_type": "stream",
     "text": [
      "Each span has 5500 elements\n",
      "47205.3005695343\n",
      "-0.043113729791644906\n",
      "DOF 3300006\n",
      "\n",
      "\n"
     ]
    }
   ],
   "source": [
    "f(5500,100)"
   ]
  },
  {
   "cell_type": "code",
   "execution_count": 8,
   "id": "97765fcd",
   "metadata": {},
   "outputs": [
    {
     "name": "stdout",
     "output_type": "stream",
     "text": [
      "Each span has 5500 elements\n",
      "44563.1537437439\n",
      "-0.043113729791644906\n",
      "DOF 3300006\n",
      "\n",
      "\n"
     ]
    }
   ],
   "source": [
    "f(5500,100)"
   ]
  },
  {
   "cell_type": "code",
   "execution_count": 9,
   "id": "aa33c709",
   "metadata": {},
   "outputs": [
    {
     "name": "stdout",
     "output_type": "stream",
     "text": [
      "Each span has 6000 elements\n",
      "52306.108474731445\n",
      "-0.024635811647138267\n",
      "DOF 3600006\n",
      "\n",
      "\n"
     ]
    }
   ],
   "source": [
    "f(6000,100)"
   ]
  },
  {
   "cell_type": "code",
   "execution_count": 10,
   "id": "eb9c44f2",
   "metadata": {},
   "outputs": [
    {
     "name": "stdout",
     "output_type": "stream",
     "text": [
      "Each span has 6000 elements\n",
      "48510.23578643799\n",
      "-0.024635811647138267\n",
      "DOF 3600006\n",
      "\n",
      "\n"
     ]
    }
   ],
   "source": [
    "f(6000,100)"
   ]
  },
  {
   "cell_type": "code",
   "execution_count": null,
   "id": "c861682b",
   "metadata": {},
   "outputs": [],
   "source": [
    "f(7000,100)"
   ]
  },
  {
   "cell_type": "code",
   "execution_count": null,
   "id": "f52ba18e",
   "metadata": {},
   "outputs": [],
   "source": [
    "f(7000,100)"
   ]
  },
  {
   "cell_type": "code",
   "execution_count": null,
   "id": "c70f960c",
   "metadata": {},
   "outputs": [],
   "source": [
    "f(7000,100)"
   ]
  },
  {
   "cell_type": "code",
   "execution_count": null,
   "id": "58824702",
   "metadata": {},
   "outputs": [],
   "source": [
    "f(7000,100)"
   ]
  },
  {
   "cell_type": "code",
   "execution_count": null,
   "id": "1e5e3074",
   "metadata": {},
   "outputs": [],
   "source": [
    "f(7500,100)"
   ]
  },
  {
   "cell_type": "code",
   "execution_count": null,
   "id": "414ddc38",
   "metadata": {},
   "outputs": [],
   "source": [
    "f(7500,100)"
   ]
  },
  {
   "cell_type": "code",
   "execution_count": null,
   "id": "a105e7e7",
   "metadata": {
    "scrolled": false
   },
   "outputs": [],
   "source": [
    "for i in np.arange(5000,8000,500,dtype=int):\n",
    "    f(i,100)"
   ]
  },
  {
   "cell_type": "code",
   "execution_count": null,
   "id": "80da00b7",
   "metadata": {
    "scrolled": false
   },
   "outputs": [
    {
     "name": "stdout",
     "output_type": "stream",
     "text": [
      "Each span has 5000 elements\n",
      "42733.12544822693\n",
      "-0.026588965997902735\n",
      "DOF 3000006\n",
      "\n",
      "\n",
      "Each span has 5500 elements\n",
      "48637.33124732971\n",
      "-0.043113729791644906\n",
      "DOF 3300006\n",
      "\n",
      "\n",
      "Each span has 6000 elements\n",
      "50274.02663230896\n",
      "-0.024635811647138267\n",
      "DOF 3600006\n",
      "\n",
      "\n"
     ]
    }
   ],
   "source": [
    "for i in np.arange(5000,8000,500,dtype=int):\n",
    "    f(i,100)"
   ]
  },
  {
   "cell_type": "code",
   "execution_count": 3,
   "id": "3c2a37e2",
   "metadata": {},
   "outputs": [
    {
     "name": "stdout",
     "output_type": "stream",
     "text": [
      "Each span has 2 elements\n",
      "1991.4038181304932\n",
      "-0.017179737345083983\n",
      "DOF 1206\n",
      "\n",
      "\n",
      "Each span has 4 elements\n",
      "1909.1417789459229\n",
      "-0.011417793341195193\n",
      "DOF 2406\n",
      "\n",
      "\n",
      "Each span has 6 elements\n",
      "2022.9525566101074\n",
      "-0.010296440412531638\n",
      "DOF 3606\n",
      "\n",
      "\n",
      "Each span has 8 elements\n",
      "2002.5877952575684\n",
      "-0.009814990433227422\n",
      "DOF 4806\n",
      "\n",
      "\n",
      "Each span has 10 elements\n",
      "2158.445358276367\n",
      "-0.009546616991002566\n",
      "DOF 6006\n",
      "\n",
      "\n",
      "Each span has 20 elements\n",
      "2221.301317214966\n",
      "-0.009049784595929474\n",
      "DOF 12006\n",
      "\n",
      "\n",
      "Each span has 30 elements\n",
      "2404.510021209717\n",
      "-0.008894804889662242\n",
      "DOF 18006\n",
      "\n",
      "\n",
      "Each span has 80 elements\n",
      "2785.4163646698\n",
      "-0.00870787491173448\n",
      "DOF 48006\n",
      "\n",
      "\n",
      "Each span has 120 elements\n",
      "3105.5312156677246\n",
      "-0.00867135466886577\n",
      "DOF 72006\n",
      "\n",
      "\n",
      "Each span has 240 elements\n",
      "4081.80832862854\n",
      "-0.008635167951444707\n",
      "DOF 144006\n",
      "\n",
      "\n"
     ]
    }
   ],
   "source": [
    "for i in [2,4,6,8,10,20,30,80,120,240]:\n",
    "    f(i,100)"
   ]
  },
  {
   "cell_type": "code",
   "execution_count": 4,
   "id": "a0321923",
   "metadata": {},
   "outputs": [
    {
     "name": "stdout",
     "output_type": "stream",
     "text": [
      "Each span has 2 elements\n",
      "28.844594955444336\n",
      "-0.017179737345083983\n",
      "DOF 1206\n",
      "\n",
      "\n",
      "Each span has 4 elements\n",
      "39.71505165100098\n",
      "-0.011417793341195193\n",
      "DOF 2406\n",
      "\n",
      "\n",
      "Each span has 6 elements\n",
      "50.53067207336426\n",
      "-0.010296440412531638\n",
      "DOF 3606\n",
      "\n",
      "\n",
      "Each span has 8 elements\n",
      "64.65029716491699\n",
      "-0.009814990433227422\n",
      "DOF 4806\n",
      "\n",
      "\n",
      "Each span has 10 elements\n",
      "77.44240760803223\n",
      "-0.009546616991002566\n",
      "DOF 6006\n",
      "\n",
      "\n",
      "Each span has 20 elements\n",
      "142.73881912231445\n",
      "-0.009049784595929474\n",
      "DOF 12006\n",
      "\n",
      "\n",
      "Each span has 30 elements\n",
      "203.3371925354004\n",
      "-0.008894804889662242\n",
      "DOF 18006\n",
      "\n",
      "\n",
      "Each span has 80 elements\n",
      "547.3511219024658\n",
      "-0.00870787491173448\n",
      "DOF 48006\n",
      "\n",
      "\n",
      "Each span has 120 elements\n",
      "813.2503032684326\n",
      "-0.00867135466886577\n",
      "DOF 72006\n",
      "\n",
      "\n",
      "Each span has 240 elements\n",
      "1666.2395000457764\n",
      "-0.008635167951444707\n",
      "DOF 144006\n",
      "\n",
      "\n"
     ]
    }
   ],
   "source": [
    "for i in [2,4,6,8,10,20,30,80,120,240]:\n",
    "    f(i,100)"
   ]
  },
  {
   "cell_type": "code",
   "execution_count": null,
   "id": "6d0f50e2",
   "metadata": {},
   "outputs": [],
   "source": [
    "f(5000,100)"
   ]
  },
  {
   "cell_type": "code",
   "execution_count": null,
   "id": "e9d45b8e",
   "metadata": {},
   "outputs": [],
   "source": [
    "f(4000,100)"
   ]
  },
  {
   "cell_type": "code",
   "execution_count": null,
   "id": "7a575a54",
   "metadata": {},
   "outputs": [],
   "source": [
    "f(5000,100)"
   ]
  },
  {
   "cell_type": "code",
   "execution_count": null,
   "id": "b70b0076",
   "metadata": {},
   "outputs": [],
   "source": [
    "f(6000,100)"
   ]
  },
  {
   "cell_type": "code",
   "execution_count": null,
   "id": "0574ce14",
   "metadata": {},
   "outputs": [],
   "source": [
    "    #Sectional properties-> 600x400 rectangle\n",
    "'''    %matplotlib inline\n",
    "    fig = plt.figure(figsize=(10,5))\n",
    "    ax = fig.add_subplot()\n",
    "    ax.tick_params(labelsize=20)\n",
    "    ax.set_ylim(-0.5,5.5)\n",
    "    ax.set_xlabel('X (m)',fontsize=24)\n",
    "    ax.set_ylabel('Z (m)',fontsize=24)\n",
    "    #Plot a basic wireframe.\n",
    "    for i in range(n_ele):\n",
    "      ax.plot([x_ele[i,0],x_ele[i,1]],[z_ele[i,0],z_ele[i,1]],color='darkcyan')\n",
    "\n",
    "    plt.scatter(x_nodes[non_design_nodes],z_nodes[non_design_nodes],color='black',alpha=0.8,label='Fixed nodes',s=40)\n",
    "    plt.scatter(x_nodes[non_design_nodes],z_nodes[non_design_nodes]-0.2, s=150, facecolors='none', edgecolors='black',marker='^')\n",
    "    ax.scatter(x_nodes[design_nodes],z_nodes[design_nodes],color='blue',alpha=0.4,s=40)\n",
    "\n",
    "    plt.legend(fontsize=20, loc='best')\n",
    "    plt.show()'''"
   ]
  },
  {
   "cell_type": "code",
   "execution_count": null,
   "id": "1a426237",
   "metadata": {},
   "outputs": [],
   "source": [
    "! nvidia-smi"
   ]
  },
  {
   "cell_type": "code",
   "execution_count": null,
   "id": "0a7269b3",
   "metadata": {},
   "outputs": [],
   "source": [
    "! lscpu"
   ]
  },
  {
   "cell_type": "code",
   "execution_count": 1,
   "id": "d7ca22ad",
   "metadata": {
    "scrolled": true
   },
   "outputs": [],
   "source": [
    "\n",
    "\n",
    "dof_list = [1206,\n",
    "2406\n",
    ",3606\n",
    ",4806\n",
    ",6006\n",
    ",12006\n",
    ",18006\n",
    ",48006\n",
    ",72006\n",
    ",144006\n",
    ",300006\n",
    ",900006\n",
    ",1500006\n",
    ",2100006\n",
    ",2700006\n",
    ",3300006\n",
    ",3900006\n",
    ",4500006\n",
    "]\n",
    "\n",
    "t_cpu_gpu_scipy_sparse = [26.80158615\n",
    ",26.85475349\n",
    ",28.10454369\n",
    ",28.65839005\n",
    ",29.90174294\n",
    ",38.20037842\n",
    ",43.90907288\n",
    ",72.21412659\n",
    ",95.37506104\n",
    ",169.6438789\n",
    ",354.0792465\n",
    ",1061.2607\n",
    ",1786.422729\n",
    ",2505.179644\n",
    ",3183.793783\n",
    ",3923.070908\n",
    ",4590.023279\n",
    "\n",
    "]\n",
    "\n",
    "t_cpu_cpu_scipy_sparse = [28.84459496\n",
    ",39.71505165\n",
    ",50.53067207\n",
    ",64.65029716\n",
    ",77.44240761\n",
    ",142.7388191\n",
    ",203.3371925\n",
    ",547.3511219\n",
    ",813.2503033\n",
    ",1666.2395\n",
    ",3605.407953\n",
    ",11381.50024\n",
    ",19511.83987\n",
    ",27328.36199\n",
    ",36326.68924\n",
    ",44563.15374\n",
    ",52844.62237\n",
    "\n",
    "]\n",
    "\n",
    "\n",
    "\n",
    "t_gpu_jax_sparse = [22.90940285\n",
    ",35.36581993\n",
    ",48.22063446\n",
    ",60.98365784\n",
    ",75.30593872\n",
    ",144.3254948\n",
    ",214.0576839\n",
    ",580.2044868\n",
    ",878.8969517\n",
    ",1778.265238\n",
    ",3697.456837\n",
    ",11154.02675\n",
    ",18718.85443\n",
    ",26133.71921\n",
    ",33702.44122\n",
    ",41231.90761\n",
    ",48718.21713\n",
    ",56263.8607\n",
    "\n",
    "]\n",
    "t_gpu_dense = [\n",
    "6.198406219\n",
    ",5.977869034\n",
    ",6.488084793\n",
    ",6.350517273\n",
    ",6.516933441\n",
    ",94.7945118\n",
    ",314.2032623\n",
    "\n",
    "]\n",
    "\n",
    "t_cpu_dense = [40.0724411\n",
    ",96.37999535\n",
    ",166.7172909\n",
    ",271.4776993\n",
    ",430.1831722\n",
    ",1766.393423\n",
    ",4517.920256\n",
    ",60402.8945\n",
    "\n",
    "]\n",
    "\n",
    "nested =[t_cpu_gpu_scipy_sparse,t_cpu_cpu_scipy_sparse,t_gpu_jax_sparse,t_gpu_dense,t_cpu_dense]"
   ]
  },
  {
   "cell_type": "code",
   "execution_count": 9,
   "id": "c9cf1011",
   "metadata": {},
   "outputs": [
    {
     "data": {
      "image/png": "[encoded data removed]",
      "text/plain": [
       "<Figure size 700x700 with 1 Axes>"
      ]
     },
     "metadata": {},
     "output_type": "display_data"
    }
   ],
   "source": [
    "import numpy as np\n",
    "import matplotlib.pyplot as plt\n",
    "\n",
    "\n",
    "# Labels for the bars\n",
    "labels = ['Scipy-sparse(CPU & GPU)', 'Scipy-sparse(CPU)','JAX-sparse(GPU)', 'Dense(GPU)','Dense(CPU)']\n",
    "colors = ['black','black','blue','red','red']\n",
    "linestyles = ['solid','dashed','solid','solid','dashed' ]\n",
    "\n",
    "\n",
    "# Create figure and axis objects\n",
    "fig, ax1 = plt.subplots(figsize=(7,7))\n",
    "\n",
    "# Create the first bar plot for strain energy on the first axis\n",
    "for i in range (5):\n",
    "    y = np.array(nested[i])/1000\n",
    "    x = dof_list[:len(y)]\n",
    "    ax1.plot(x,y,label = labels[i],linestyle = linestyles[i],color = colors[i])\n",
    "    ax1.scatter(x,y,color = colors[i],s=50)\n",
    "ax1.set_ylabel(r'FEA Time (s)',fontsize=18)\n",
    "ax1.set_xlabel(r'Degrees of Freedom (DOF)',fontsize=18)\n",
    "ax1.set_yscale('log')\n",
    "ax1.set_xscale('log')\n",
    "plt.xticks(fontsize=15)\n",
    "plt.yticks(fontsize=15)\n",
    "ax1.set_xlim(1e03,1e07)\n",
    "ax1.set_ylim(1e-3,1e02)\n",
    "\n",
    "\n",
    "# Add legend\n",
    "fig.legend(loc=(0.43,0.15),fontsize=15)\n",
    "\n",
    "# Show plot\n",
    "#plt.title('Validation: 3D barrel arch with shell elements')\n",
    "plt.show()"
   ]
  },
  {
   "cell_type": "code",
   "execution_count": null,
   "id": "cf6d167c",
   "metadata": {},
   "outputs": [],
   "source": []
  }
 ],
 "metadata": {
  "kernelspec": {
   "display_name": "jax-new [~/.conda/envs/jax-new/]",
   "language": "python",
   "name": "conda_jax-new"
  },
  "language_info": {
   "codemirror_mode": {
    "name": "ipython",
    "version": 3
   },
   "file_extension": ".py",
   "mimetype": "text/x-python",
   "name": "python",
   "nbconvert_exporter": "python",
   "pygments_lexer": "ipython3",
   "version": "3.12.1"
  }
 },
 "nbformat": 4,
 "nbformat_minor": 5
}
